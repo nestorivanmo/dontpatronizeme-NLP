{
 "cells": [
  {
   "cell_type": "markdown",
   "id": "portuguese-structure",
   "metadata": {},
   "source": [
    "# Data Exploration \n",
    "\n",
    "**Dataset**: Detecting Patronizing and Condescending Language"
   ]
  },
  {
   "cell_type": "code",
   "execution_count": 358,
   "id": "certified-camel",
   "metadata": {},
   "outputs": [],
   "source": [
    "import numpy as np\n",
    "import pandas as pd\n",
    "import plotly.graph_objects as go\n",
    "from plotly.subplots import make_subplots\n",
    "import plotly.figure_factory as ff\n",
    "import country_converter as coco"
   ]
  },
  {
   "cell_type": "code",
   "execution_count": 204,
   "id": "secret-paste",
   "metadata": {},
   "outputs": [],
   "source": [
    "CATEGORIES_DATA_PATH = \"../data/dontpatronizeme_v1.4/dontpatronizeme_categories.tsv\"\n",
    "SINGLE_DATA_PATH = \"../data/dontpatronizeme_v1.4/dontpatronizeme_pcl.tsv\"\n",
    "\n",
    "TEMPLATE='plotly_white'\n",
    "\n",
    "BLUE_COLOR = \"#37689e\"\n",
    "TURQUOISE_COLOR = \"#4bb4c8\"\n",
    "LIGHT_BLUE_COLOR = \"#9bbdcf\"\n",
    "YELLOW_COLOR = \"#e49a21\"\n",
    "LIGHT_YELLOW_COLOR = \"#f2c576\"\n",
    "RED_COLOR = \"#da2f20\"\n",
    "LIGHT_RED_COLOR = \"#e66f4b\""
   ]
  },
  {
   "cell_type": "code",
   "execution_count": 16,
   "id": "accomplished-battlefield",
   "metadata": {},
   "outputs": [
    {
     "data": {
      "text/html": [
       "<div>\n",
       "<style scoped>\n",
       "    .dataframe tbody tr th:only-of-type {\n",
       "        vertical-align: middle;\n",
       "    }\n",
       "\n",
       "    .dataframe tbody tr th {\n",
       "        vertical-align: top;\n",
       "    }\n",
       "\n",
       "    .dataframe thead th {\n",
       "        text-align: right;\n",
       "    }\n",
       "</style>\n",
       "<table border=\"1\" class=\"dataframe\">\n",
       "  <thead>\n",
       "    <tr style=\"text-align: right;\">\n",
       "      <th></th>\n",
       "      <th>par_id</th>\n",
       "      <th>keyword</th>\n",
       "      <th>country_code</th>\n",
       "      <th>text</th>\n",
       "      <th>label</th>\n",
       "    </tr>\n",
       "  </thead>\n",
       "  <tbody>\n",
       "    <tr>\n",
       "      <th>0</th>\n",
       "      <td>1</td>\n",
       "      <td>hopeless</td>\n",
       "      <td>ph</td>\n",
       "      <td>We 're living in times of absolute insanity , ...</td>\n",
       "      <td>0</td>\n",
       "    </tr>\n",
       "    <tr>\n",
       "      <th>1</th>\n",
       "      <td>2</td>\n",
       "      <td>migrant</td>\n",
       "      <td>gh</td>\n",
       "      <td>In Libya today , there are countless number of...</td>\n",
       "      <td>0</td>\n",
       "    </tr>\n",
       "    <tr>\n",
       "      <th>2</th>\n",
       "      <td>3</td>\n",
       "      <td>immigrant</td>\n",
       "      <td>ie</td>\n",
       "      <td>White House press secretary Sean Spicer said t...</td>\n",
       "      <td>0</td>\n",
       "    </tr>\n",
       "    <tr>\n",
       "      <th>3</th>\n",
       "      <td>4</td>\n",
       "      <td>disabled</td>\n",
       "      <td>nz</td>\n",
       "      <td>Council customers only signs would be displaye...</td>\n",
       "      <td>0</td>\n",
       "    </tr>\n",
       "    <tr>\n",
       "      <th>4</th>\n",
       "      <td>5</td>\n",
       "      <td>refugee</td>\n",
       "      <td>ca</td>\n",
       "      <td>\" Just like we received migrants fleeing El Sa...</td>\n",
       "      <td>0</td>\n",
       "    </tr>\n",
       "  </tbody>\n",
       "</table>\n",
       "</div>"
      ],
      "text/plain": [
       "   par_id    keyword country_code  \\\n",
       "0       1   hopeless           ph   \n",
       "1       2    migrant           gh   \n",
       "2       3  immigrant           ie   \n",
       "3       4   disabled           nz   \n",
       "4       5    refugee           ca   \n",
       "\n",
       "                                                text  label  \n",
       "0  We 're living in times of absolute insanity , ...      0  \n",
       "1  In Libya today , there are countless number of...      0  \n",
       "2  White House press secretary Sean Spicer said t...      0  \n",
       "3  Council customers only signs would be displaye...      0  \n",
       "4  \" Just like we received migrants fleeing El Sa...      0  "
      ]
     },
     "execution_count": 16,
     "metadata": {},
     "output_type": "execute_result"
    }
   ],
   "source": [
    "binary_df = pd.read_csv(\n",
    "    SINGLE_DATA_PATH,\n",
    "    skiprows=4,\n",
    "    sep='\\t',\n",
    "    names=[\"par_id\", \"art_id\", \"keyword\", \"country_code\",\"text\",\"label\"],\n",
    ")\n",
    "binary_df = binary_df.dropna()\n",
    "del binary_df['art_id']\n",
    "binary_df[\"label\"] = binary_df[\"label\"].transform(lambda x: 0 if x <= 1 else 1)\n",
    "binary_df.head()"
   ]
  },
  {
   "cell_type": "markdown",
   "id": "happy-integrity",
   "metadata": {},
   "source": [
    "## Label analysis"
   ]
  },
  {
   "cell_type": "code",
   "execution_count": 206,
   "id": "divided-deputy",
   "metadata": {},
   "outputs": [
    {
     "data": {
      "application/vnd.plotly.v1+json": {
       "config": {
        "plotlyServerURL": "https://plotly.com"
       },
       "data": [
        {
         "domain": {
          "x": [
           0,
           0.45
          ],
          "y": [
           0,
           1
          ]
         },
         "hole": 0.4,
         "labels": [
          "No PCL",
          "PCL"
         ],
         "marker": {
          "colors": [
           "#9bbdcf",
           "#e66f4b"
          ]
         },
         "type": "pie",
         "values": [
          9475,
          993
         ]
        },
        {
         "marker": {
          "color": [
           "#9bbdcf",
           "#e66f4b"
          ]
         },
         "text": [
          9475,
          993
         ],
         "textfont": {
          "color": "white"
         },
         "type": "bar",
         "x": [
          "No PCL",
          "PCL"
         ],
         "xaxis": "x",
         "y": [
          9475,
          993
         ],
         "yaxis": "y"
        }
       ],
       "layout": {
        "showlegend": false,
        "template": {
         "data": {
          "bar": [
           {
            "error_x": {
             "color": "#2a3f5f"
            },
            "error_y": {
             "color": "#2a3f5f"
            },
            "marker": {
             "line": {
              "color": "white",
              "width": 0.5
             }
            },
            "type": "bar"
           }
          ],
          "barpolar": [
           {
            "marker": {
             "line": {
              "color": "white",
              "width": 0.5
             }
            },
            "type": "barpolar"
           }
          ],
          "carpet": [
           {
            "aaxis": {
             "endlinecolor": "#2a3f5f",
             "gridcolor": "#C8D4E3",
             "linecolor": "#C8D4E3",
             "minorgridcolor": "#C8D4E3",
             "startlinecolor": "#2a3f5f"
            },
            "baxis": {
             "endlinecolor": "#2a3f5f",
             "gridcolor": "#C8D4E3",
             "linecolor": "#C8D4E3",
             "minorgridcolor": "#C8D4E3",
             "startlinecolor": "#2a3f5f"
            },
            "type": "carpet"
           }
          ],
          "choropleth": [
           {
            "colorbar": {
             "outlinewidth": 0,
             "ticks": ""
            },
            "type": "choropleth"
           }
          ],
          "contour": [
           {
            "colorbar": {
             "outlinewidth": 0,
             "ticks": ""
            },
            "colorscale": [
             [
              0,
              "#0d0887"
             ],
             [
              0.1111111111111111,
              "#46039f"
             ],
             [
              0.2222222222222222,
              "#7201a8"
             ],
             [
              0.3333333333333333,
              "#9c179e"
             ],
             [
              0.4444444444444444,
              "#bd3786"
             ],
             [
              0.5555555555555556,
              "#d8576b"
             ],
             [
              0.6666666666666666,
              "#ed7953"
             ],
             [
              0.7777777777777778,
              "#fb9f3a"
             ],
             [
              0.8888888888888888,
              "#fdca26"
             ],
             [
              1,
              "#f0f921"
             ]
            ],
            "type": "contour"
           }
          ],
          "contourcarpet": [
           {
            "colorbar": {
             "outlinewidth": 0,
             "ticks": ""
            },
            "type": "contourcarpet"
           }
          ],
          "heatmap": [
           {
            "colorbar": {
             "outlinewidth": 0,
             "ticks": ""
            },
            "colorscale": [
             [
              0,
              "#0d0887"
             ],
             [
              0.1111111111111111,
              "#46039f"
             ],
             [
              0.2222222222222222,
              "#7201a8"
             ],
             [
              0.3333333333333333,
              "#9c179e"
             ],
             [
              0.4444444444444444,
              "#bd3786"
             ],
             [
              0.5555555555555556,
              "#d8576b"
             ],
             [
              0.6666666666666666,
              "#ed7953"
             ],
             [
              0.7777777777777778,
              "#fb9f3a"
             ],
             [
              0.8888888888888888,
              "#fdca26"
             ],
             [
              1,
              "#f0f921"
             ]
            ],
            "type": "heatmap"
           }
          ],
          "heatmapgl": [
           {
            "colorbar": {
             "outlinewidth": 0,
             "ticks": ""
            },
            "colorscale": [
             [
              0,
              "#0d0887"
             ],
             [
              0.1111111111111111,
              "#46039f"
             ],
             [
              0.2222222222222222,
              "#7201a8"
             ],
             [
              0.3333333333333333,
              "#9c179e"
             ],
             [
              0.4444444444444444,
              "#bd3786"
             ],
             [
              0.5555555555555556,
              "#d8576b"
             ],
             [
              0.6666666666666666,
              "#ed7953"
             ],
             [
              0.7777777777777778,
              "#fb9f3a"
             ],
             [
              0.8888888888888888,
              "#fdca26"
             ],
             [
              1,
              "#f0f921"
             ]
            ],
            "type": "heatmapgl"
           }
          ],
          "histogram": [
           {
            "marker": {
             "colorbar": {
              "outlinewidth": 0,
              "ticks": ""
             }
            },
            "type": "histogram"
           }
          ],
          "histogram2d": [
           {
            "colorbar": {
             "outlinewidth": 0,
             "ticks": ""
            },
            "colorscale": [
             [
              0,
              "#0d0887"
             ],
             [
              0.1111111111111111,
              "#46039f"
             ],
             [
              0.2222222222222222,
              "#7201a8"
             ],
             [
              0.3333333333333333,
              "#9c179e"
             ],
             [
              0.4444444444444444,
              "#bd3786"
             ],
             [
              0.5555555555555556,
              "#d8576b"
             ],
             [
              0.6666666666666666,
              "#ed7953"
             ],
             [
              0.7777777777777778,
              "#fb9f3a"
             ],
             [
              0.8888888888888888,
              "#fdca26"
             ],
             [
              1,
              "#f0f921"
             ]
            ],
            "type": "histogram2d"
           }
          ],
          "histogram2dcontour": [
           {
            "colorbar": {
             "outlinewidth": 0,
             "ticks": ""
            },
            "colorscale": [
             [
              0,
              "#0d0887"
             ],
             [
              0.1111111111111111,
              "#46039f"
             ],
             [
              0.2222222222222222,
              "#7201a8"
             ],
             [
              0.3333333333333333,
              "#9c179e"
             ],
             [
              0.4444444444444444,
              "#bd3786"
             ],
             [
              0.5555555555555556,
              "#d8576b"
             ],
             [
              0.6666666666666666,
              "#ed7953"
             ],
             [
              0.7777777777777778,
              "#fb9f3a"
             ],
             [
              0.8888888888888888,
              "#fdca26"
             ],
             [
              1,
              "#f0f921"
             ]
            ],
            "type": "histogram2dcontour"
           }
          ],
          "mesh3d": [
           {
            "colorbar": {
             "outlinewidth": 0,
             "ticks": ""
            },
            "type": "mesh3d"
           }
          ],
          "parcoords": [
           {
            "line": {
             "colorbar": {
              "outlinewidth": 0,
              "ticks": ""
             }
            },
            "type": "parcoords"
           }
          ],
          "pie": [
           {
            "automargin": true,
            "type": "pie"
           }
          ],
          "scatter": [
           {
            "marker": {
             "colorbar": {
              "outlinewidth": 0,
              "ticks": ""
             }
            },
            "type": "scatter"
           }
          ],
          "scatter3d": [
           {
            "line": {
             "colorbar": {
              "outlinewidth": 0,
              "ticks": ""
             }
            },
            "marker": {
             "colorbar": {
              "outlinewidth": 0,
              "ticks": ""
             }
            },
            "type": "scatter3d"
           }
          ],
          "scattercarpet": [
           {
            "marker": {
             "colorbar": {
              "outlinewidth": 0,
              "ticks": ""
             }
            },
            "type": "scattercarpet"
           }
          ],
          "scattergeo": [
           {
            "marker": {
             "colorbar": {
              "outlinewidth": 0,
              "ticks": ""
             }
            },
            "type": "scattergeo"
           }
          ],
          "scattergl": [
           {
            "marker": {
             "colorbar": {
              "outlinewidth": 0,
              "ticks": ""
             }
            },
            "type": "scattergl"
           }
          ],
          "scattermapbox": [
           {
            "marker": {
             "colorbar": {
              "outlinewidth": 0,
              "ticks": ""
             }
            },
            "type": "scattermapbox"
           }
          ],
          "scatterpolar": [
           {
            "marker": {
             "colorbar": {
              "outlinewidth": 0,
              "ticks": ""
             }
            },
            "type": "scatterpolar"
           }
          ],
          "scatterpolargl": [
           {
            "marker": {
             "colorbar": {
              "outlinewidth": 0,
              "ticks": ""
             }
            },
            "type": "scatterpolargl"
           }
          ],
          "scatterternary": [
           {
            "marker": {
             "colorbar": {
              "outlinewidth": 0,
              "ticks": ""
             }
            },
            "type": "scatterternary"
           }
          ],
          "surface": [
           {
            "colorbar": {
             "outlinewidth": 0,
             "ticks": ""
            },
            "colorscale": [
             [
              0,
              "#0d0887"
             ],
             [
              0.1111111111111111,
              "#46039f"
             ],
             [
              0.2222222222222222,
              "#7201a8"
             ],
             [
              0.3333333333333333,
              "#9c179e"
             ],
             [
              0.4444444444444444,
              "#bd3786"
             ],
             [
              0.5555555555555556,
              "#d8576b"
             ],
             [
              0.6666666666666666,
              "#ed7953"
             ],
             [
              0.7777777777777778,
              "#fb9f3a"
             ],
             [
              0.8888888888888888,
              "#fdca26"
             ],
             [
              1,
              "#f0f921"
             ]
            ],
            "type": "surface"
           }
          ],
          "table": [
           {
            "cells": {
             "fill": {
              "color": "#EBF0F8"
             },
             "line": {
              "color": "white"
             }
            },
            "header": {
             "fill": {
              "color": "#C8D4E3"
             },
             "line": {
              "color": "white"
             }
            },
            "type": "table"
           }
          ]
         },
         "layout": {
          "annotationdefaults": {
           "arrowcolor": "#2a3f5f",
           "arrowhead": 0,
           "arrowwidth": 1
          },
          "autotypenumbers": "strict",
          "coloraxis": {
           "colorbar": {
            "outlinewidth": 0,
            "ticks": ""
           }
          },
          "colorscale": {
           "diverging": [
            [
             0,
             "#8e0152"
            ],
            [
             0.1,
             "#c51b7d"
            ],
            [
             0.2,
             "#de77ae"
            ],
            [
             0.3,
             "#f1b6da"
            ],
            [
             0.4,
             "#fde0ef"
            ],
            [
             0.5,
             "#f7f7f7"
            ],
            [
             0.6,
             "#e6f5d0"
            ],
            [
             0.7,
             "#b8e186"
            ],
            [
             0.8,
             "#7fbc41"
            ],
            [
             0.9,
             "#4d9221"
            ],
            [
             1,
             "#276419"
            ]
           ],
           "sequential": [
            [
             0,
             "#0d0887"
            ],
            [
             0.1111111111111111,
             "#46039f"
            ],
            [
             0.2222222222222222,
             "#7201a8"
            ],
            [
             0.3333333333333333,
             "#9c179e"
            ],
            [
             0.4444444444444444,
             "#bd3786"
            ],
            [
             0.5555555555555556,
             "#d8576b"
            ],
            [
             0.6666666666666666,
             "#ed7953"
            ],
            [
             0.7777777777777778,
             "#fb9f3a"
            ],
            [
             0.8888888888888888,
             "#fdca26"
            ],
            [
             1,
             "#f0f921"
            ]
           ],
           "sequentialminus": [
            [
             0,
             "#0d0887"
            ],
            [
             0.1111111111111111,
             "#46039f"
            ],
            [
             0.2222222222222222,
             "#7201a8"
            ],
            [
             0.3333333333333333,
             "#9c179e"
            ],
            [
             0.4444444444444444,
             "#bd3786"
            ],
            [
             0.5555555555555556,
             "#d8576b"
            ],
            [
             0.6666666666666666,
             "#ed7953"
            ],
            [
             0.7777777777777778,
             "#fb9f3a"
            ],
            [
             0.8888888888888888,
             "#fdca26"
            ],
            [
             1,
             "#f0f921"
            ]
           ]
          },
          "colorway": [
           "#636efa",
           "#EF553B",
           "#00cc96",
           "#ab63fa",
           "#FFA15A",
           "#19d3f3",
           "#FF6692",
           "#B6E880",
           "#FF97FF",
           "#FECB52"
          ],
          "font": {
           "color": "#2a3f5f"
          },
          "geo": {
           "bgcolor": "white",
           "lakecolor": "white",
           "landcolor": "white",
           "showlakes": true,
           "showland": true,
           "subunitcolor": "#C8D4E3"
          },
          "hoverlabel": {
           "align": "left"
          },
          "hovermode": "closest",
          "mapbox": {
           "style": "light"
          },
          "paper_bgcolor": "white",
          "plot_bgcolor": "white",
          "polar": {
           "angularaxis": {
            "gridcolor": "#EBF0F8",
            "linecolor": "#EBF0F8",
            "ticks": ""
           },
           "bgcolor": "white",
           "radialaxis": {
            "gridcolor": "#EBF0F8",
            "linecolor": "#EBF0F8",
            "ticks": ""
           }
          },
          "scene": {
           "xaxis": {
            "backgroundcolor": "white",
            "gridcolor": "#DFE8F3",
            "gridwidth": 2,
            "linecolor": "#EBF0F8",
            "showbackground": true,
            "ticks": "",
            "zerolinecolor": "#EBF0F8"
           },
           "yaxis": {
            "backgroundcolor": "white",
            "gridcolor": "#DFE8F3",
            "gridwidth": 2,
            "linecolor": "#EBF0F8",
            "showbackground": true,
            "ticks": "",
            "zerolinecolor": "#EBF0F8"
           },
           "zaxis": {
            "backgroundcolor": "white",
            "gridcolor": "#DFE8F3",
            "gridwidth": 2,
            "linecolor": "#EBF0F8",
            "showbackground": true,
            "ticks": "",
            "zerolinecolor": "#EBF0F8"
           }
          },
          "shapedefaults": {
           "line": {
            "color": "#2a3f5f"
           }
          },
          "ternary": {
           "aaxis": {
            "gridcolor": "#DFE8F3",
            "linecolor": "#A2B1C6",
            "ticks": ""
           },
           "baxis": {
            "gridcolor": "#DFE8F3",
            "linecolor": "#A2B1C6",
            "ticks": ""
           },
           "bgcolor": "white",
           "caxis": {
            "gridcolor": "#DFE8F3",
            "linecolor": "#A2B1C6",
            "ticks": ""
           }
          },
          "title": {
           "x": 0.05
          },
          "xaxis": {
           "automargin": true,
           "gridcolor": "#EBF0F8",
           "linecolor": "#EBF0F8",
           "ticks": "",
           "title": {
            "standoff": 15
           },
           "zerolinecolor": "#EBF0F8",
           "zerolinewidth": 2
          },
          "yaxis": {
           "automargin": true,
           "gridcolor": "#EBF0F8",
           "linecolor": "#EBF0F8",
           "ticks": "",
           "title": {
            "standoff": 15
           },
           "zerolinecolor": "#EBF0F8",
           "zerolinewidth": 2
          }
         }
        },
        "title": {
         "text": "PCL vs. No PCL<br>For each 10 texts, <b>only 1</b> contains PCL"
        },
        "width": 1000,
        "xaxis": {
         "anchor": "y",
         "domain": [
          0.55,
          1
         ]
        },
        "yaxis": {
         "anchor": "x",
         "domain": [
          0,
          1
         ]
        }
       }
      }
     },
     "metadata": {},
     "output_type": "display_data"
    }
   ],
   "source": [
    "labels = [\"No PCL\", \"PCL\"]\n",
    "values = binary_df[\"label\"].value_counts().to_numpy()\n",
    "\n",
    "binary_colors = [LIGHT_BLUE_COLOR, LIGHT_RED_COLOR]\n",
    "\n",
    "fig = make_subplots(rows=1, cols=2, specs=[[{'type':'domain'}, {'type':'xy'}]])\n",
    "fig.add_trace(go.Pie(\n",
    "    labels=labels,\n",
    "    values=values,\n",
    "    marker_colors = binary_colors, hole=0.4, \n",
    "), 1, 1)\n",
    "\n",
    "fig.add_trace(go.Bar(\n",
    "    x=labels,\n",
    "    y=values, marker_color=binary_colors,\n",
    "    text =values, textfont_color='white'\n",
    "), 1, 2)\n",
    "\n",
    "fig.update_layout(\n",
    "    title = dict(text=\"PCL vs. No PCL<br>For each 10 texts, <b>only 1</b> contains PCL\"),\n",
    "    showlegend=False, template=TEMPLATE, width=1000\n",
    ")\n",
    "fig.show()"
   ]
  },
  {
   "cell_type": "markdown",
   "id": "0ba90755",
   "metadata": {},
   "source": [
    "## Keyword analysis"
   ]
  },
  {
   "cell_type": "code",
   "execution_count": 212,
   "id": "f4be5c40",
   "metadata": {},
   "outputs": [
    {
     "data": {
      "application/vnd.plotly.v1+json": {
       "config": {
        "plotlyServerURL": "https://plotly.com"
       },
       "data": [
        {
         "marker": {
          "color": "#9bbdcf"
         },
         "name": "No PCL",
         "orientation": "v",
         "text": [
          0.97,
          0.84,
          0.93,
          0.83,
          0.95,
          0.92,
          0.97,
          0.92,
          0.88,
          0.83
         ],
         "textfont": {
          "color": "white",
          "size": 10
         },
         "textposition": "auto",
         "type": "bar",
         "x": [
          "migrant",
          "in-need",
          "vulnerable",
          "homeless",
          "women",
          "refugee",
          "immigrant",
          "disabled",
          "hopeless",
          "poor-families"
         ],
         "y": [
          1052,
          906,
          1000,
          899,
          1018,
          982,
          1031,
          947,
          881,
          759
         ]
        },
        {
         "marker": {
          "color": "#e66f4b"
         },
         "name": "PCL",
         "orientation": "v",
         "text": [
          0.03,
          0.16,
          0.07,
          0.17,
          0.05,
          0.08,
          0.03,
          0.08,
          0.12,
          0.17
         ],
         "textfont": {
          "color": "black",
          "size": 10
         },
         "textposition": "outside",
         "type": "bar",
         "x": [
          "migrant",
          "in-need",
          "vulnerable",
          "homeless",
          "women",
          "refugee",
          "immigrant",
          "disabled",
          "hopeless",
          "poor-families"
         ],
         "y": [
          36,
          176,
          80,
          178,
          52,
          86,
          30,
          81,
          124,
          150
         ]
        }
       ],
       "layout": {
        "barmode": "stack",
        "template": {
         "data": {
          "bar": [
           {
            "error_x": {
             "color": "#2a3f5f"
            },
            "error_y": {
             "color": "#2a3f5f"
            },
            "marker": {
             "line": {
              "color": "white",
              "width": 0.5
             }
            },
            "type": "bar"
           }
          ],
          "barpolar": [
           {
            "marker": {
             "line": {
              "color": "white",
              "width": 0.5
             }
            },
            "type": "barpolar"
           }
          ],
          "carpet": [
           {
            "aaxis": {
             "endlinecolor": "#2a3f5f",
             "gridcolor": "#C8D4E3",
             "linecolor": "#C8D4E3",
             "minorgridcolor": "#C8D4E3",
             "startlinecolor": "#2a3f5f"
            },
            "baxis": {
             "endlinecolor": "#2a3f5f",
             "gridcolor": "#C8D4E3",
             "linecolor": "#C8D4E3",
             "minorgridcolor": "#C8D4E3",
             "startlinecolor": "#2a3f5f"
            },
            "type": "carpet"
           }
          ],
          "choropleth": [
           {
            "colorbar": {
             "outlinewidth": 0,
             "ticks": ""
            },
            "type": "choropleth"
           }
          ],
          "contour": [
           {
            "colorbar": {
             "outlinewidth": 0,
             "ticks": ""
            },
            "colorscale": [
             [
              0,
              "#0d0887"
             ],
             [
              0.1111111111111111,
              "#46039f"
             ],
             [
              0.2222222222222222,
              "#7201a8"
             ],
             [
              0.3333333333333333,
              "#9c179e"
             ],
             [
              0.4444444444444444,
              "#bd3786"
             ],
             [
              0.5555555555555556,
              "#d8576b"
             ],
             [
              0.6666666666666666,
              "#ed7953"
             ],
             [
              0.7777777777777778,
              "#fb9f3a"
             ],
             [
              0.8888888888888888,
              "#fdca26"
             ],
             [
              1,
              "#f0f921"
             ]
            ],
            "type": "contour"
           }
          ],
          "contourcarpet": [
           {
            "colorbar": {
             "outlinewidth": 0,
             "ticks": ""
            },
            "type": "contourcarpet"
           }
          ],
          "heatmap": [
           {
            "colorbar": {
             "outlinewidth": 0,
             "ticks": ""
            },
            "colorscale": [
             [
              0,
              "#0d0887"
             ],
             [
              0.1111111111111111,
              "#46039f"
             ],
             [
              0.2222222222222222,
              "#7201a8"
             ],
             [
              0.3333333333333333,
              "#9c179e"
             ],
             [
              0.4444444444444444,
              "#bd3786"
             ],
             [
              0.5555555555555556,
              "#d8576b"
             ],
             [
              0.6666666666666666,
              "#ed7953"
             ],
             [
              0.7777777777777778,
              "#fb9f3a"
             ],
             [
              0.8888888888888888,
              "#fdca26"
             ],
             [
              1,
              "#f0f921"
             ]
            ],
            "type": "heatmap"
           }
          ],
          "heatmapgl": [
           {
            "colorbar": {
             "outlinewidth": 0,
             "ticks": ""
            },
            "colorscale": [
             [
              0,
              "#0d0887"
             ],
             [
              0.1111111111111111,
              "#46039f"
             ],
             [
              0.2222222222222222,
              "#7201a8"
             ],
             [
              0.3333333333333333,
              "#9c179e"
             ],
             [
              0.4444444444444444,
              "#bd3786"
             ],
             [
              0.5555555555555556,
              "#d8576b"
             ],
             [
              0.6666666666666666,
              "#ed7953"
             ],
             [
              0.7777777777777778,
              "#fb9f3a"
             ],
             [
              0.8888888888888888,
              "#fdca26"
             ],
             [
              1,
              "#f0f921"
             ]
            ],
            "type": "heatmapgl"
           }
          ],
          "histogram": [
           {
            "marker": {
             "colorbar": {
              "outlinewidth": 0,
              "ticks": ""
             }
            },
            "type": "histogram"
           }
          ],
          "histogram2d": [
           {
            "colorbar": {
             "outlinewidth": 0,
             "ticks": ""
            },
            "colorscale": [
             [
              0,
              "#0d0887"
             ],
             [
              0.1111111111111111,
              "#46039f"
             ],
             [
              0.2222222222222222,
              "#7201a8"
             ],
             [
              0.3333333333333333,
              "#9c179e"
             ],
             [
              0.4444444444444444,
              "#bd3786"
             ],
             [
              0.5555555555555556,
              "#d8576b"
             ],
             [
              0.6666666666666666,
              "#ed7953"
             ],
             [
              0.7777777777777778,
              "#fb9f3a"
             ],
             [
              0.8888888888888888,
              "#fdca26"
             ],
             [
              1,
              "#f0f921"
             ]
            ],
            "type": "histogram2d"
           }
          ],
          "histogram2dcontour": [
           {
            "colorbar": {
             "outlinewidth": 0,
             "ticks": ""
            },
            "colorscale": [
             [
              0,
              "#0d0887"
             ],
             [
              0.1111111111111111,
              "#46039f"
             ],
             [
              0.2222222222222222,
              "#7201a8"
             ],
             [
              0.3333333333333333,
              "#9c179e"
             ],
             [
              0.4444444444444444,
              "#bd3786"
             ],
             [
              0.5555555555555556,
              "#d8576b"
             ],
             [
              0.6666666666666666,
              "#ed7953"
             ],
             [
              0.7777777777777778,
              "#fb9f3a"
             ],
             [
              0.8888888888888888,
              "#fdca26"
             ],
             [
              1,
              "#f0f921"
             ]
            ],
            "type": "histogram2dcontour"
           }
          ],
          "mesh3d": [
           {
            "colorbar": {
             "outlinewidth": 0,
             "ticks": ""
            },
            "type": "mesh3d"
           }
          ],
          "parcoords": [
           {
            "line": {
             "colorbar": {
              "outlinewidth": 0,
              "ticks": ""
             }
            },
            "type": "parcoords"
           }
          ],
          "pie": [
           {
            "automargin": true,
            "type": "pie"
           }
          ],
          "scatter": [
           {
            "marker": {
             "colorbar": {
              "outlinewidth": 0,
              "ticks": ""
             }
            },
            "type": "scatter"
           }
          ],
          "scatter3d": [
           {
            "line": {
             "colorbar": {
              "outlinewidth": 0,
              "ticks": ""
             }
            },
            "marker": {
             "colorbar": {
              "outlinewidth": 0,
              "ticks": ""
             }
            },
            "type": "scatter3d"
           }
          ],
          "scattercarpet": [
           {
            "marker": {
             "colorbar": {
              "outlinewidth": 0,
              "ticks": ""
             }
            },
            "type": "scattercarpet"
           }
          ],
          "scattergeo": [
           {
            "marker": {
             "colorbar": {
              "outlinewidth": 0,
              "ticks": ""
             }
            },
            "type": "scattergeo"
           }
          ],
          "scattergl": [
           {
            "marker": {
             "colorbar": {
              "outlinewidth": 0,
              "ticks": ""
             }
            },
            "type": "scattergl"
           }
          ],
          "scattermapbox": [
           {
            "marker": {
             "colorbar": {
              "outlinewidth": 0,
              "ticks": ""
             }
            },
            "type": "scattermapbox"
           }
          ],
          "scatterpolar": [
           {
            "marker": {
             "colorbar": {
              "outlinewidth": 0,
              "ticks": ""
             }
            },
            "type": "scatterpolar"
           }
          ],
          "scatterpolargl": [
           {
            "marker": {
             "colorbar": {
              "outlinewidth": 0,
              "ticks": ""
             }
            },
            "type": "scatterpolargl"
           }
          ],
          "scatterternary": [
           {
            "marker": {
             "colorbar": {
              "outlinewidth": 0,
              "ticks": ""
             }
            },
            "type": "scatterternary"
           }
          ],
          "surface": [
           {
            "colorbar": {
             "outlinewidth": 0,
             "ticks": ""
            },
            "colorscale": [
             [
              0,
              "#0d0887"
             ],
             [
              0.1111111111111111,
              "#46039f"
             ],
             [
              0.2222222222222222,
              "#7201a8"
             ],
             [
              0.3333333333333333,
              "#9c179e"
             ],
             [
              0.4444444444444444,
              "#bd3786"
             ],
             [
              0.5555555555555556,
              "#d8576b"
             ],
             [
              0.6666666666666666,
              "#ed7953"
             ],
             [
              0.7777777777777778,
              "#fb9f3a"
             ],
             [
              0.8888888888888888,
              "#fdca26"
             ],
             [
              1,
              "#f0f921"
             ]
            ],
            "type": "surface"
           }
          ],
          "table": [
           {
            "cells": {
             "fill": {
              "color": "#EBF0F8"
             },
             "line": {
              "color": "white"
             }
            },
            "header": {
             "fill": {
              "color": "#C8D4E3"
             },
             "line": {
              "color": "white"
             }
            },
            "type": "table"
           }
          ]
         },
         "layout": {
          "annotationdefaults": {
           "arrowcolor": "#2a3f5f",
           "arrowhead": 0,
           "arrowwidth": 1
          },
          "autotypenumbers": "strict",
          "coloraxis": {
           "colorbar": {
            "outlinewidth": 0,
            "ticks": ""
           }
          },
          "colorscale": {
           "diverging": [
            [
             0,
             "#8e0152"
            ],
            [
             0.1,
             "#c51b7d"
            ],
            [
             0.2,
             "#de77ae"
            ],
            [
             0.3,
             "#f1b6da"
            ],
            [
             0.4,
             "#fde0ef"
            ],
            [
             0.5,
             "#f7f7f7"
            ],
            [
             0.6,
             "#e6f5d0"
            ],
            [
             0.7,
             "#b8e186"
            ],
            [
             0.8,
             "#7fbc41"
            ],
            [
             0.9,
             "#4d9221"
            ],
            [
             1,
             "#276419"
            ]
           ],
           "sequential": [
            [
             0,
             "#0d0887"
            ],
            [
             0.1111111111111111,
             "#46039f"
            ],
            [
             0.2222222222222222,
             "#7201a8"
            ],
            [
             0.3333333333333333,
             "#9c179e"
            ],
            [
             0.4444444444444444,
             "#bd3786"
            ],
            [
             0.5555555555555556,
             "#d8576b"
            ],
            [
             0.6666666666666666,
             "#ed7953"
            ],
            [
             0.7777777777777778,
             "#fb9f3a"
            ],
            [
             0.8888888888888888,
             "#fdca26"
            ],
            [
             1,
             "#f0f921"
            ]
           ],
           "sequentialminus": [
            [
             0,
             "#0d0887"
            ],
            [
             0.1111111111111111,
             "#46039f"
            ],
            [
             0.2222222222222222,
             "#7201a8"
            ],
            [
             0.3333333333333333,
             "#9c179e"
            ],
            [
             0.4444444444444444,
             "#bd3786"
            ],
            [
             0.5555555555555556,
             "#d8576b"
            ],
            [
             0.6666666666666666,
             "#ed7953"
            ],
            [
             0.7777777777777778,
             "#fb9f3a"
            ],
            [
             0.8888888888888888,
             "#fdca26"
            ],
            [
             1,
             "#f0f921"
            ]
           ]
          },
          "colorway": [
           "#636efa",
           "#EF553B",
           "#00cc96",
           "#ab63fa",
           "#FFA15A",
           "#19d3f3",
           "#FF6692",
           "#B6E880",
           "#FF97FF",
           "#FECB52"
          ],
          "font": {
           "color": "#2a3f5f"
          },
          "geo": {
           "bgcolor": "white",
           "lakecolor": "white",
           "landcolor": "white",
           "showlakes": true,
           "showland": true,
           "subunitcolor": "#C8D4E3"
          },
          "hoverlabel": {
           "align": "left"
          },
          "hovermode": "closest",
          "mapbox": {
           "style": "light"
          },
          "paper_bgcolor": "white",
          "plot_bgcolor": "white",
          "polar": {
           "angularaxis": {
            "gridcolor": "#EBF0F8",
            "linecolor": "#EBF0F8",
            "ticks": ""
           },
           "bgcolor": "white",
           "radialaxis": {
            "gridcolor": "#EBF0F8",
            "linecolor": "#EBF0F8",
            "ticks": ""
           }
          },
          "scene": {
           "xaxis": {
            "backgroundcolor": "white",
            "gridcolor": "#DFE8F3",
            "gridwidth": 2,
            "linecolor": "#EBF0F8",
            "showbackground": true,
            "ticks": "",
            "zerolinecolor": "#EBF0F8"
           },
           "yaxis": {
            "backgroundcolor": "white",
            "gridcolor": "#DFE8F3",
            "gridwidth": 2,
            "linecolor": "#EBF0F8",
            "showbackground": true,
            "ticks": "",
            "zerolinecolor": "#EBF0F8"
           },
           "zaxis": {
            "backgroundcolor": "white",
            "gridcolor": "#DFE8F3",
            "gridwidth": 2,
            "linecolor": "#EBF0F8",
            "showbackground": true,
            "ticks": "",
            "zerolinecolor": "#EBF0F8"
           }
          },
          "shapedefaults": {
           "line": {
            "color": "#2a3f5f"
           }
          },
          "ternary": {
           "aaxis": {
            "gridcolor": "#DFE8F3",
            "linecolor": "#A2B1C6",
            "ticks": ""
           },
           "baxis": {
            "gridcolor": "#DFE8F3",
            "linecolor": "#A2B1C6",
            "ticks": ""
           },
           "bgcolor": "white",
           "caxis": {
            "gridcolor": "#DFE8F3",
            "linecolor": "#A2B1C6",
            "ticks": ""
           }
          },
          "title": {
           "x": 0.05
          },
          "xaxis": {
           "automargin": true,
           "gridcolor": "#EBF0F8",
           "linecolor": "#EBF0F8",
           "ticks": "",
           "title": {
            "standoff": 15
           },
           "zerolinecolor": "#EBF0F8",
           "zerolinewidth": 2
          },
          "yaxis": {
           "automargin": true,
           "gridcolor": "#EBF0F8",
           "linecolor": "#EBF0F8",
           "ticks": "",
           "title": {
            "standoff": 15
           },
           "zerolinecolor": "#EBF0F8",
           "zerolinewidth": 2
          }
         }
        },
        "title": {
         "font": {
          "size": 14
         },
         "text": "Keywords distribution<br>The corpus contains an <b>equal distribution</b> of news per vulnerable groups"
        }
       }
      }
     },
     "metadata": {},
     "output_type": "display_data"
    }
   ],
   "source": [
    "s = binary_df[\"keyword\"].value_counts()\n",
    "keywords_df = pd.DataFrame({'keyword': s.index, 'frequency': s.values})\n",
    "keywords = []\n",
    "pcl_per_kw = []\n",
    "not_pcl_per_kw = []\n",
    "for keyword in keywords_df[\"keyword\"]:\n",
    "    values = binary_df[binary_df[\"keyword\"] == keyword][\"label\"].value_counts().to_numpy()\n",
    "    keywords.append(keyword)\n",
    "    not_pcl_per_kw.append(values[0])\n",
    "    pcl_per_kw.append(values[1])\n",
    "table_df = pd.DataFrame({'Keyword': keywords, \"No PCL Frequency\": not_pcl_per_kw, \"PCL Frequency\": pcl_per_kw})\n",
    "table_df[\"No PCL Ratio\"] = table_df[\"No PCL Frequency\"] / (table_df[\"No PCL Frequency\"] + table_df[\"PCL Frequency\"])\n",
    "table_df[\"PCL Ratio\"] = table_df[\"PCL Frequency\"] / (table_df[\"No PCL Frequency\"] + table_df[\"PCL Frequency\"])\n",
    "\n",
    "fig = go.Figure()\n",
    "fig.add_trace(go.Bar(\n",
    "    y = table_df[\"No PCL Frequency\"],\n",
    "    x = table_df[\"Keyword\"],\n",
    "    orientation = 'v', marker_color=LIGHT_BLUE_COLOR,\n",
    "    name = 'No PCL', text=np.round(table_df[\"No PCL Ratio\"], 2),\n",
    "    textfont_color='white', textfont_size=10, textposition='auto'\n",
    "))\n",
    "\n",
    "fig.add_trace(go.Bar(\n",
    "    y = table_df[\"PCL Frequency\"],\n",
    "    x = table_df[\"Keyword\"],\n",
    "    orientation = 'v', marker_color=LIGHT_RED_COLOR,\n",
    "    name = 'PCL', text=np.round(table_df[\"PCL Ratio\"], 2),\n",
    "    textfont_color='black', textfont_size=10, textposition='outside'\n",
    "))\n",
    "fig.update_layout(\n",
    "    template=TEMPLATE,\n",
    "    title = dict(\n",
    "        text=\"Keywords distribution<br>The corpus contains an <b>equal distribution</b> of news per vulnerable groups\",\n",
    "        font_size=14\n",
    "    ),\n",
    "    barmode='stack'\n",
    ")\n",
    "fig.show()"
   ]
  },
  {
   "cell_type": "markdown",
   "id": "716f487b",
   "metadata": {},
   "source": [
    "## Country analysis"
   ]
  },
  {
   "cell_type": "code",
   "execution_count": 602,
   "id": "b2d59650",
   "metadata": {},
   "outputs": [],
   "source": [
    "continent_countries = {\n",
    "    'za': 'Africa',\n",
    "    'my': 'Asia',\n",
    "    'ph': 'Asia',\n",
    "    'pk': 'Asia',\n",
    "    'us': 'America',\n",
    "    'au': 'Australia',\n",
    "    'gb': 'Europe',\n",
    "    'ke': 'Africa',\n",
    "    'ng': 'Africa',\n",
    "    'ie': 'Europe',\n",
    "    'sg': 'Asia',\n",
    "    'in': 'Asia',\n",
    "    'ca': 'America',\n",
    "    'gh': 'Africa',\n",
    "    'nz': 'Australia',\n",
    "    'bd': 'Asia',\n",
    "    'lk': 'Asia',\n",
    "    'hk': 'Asia',\n",
    "    'jm': 'America',\n",
    "    'tz': 'Africa',\n",
    "}\n",
    "continents = ['America', 'Africa', 'Asia', 'Europe', 'Australia']"
   ]
  },
  {
   "cell_type": "code",
   "execution_count": 603,
   "id": "ce87836b",
   "metadata": {},
   "outputs": [],
   "source": [
    "num_countries = binary_df[\"country_code\"].value_counts().index.shape[0]\n",
    "countries_short =  binary_df[\"country_code\"].value_counts().index\n",
    "countries = [coco.convert(names=[x], to='short_name') for x in countries_short]\n",
    "NUM_COUNTRIES = 20\n",
    "top_countries = binary_df[\"country_code\"].value_counts()[:NUM_COUNTRIES].index.to_numpy()\n",
    "#top_countries_names = [coco.convert(names=[code], to='short_name') for code in top_countries]\n",
    "keywords = np.array(keywords)\n",
    "pcl_labels = np.array([\"No PCL\", \"PCL\"])\n",
    "\n",
    "labels = list(continents) + list(keywords) + list(pcl_labels)\n",
    "labels_dict = dict()\n",
    "for i, label in enumerate(labels):\n",
    "    labels_dict[label] = i"
   ]
  },
  {
   "cell_type": "code",
   "execution_count": 604,
   "id": "e07b710a",
   "metadata": {},
   "outputs": [],
   "source": [
    "countries_df = binary_df[[\"country_code\", \"keyword\", \"label\"]]\n",
    "countries_series = countries_df.groupby(by=[\"country_code\", \"keyword\", \"label\"])[\"keyword\"].count()\n",
    "\n",
    "sources = []\n",
    "targets = []\n",
    "values = []\n",
    "colors = []\n",
    "\n",
    "pcl_label = labels_dict[\"PCL\"]\n",
    "no_pcl_label = labels_dict[\"No PCL\"]\n",
    "\n",
    "countries_dict = dict()\n",
    "\n",
    "for country in top_countries:\n",
    "    continent_from_country = continent_countries[country]\n",
    "    for kw in keywords:\n",
    "        kw_label = labels_dict[kw]\n",
    "\n",
    "        if countries_series[(country, kw)].shape[0] == 2:\n",
    "            no_pcl = countries_series[(country, kw)][0]\n",
    "            pcl = countries_series[(country, kw)][1]\n",
    "        else:\n",
    "            no_pcl = countries_series[(country, kw)][0]\n",
    "            pcl = 0\n",
    "        \n",
    "        total = no_pcl + pcl\n",
    "        key = (country, kw)\n",
    "        if key not in countries_dict:\n",
    "            countries_dict[key] = 0\n",
    "        countries_dict[key] += total\n",
    "\n",
    "        sources.append(kw_label)\n",
    "        targets.append(no_pcl_label)\n",
    "        values.append(no_pcl)\n",
    "        colors.append(\"#d7ecf7\")\n",
    "\n",
    "        sources.append(kw_label)\n",
    "        targets.append(pcl_label)\n",
    "        values.append(pcl)\n",
    "        colors.append(\"#f9a990\")"
   ]
  },
  {
   "cell_type": "code",
   "execution_count": 605,
   "id": "39fe1971",
   "metadata": {},
   "outputs": [],
   "source": [
    "continents_dict = dict()\n",
    "for (country, keyword) in countries_dict.keys():\n",
    "    continent = continent_countries[country]\n",
    "    key = (continent, keyword)\n",
    "    if key not in continents_dict:\n",
    "        continents_dict[key] = 0\n",
    "    continents_dict[key] += countries_dict[((country, keyword))]"
   ]
  },
  {
   "cell_type": "code",
   "execution_count": 606,
   "id": "3ea32937",
   "metadata": {},
   "outputs": [],
   "source": [
    "for (continent, keyword) in continents_dict.keys():\n",
    "    sources.append(labels_dict[continent])\n",
    "    targets.append(labels_dict[keyword])\n",
    "    values.append(continents_dict[(continent, keyword)])\n",
    "    if continent == \"Asia\": \n",
    "        colors.append(\"#f7d7a3\")\n",
    "    else:\n",
    "        colors.append(\"#d1d1d1\")"
   ]
  },
  {
   "cell_type": "code",
   "execution_count": 607,
   "id": "c3311632",
   "metadata": {},
   "outputs": [
    {
     "data": {
      "application/vnd.plotly.v1+json": {
       "config": {
        "plotlyServerURL": "https://plotly.com"
       },
       "data": [
        {
         "link": {
          "color": [
           "#d7ecf7",
           "#f9a990",
           "#d7ecf7",
           "#f9a990",
           "#d7ecf7",
           "#f9a990",
           "#d7ecf7",
           "#f9a990",
           "#d7ecf7",
           "#f9a990",
           "#d7ecf7",
           "#f9a990",
           "#d7ecf7",
           "#f9a990",
           "#d7ecf7",
           "#f9a990",
           "#d7ecf7",
           "#f9a990",
           "#d7ecf7",
           "#f9a990",
           "#d7ecf7",
           "#f9a990",
           "#d7ecf7",
           "#f9a990",
           "#d7ecf7",
           "#f9a990",
           "#d7ecf7",
           "#f9a990",
           "#d7ecf7",
           "#f9a990",
           "#d7ecf7",
           "#f9a990",
           "#d7ecf7",
           "#f9a990",
           "#d7ecf7",
           "#f9a990",
           "#d7ecf7",
           "#f9a990",
           "#d7ecf7",
           "#f9a990",
           "#d7ecf7",
           "#f9a990",
           "#d7ecf7",
           "#f9a990",
           "#d7ecf7",
           "#f9a990",
           "#d7ecf7",
           "#f9a990",
           "#d7ecf7",
           "#f9a990",
           "#d7ecf7",
           "#f9a990",
           "#d7ecf7",
           "#f9a990",
           "#d7ecf7",
           "#f9a990",
           "#d7ecf7",
           "#f9a990",
           "#d7ecf7",
           "#f9a990",
           "#d7ecf7",
           "#f9a990",
           "#d7ecf7",
           "#f9a990",
           "#d7ecf7",
           "#f9a990",
           "#d7ecf7",
           "#f9a990",
           "#d7ecf7",
           "#f9a990",
           "#d7ecf7",
           "#f9a990",
           "#d7ecf7",
           "#f9a990",
           "#d7ecf7",
           "#f9a990",
           "#d7ecf7",
           "#f9a990",
           "#d7ecf7",
           "#f9a990",
           "#d7ecf7",
           "#f9a990",
           "#d7ecf7",
           "#f9a990",
           "#d7ecf7",
           "#f9a990",
           "#d7ecf7",
           "#f9a990",
           "#d7ecf7",
           "#f9a990",
           "#d7ecf7",
           "#f9a990",
           "#d7ecf7",
           "#f9a990",
           "#d7ecf7",
           "#f9a990",
           "#d7ecf7",
           "#f9a990",
           "#d7ecf7",
           "#f9a990",
           "#d7ecf7",
           "#f9a990",
           "#d7ecf7",
           "#f9a990",
           "#d7ecf7",
           "#f9a990",
           "#d7ecf7",
           "#f9a990",
           "#d7ecf7",
           "#f9a990",
           "#d7ecf7",
           "#f9a990",
           "#d7ecf7",
           "#f9a990",
           "#d7ecf7",
           "#f9a990",
           "#d7ecf7",
           "#f9a990",
           "#d7ecf7",
           "#f9a990",
           "#d7ecf7",
           "#f9a990",
           "#d7ecf7",
           "#f9a990",
           "#d7ecf7",
           "#f9a990",
           "#d7ecf7",
           "#f9a990",
           "#d7ecf7",
           "#f9a990",
           "#d7ecf7",
           "#f9a990",
           "#d7ecf7",
           "#f9a990",
           "#d7ecf7",
           "#f9a990",
           "#d7ecf7",
           "#f9a990",
           "#d7ecf7",
           "#f9a990",
           "#d7ecf7",
           "#f9a990",
           "#d7ecf7",
           "#f9a990",
           "#d7ecf7",
           "#f9a990",
           "#d7ecf7",
           "#f9a990",
           "#d7ecf7",
           "#f9a990",
           "#d7ecf7",
           "#f9a990",
           "#d7ecf7",
           "#f9a990",
           "#d7ecf7",
           "#f9a990",
           "#d7ecf7",
           "#f9a990",
           "#d7ecf7",
           "#f9a990",
           "#d7ecf7",
           "#f9a990",
           "#d7ecf7",
           "#f9a990",
           "#d7ecf7",
           "#f9a990",
           "#d7ecf7",
           "#f9a990",
           "#d7ecf7",
           "#f9a990",
           "#d7ecf7",
           "#f9a990",
           "#d7ecf7",
           "#f9a990",
           "#d7ecf7",
           "#f9a990",
           "#d7ecf7",
           "#f9a990",
           "#d7ecf7",
           "#f9a990",
           "#d7ecf7",
           "#f9a990",
           "#d7ecf7",
           "#f9a990",
           "#d7ecf7",
           "#f9a990",
           "#d7ecf7",
           "#f9a990",
           "#d7ecf7",
           "#f9a990",
           "#d7ecf7",
           "#f9a990",
           "#d7ecf7",
           "#f9a990",
           "#d7ecf7",
           "#f9a990",
           "#d7ecf7",
           "#f9a990",
           "#d7ecf7",
           "#f9a990",
           "#d7ecf7",
           "#f9a990",
           "#d7ecf7",
           "#f9a990",
           "#d7ecf7",
           "#f9a990",
           "#d7ecf7",
           "#f9a990",
           "#d7ecf7",
           "#f9a990",
           "#d7ecf7",
           "#f9a990",
           "#d7ecf7",
           "#f9a990",
           "#d7ecf7",
           "#f9a990",
           "#d7ecf7",
           "#f9a990",
           "#d7ecf7",
           "#f9a990",
           "#d7ecf7",
           "#f9a990",
           "#d7ecf7",
           "#f9a990",
           "#d7ecf7",
           "#f9a990",
           "#d7ecf7",
           "#f9a990",
           "#d7ecf7",
           "#f9a990",
           "#d7ecf7",
           "#f9a990",
           "#d7ecf7",
           "#f9a990",
           "#d7ecf7",
           "#f9a990",
           "#d7ecf7",
           "#f9a990",
           "#d7ecf7",
           "#f9a990",
           "#d7ecf7",
           "#f9a990",
           "#d7ecf7",
           "#f9a990",
           "#d7ecf7",
           "#f9a990",
           "#d7ecf7",
           "#f9a990",
           "#d7ecf7",
           "#f9a990",
           "#d7ecf7",
           "#f9a990",
           "#d7ecf7",
           "#f9a990",
           "#d7ecf7",
           "#f9a990",
           "#d7ecf7",
           "#f9a990",
           "#d7ecf7",
           "#f9a990",
           "#d7ecf7",
           "#f9a990",
           "#d7ecf7",
           "#f9a990",
           "#d7ecf7",
           "#f9a990",
           "#d7ecf7",
           "#f9a990",
           "#d7ecf7",
           "#f9a990",
           "#d7ecf7",
           "#f9a990",
           "#d7ecf7",
           "#f9a990",
           "#d7ecf7",
           "#f9a990",
           "#d7ecf7",
           "#f9a990",
           "#d7ecf7",
           "#f9a990",
           "#d7ecf7",
           "#f9a990",
           "#d7ecf7",
           "#f9a990",
           "#d7ecf7",
           "#f9a990",
           "#d7ecf7",
           "#f9a990",
           "#d7ecf7",
           "#f9a990",
           "#d7ecf7",
           "#f9a990",
           "#d7ecf7",
           "#f9a990",
           "#d7ecf7",
           "#f9a990",
           "#d7ecf7",
           "#f9a990",
           "#d7ecf7",
           "#f9a990",
           "#d7ecf7",
           "#f9a990",
           "#d7ecf7",
           "#f9a990",
           "#d7ecf7",
           "#f9a990",
           "#d7ecf7",
           "#f9a990",
           "#d7ecf7",
           "#f9a990",
           "#d7ecf7",
           "#f9a990",
           "#d7ecf7",
           "#f9a990",
           "#d7ecf7",
           "#f9a990",
           "#d7ecf7",
           "#f9a990",
           "#d7ecf7",
           "#f9a990",
           "#d7ecf7",
           "#f9a990",
           "#d7ecf7",
           "#f9a990",
           "#d7ecf7",
           "#f9a990",
           "#d7ecf7",
           "#f9a990",
           "#d7ecf7",
           "#f9a990",
           "#d7ecf7",
           "#f9a990",
           "#d7ecf7",
           "#f9a990",
           "#d7ecf7",
           "#f9a990",
           "#d7ecf7",
           "#f9a990",
           "#d7ecf7",
           "#f9a990",
           "#d7ecf7",
           "#f9a990",
           "#d7ecf7",
           "#f9a990",
           "#d7ecf7",
           "#f9a990",
           "#d7ecf7",
           "#f9a990",
           "#d7ecf7",
           "#f9a990",
           "#d7ecf7",
           "#f9a990",
           "#d7ecf7",
           "#f9a990",
           "#d7ecf7",
           "#f9a990",
           "#d7ecf7",
           "#f9a990",
           "#d7ecf7",
           "#f9a990",
           "#d7ecf7",
           "#f9a990",
           "#d7ecf7",
           "#f9a990",
           "#d7ecf7",
           "#f9a990",
           "#d7ecf7",
           "#f9a990",
           "#d7ecf7",
           "#f9a990",
           "#d7ecf7",
           "#f9a990",
           "#d7ecf7",
           "#f9a990",
           "#d7ecf7",
           "#f9a990",
           "#d7ecf7",
           "#f9a990",
           "#d7ecf7",
           "#f9a990",
           "#d7ecf7",
           "#f9a990",
           "#d7ecf7",
           "#f9a990",
           "#d7ecf7",
           "#f9a990",
           "#d7ecf7",
           "#f9a990",
           "#d7ecf7",
           "#f9a990",
           "#d7ecf7",
           "#f9a990",
           "#d7ecf7",
           "#f9a990",
           "#d7ecf7",
           "#f9a990",
           "#d7ecf7",
           "#f9a990",
           "#d7ecf7",
           "#f9a990",
           "#d1d1d1",
           "#d1d1d1",
           "#d1d1d1",
           "#d1d1d1",
           "#d1d1d1",
           "#d1d1d1",
           "#d1d1d1",
           "#d1d1d1",
           "#d1d1d1",
           "#d1d1d1",
           "#f7d7a3",
           "#f7d7a3",
           "#f7d7a3",
           "#f7d7a3",
           "#f7d7a3",
           "#f7d7a3",
           "#f7d7a3",
           "#f7d7a3",
           "#f7d7a3",
           "#f7d7a3",
           "#d1d1d1",
           "#d1d1d1",
           "#d1d1d1",
           "#d1d1d1",
           "#d1d1d1",
           "#d1d1d1",
           "#d1d1d1",
           "#d1d1d1",
           "#d1d1d1",
           "#d1d1d1",
           "#d1d1d1",
           "#d1d1d1",
           "#d1d1d1",
           "#d1d1d1",
           "#d1d1d1",
           "#d1d1d1",
           "#d1d1d1",
           "#d1d1d1",
           "#d1d1d1",
           "#d1d1d1",
           "#d1d1d1",
           "#d1d1d1",
           "#d1d1d1",
           "#d1d1d1",
           "#d1d1d1",
           "#d1d1d1",
           "#d1d1d1",
           "#d1d1d1",
           "#d1d1d1",
           "#d1d1d1"
          ],
          "source": [
           5,
           5,
           6,
           6,
           7,
           7,
           8,
           8,
           9,
           9,
           10,
           10,
           11,
           11,
           12,
           12,
           13,
           13,
           14,
           14,
           5,
           5,
           6,
           6,
           7,
           7,
           8,
           8,
           9,
           9,
           10,
           10,
           11,
           11,
           12,
           12,
           13,
           13,
           14,
           14,
           5,
           5,
           6,
           6,
           7,
           7,
           8,
           8,
           9,
           9,
           10,
           10,
           11,
           11,
           12,
           12,
           13,
           13,
           14,
           14,
           5,
           5,
           6,
           6,
           7,
           7,
           8,
           8,
           9,
           9,
           10,
           10,
           11,
           11,
           12,
           12,
           13,
           13,
           14,
           14,
           5,
           5,
           6,
           6,
           7,
           7,
           8,
           8,
           9,
           9,
           10,
           10,
           11,
           11,
           12,
           12,
           13,
           13,
           14,
           14,
           5,
           5,
           6,
           6,
           7,
           7,
           8,
           8,
           9,
           9,
           10,
           10,
           11,
           11,
           12,
           12,
           13,
           13,
           14,
           14,
           5,
           5,
           6,
           6,
           7,
           7,
           8,
           8,
           9,
           9,
           10,
           10,
           11,
           11,
           12,
           12,
           13,
           13,
           14,
           14,
           5,
           5,
           6,
           6,
           7,
           7,
           8,
           8,
           9,
           9,
           10,
           10,
           11,
           11,
           12,
           12,
           13,
           13,
           14,
           14,
           5,
           5,
           6,
           6,
           7,
           7,
           8,
           8,
           9,
           9,
           10,
           10,
           11,
           11,
           12,
           12,
           13,
           13,
           14,
           14,
           5,
           5,
           6,
           6,
           7,
           7,
           8,
           8,
           9,
           9,
           10,
           10,
           11,
           11,
           12,
           12,
           13,
           13,
           14,
           14,
           5,
           5,
           6,
           6,
           7,
           7,
           8,
           8,
           9,
           9,
           10,
           10,
           11,
           11,
           12,
           12,
           13,
           13,
           14,
           14,
           5,
           5,
           6,
           6,
           7,
           7,
           8,
           8,
           9,
           9,
           10,
           10,
           11,
           11,
           12,
           12,
           13,
           13,
           14,
           14,
           5,
           5,
           6,
           6,
           7,
           7,
           8,
           8,
           9,
           9,
           10,
           10,
           11,
           11,
           12,
           12,
           13,
           13,
           14,
           14,
           5,
           5,
           6,
           6,
           7,
           7,
           8,
           8,
           9,
           9,
           10,
           10,
           11,
           11,
           12,
           12,
           13,
           13,
           14,
           14,
           5,
           5,
           6,
           6,
           7,
           7,
           8,
           8,
           9,
           9,
           10,
           10,
           11,
           11,
           12,
           12,
           13,
           13,
           14,
           14,
           5,
           5,
           6,
           6,
           7,
           7,
           8,
           8,
           9,
           9,
           10,
           10,
           11,
           11,
           12,
           12,
           13,
           13,
           14,
           14,
           5,
           5,
           6,
           6,
           7,
           7,
           8,
           8,
           9,
           9,
           10,
           10,
           11,
           11,
           12,
           12,
           13,
           13,
           14,
           14,
           5,
           5,
           6,
           6,
           7,
           7,
           8,
           8,
           9,
           9,
           10,
           10,
           11,
           11,
           12,
           12,
           13,
           13,
           14,
           14,
           5,
           5,
           6,
           6,
           7,
           7,
           8,
           8,
           9,
           9,
           10,
           10,
           11,
           11,
           12,
           12,
           13,
           13,
           14,
           14,
           5,
           5,
           6,
           6,
           7,
           7,
           8,
           8,
           9,
           9,
           10,
           10,
           11,
           11,
           12,
           12,
           13,
           13,
           14,
           14,
           1,
           1,
           1,
           1,
           1,
           1,
           1,
           1,
           1,
           1,
           2,
           2,
           2,
           2,
           2,
           2,
           2,
           2,
           2,
           2,
           0,
           0,
           0,
           0,
           0,
           0,
           0,
           0,
           0,
           0,
           4,
           4,
           4,
           4,
           4,
           4,
           4,
           4,
           4,
           4,
           3,
           3,
           3,
           3,
           3,
           3,
           3,
           3,
           3,
           3
          ],
          "target": [
           15,
           16,
           15,
           16,
           15,
           16,
           15,
           16,
           15,
           16,
           15,
           16,
           15,
           16,
           15,
           16,
           15,
           16,
           15,
           16,
           15,
           16,
           15,
           16,
           15,
           16,
           15,
           16,
           15,
           16,
           15,
           16,
           15,
           16,
           15,
           16,
           15,
           16,
           15,
           16,
           15,
           16,
           15,
           16,
           15,
           16,
           15,
           16,
           15,
           16,
           15,
           16,
           15,
           16,
           15,
           16,
           15,
           16,
           15,
           16,
           15,
           16,
           15,
           16,
           15,
           16,
           15,
           16,
           15,
           16,
           15,
           16,
           15,
           16,
           15,
           16,
           15,
           16,
           15,
           16,
           15,
           16,
           15,
           16,
           15,
           16,
           15,
           16,
           15,
           16,
           15,
           16,
           15,
           16,
           15,
           16,
           15,
           16,
           15,
           16,
           15,
           16,
           15,
           16,
           15,
           16,
           15,
           16,
           15,
           16,
           15,
           16,
           15,
           16,
           15,
           16,
           15,
           16,
           15,
           16,
           15,
           16,
           15,
           16,
           15,
           16,
           15,
           16,
           15,
           16,
           15,
           16,
           15,
           16,
           15,
           16,
           15,
           16,
           15,
           16,
           15,
           16,
           15,
           16,
           15,
           16,
           15,
           16,
           15,
           16,
           15,
           16,
           15,
           16,
           15,
           16,
           15,
           16,
           15,
           16,
           15,
           16,
           15,
           16,
           15,
           16,
           15,
           16,
           15,
           16,
           15,
           16,
           15,
           16,
           15,
           16,
           15,
           16,
           15,
           16,
           15,
           16,
           15,
           16,
           15,
           16,
           15,
           16,
           15,
           16,
           15,
           16,
           15,
           16,
           15,
           16,
           15,
           16,
           15,
           16,
           15,
           16,
           15,
           16,
           15,
           16,
           15,
           16,
           15,
           16,
           15,
           16,
           15,
           16,
           15,
           16,
           15,
           16,
           15,
           16,
           15,
           16,
           15,
           16,
           15,
           16,
           15,
           16,
           15,
           16,
           15,
           16,
           15,
           16,
           15,
           16,
           15,
           16,
           15,
           16,
           15,
           16,
           15,
           16,
           15,
           16,
           15,
           16,
           15,
           16,
           15,
           16,
           15,
           16,
           15,
           16,
           15,
           16,
           15,
           16,
           15,
           16,
           15,
           16,
           15,
           16,
           15,
           16,
           15,
           16,
           15,
           16,
           15,
           16,
           15,
           16,
           15,
           16,
           15,
           16,
           15,
           16,
           15,
           16,
           15,
           16,
           15,
           16,
           15,
           16,
           15,
           16,
           15,
           16,
           15,
           16,
           15,
           16,
           15,
           16,
           15,
           16,
           15,
           16,
           15,
           16,
           15,
           16,
           15,
           16,
           15,
           16,
           15,
           16,
           15,
           16,
           15,
           16,
           15,
           16,
           15,
           16,
           15,
           16,
           15,
           16,
           15,
           16,
           15,
           16,
           15,
           16,
           15,
           16,
           15,
           16,
           15,
           16,
           15,
           16,
           15,
           16,
           15,
           16,
           15,
           16,
           15,
           16,
           15,
           16,
           15,
           16,
           15,
           16,
           15,
           16,
           15,
           16,
           15,
           16,
           15,
           16,
           15,
           16,
           15,
           16,
           15,
           16,
           15,
           16,
           15,
           16,
           15,
           16,
           15,
           16,
           15,
           16,
           15,
           16,
           15,
           16,
           15,
           16,
           15,
           16,
           15,
           16,
           15,
           16,
           15,
           16,
           15,
           16,
           15,
           16,
           15,
           16,
           15,
           16,
           5,
           6,
           7,
           8,
           9,
           10,
           11,
           12,
           13,
           14,
           5,
           6,
           7,
           8,
           9,
           10,
           11,
           12,
           13,
           14,
           5,
           6,
           7,
           8,
           9,
           10,
           11,
           12,
           13,
           14,
           5,
           6,
           7,
           8,
           9,
           10,
           11,
           12,
           13,
           14,
           5,
           6,
           7,
           8,
           9,
           10,
           11,
           12,
           13,
           14
          ],
          "value": [
           53,
           1,
           41,
           13,
           41,
           6,
           45,
           9,
           51,
           5,
           46,
           4,
           57,
           1,
           57,
           3,
           52,
           5,
           48,
           11,
           56,
           1,
           50,
           12,
           60,
           0,
           38,
           10,
           50,
           1,
           50,
           8,
           52,
           1,
           56,
           2,
           45,
           1,
           46,
           7,
           56,
           3,
           42,
           12,
           52,
           3,
           42,
           14,
           50,
           2,
           42,
           9,
           45,
           3,
           52,
           9,
           53,
           3,
           44,
           9,
           56,
           1,
           51,
           7,
           51,
           3,
           43,
           12,
           52,
           4,
           54,
           2,
           51,
           0,
           44,
           6,
           41,
           10,
           49,
           8,
           53,
           1,
           43,
           11,
           45,
           2,
           51,
           9,
           58,
           0,
           59,
           0,
           48,
           3,
           51,
           2,
           45,
           9,
           46,
           7,
           55,
           2,
           47,
           9,
           57,
           3,
           47,
           4,
           53,
           2,
           53,
           1,
           54,
           2,
           46,
           1,
           49,
           3,
           43,
           10,
           49,
           4,
           50,
           6,
           51,
           7,
           38,
           12,
           50,
           1,
           51,
           6,
           53,
           2,
           53,
           2,
           43,
           4,
           45,
           13,
           52,
           1,
           42,
           8,
           52,
           5,
           44,
           7,
           60,
           1,
           47,
           2,
           54,
           1,
           47,
           5,
           45,
           10,
           50,
           5,
           54,
           1,
           41,
           11,
           49,
           10,
           50,
           10,
           52,
           3,
           50,
           6,
           51,
           1,
           42,
           10,
           36,
           13,
           40,
           7,
           57,
           1,
           49,
           9,
           44,
           4,
           42,
           8,
           50,
           5,
           48,
           10,
           56,
           2,
           59,
           2,
           51,
           4,
           29,
           7,
           56,
           2,
           44,
           15,
           52,
           2,
           50,
           6,
           50,
           0,
           43,
           2,
           54,
           2,
           50,
           1,
           50,
           2,
           48,
           6,
           51,
           1,
           49,
           8,
           58,
           1,
           50,
           2,
           47,
           3,
           54,
           4,
           57,
           1,
           27,
           3,
           58,
           4,
           40,
           12,
           45,
           2,
           45,
           7,
           58,
           3,
           44,
           9,
           49,
           3,
           53,
           3,
           50,
           1,
           48,
           3,
           47,
           5,
           45,
           10,
           53,
           5,
           47,
           4,
           43,
           11,
           44,
           11,
           48,
           7,
           47,
           6,
           49,
           4,
           52,
           10,
           46,
           11,
           19,
           6,
           54,
           2,
           40,
           8,
           42,
           7,
           40,
           5,
           47,
           0,
           47,
           2,
           51,
           0,
           57,
           5,
           53,
           8,
           40,
           10,
           53,
           3,
           46,
           5,
           53,
           2,
           46,
           9,
           48,
           5,
           51,
           1,
           46,
           3,
           43,
           7,
           40,
           5,
           42,
           4,
           52,
           0,
           40,
           8,
           47,
           2,
           44,
           13,
           50,
           0,
           53,
           3,
           50,
           1,
           47,
           5,
           48,
           9,
           24,
           8,
           55,
           2,
           46,
           9,
           52,
           0,
           49,
           4,
           60,
           1,
           43,
           6,
           49,
           1,
           58,
           1,
           29,
           3,
           20,
           2,
           48,
           2,
           51,
           7,
           47,
           3,
           44,
           18,
           47,
           4,
           49,
           5,
           54,
           0,
           49,
           4,
           35,
           12,
           9,
           2,
           44,
           1,
           42,
           7,
           46,
           6,
           48,
           6,
           46,
           5,
           42,
           6,
           50,
           1,
           9,
           0,
           15,
           3,
           32,
           6,
           265,
           256,
           269,
           274,
           278,
           256,
           269,
           235,
           236,
           224,
           448,
           444,
           438,
           432,
           423,
           425,
           416,
           411,
           401,
           369,
           151,
           164,
           158,
           175,
           161,
           169,
           156,
           157,
           153,
           119,
           113,
           104,
           109,
           96,
           102,
           103,
           107,
           109,
           113,
           103,
           111,
           114,
           106,
           100,
           106,
           115,
           113,
           116,
           102,
           94
          ]
         },
         "node": {
          "color": [
           "gray",
           "gray",
           "#e49a21",
           "gray",
           "gray",
           "gray",
           "gray",
           "gray",
           "gray",
           "gray",
           "gray",
           "gray",
           "gray",
           "gray",
           "gray",
           "#9bbdcf",
           "#e66f4b"
          ],
          "label": [
           "America",
           "Africa",
           "Asia",
           "Europe",
           "Australia",
           "migrant",
           "in-need",
           "vulnerable",
           "homeless",
           "women",
           "refugee",
           "immigrant",
           "disabled",
           "hopeless",
           "poor-families",
           "No PCL",
           "PCL"
          ],
          "line": {
           "color": "grey",
           "width": 0.5
          },
          "pad": 15,
          "thickness": 20
         },
         "type": "sankey"
        }
       ],
       "layout": {
        "template": {
         "data": {
          "bar": [
           {
            "error_x": {
             "color": "#2a3f5f"
            },
            "error_y": {
             "color": "#2a3f5f"
            },
            "marker": {
             "line": {
              "color": "white",
              "width": 0.5
             }
            },
            "type": "bar"
           }
          ],
          "barpolar": [
           {
            "marker": {
             "line": {
              "color": "white",
              "width": 0.5
             }
            },
            "type": "barpolar"
           }
          ],
          "carpet": [
           {
            "aaxis": {
             "endlinecolor": "#2a3f5f",
             "gridcolor": "#C8D4E3",
             "linecolor": "#C8D4E3",
             "minorgridcolor": "#C8D4E3",
             "startlinecolor": "#2a3f5f"
            },
            "baxis": {
             "endlinecolor": "#2a3f5f",
             "gridcolor": "#C8D4E3",
             "linecolor": "#C8D4E3",
             "minorgridcolor": "#C8D4E3",
             "startlinecolor": "#2a3f5f"
            },
            "type": "carpet"
           }
          ],
          "choropleth": [
           {
            "colorbar": {
             "outlinewidth": 0,
             "ticks": ""
            },
            "type": "choropleth"
           }
          ],
          "contour": [
           {
            "colorbar": {
             "outlinewidth": 0,
             "ticks": ""
            },
            "colorscale": [
             [
              0,
              "#0d0887"
             ],
             [
              0.1111111111111111,
              "#46039f"
             ],
             [
              0.2222222222222222,
              "#7201a8"
             ],
             [
              0.3333333333333333,
              "#9c179e"
             ],
             [
              0.4444444444444444,
              "#bd3786"
             ],
             [
              0.5555555555555556,
              "#d8576b"
             ],
             [
              0.6666666666666666,
              "#ed7953"
             ],
             [
              0.7777777777777778,
              "#fb9f3a"
             ],
             [
              0.8888888888888888,
              "#fdca26"
             ],
             [
              1,
              "#f0f921"
             ]
            ],
            "type": "contour"
           }
          ],
          "contourcarpet": [
           {
            "colorbar": {
             "outlinewidth": 0,
             "ticks": ""
            },
            "type": "contourcarpet"
           }
          ],
          "heatmap": [
           {
            "colorbar": {
             "outlinewidth": 0,
             "ticks": ""
            },
            "colorscale": [
             [
              0,
              "#0d0887"
             ],
             [
              0.1111111111111111,
              "#46039f"
             ],
             [
              0.2222222222222222,
              "#7201a8"
             ],
             [
              0.3333333333333333,
              "#9c179e"
             ],
             [
              0.4444444444444444,
              "#bd3786"
             ],
             [
              0.5555555555555556,
              "#d8576b"
             ],
             [
              0.6666666666666666,
              "#ed7953"
             ],
             [
              0.7777777777777778,
              "#fb9f3a"
             ],
             [
              0.8888888888888888,
              "#fdca26"
             ],
             [
              1,
              "#f0f921"
             ]
            ],
            "type": "heatmap"
           }
          ],
          "heatmapgl": [
           {
            "colorbar": {
             "outlinewidth": 0,
             "ticks": ""
            },
            "colorscale": [
             [
              0,
              "#0d0887"
             ],
             [
              0.1111111111111111,
              "#46039f"
             ],
             [
              0.2222222222222222,
              "#7201a8"
             ],
             [
              0.3333333333333333,
              "#9c179e"
             ],
             [
              0.4444444444444444,
              "#bd3786"
             ],
             [
              0.5555555555555556,
              "#d8576b"
             ],
             [
              0.6666666666666666,
              "#ed7953"
             ],
             [
              0.7777777777777778,
              "#fb9f3a"
             ],
             [
              0.8888888888888888,
              "#fdca26"
             ],
             [
              1,
              "#f0f921"
             ]
            ],
            "type": "heatmapgl"
           }
          ],
          "histogram": [
           {
            "marker": {
             "colorbar": {
              "outlinewidth": 0,
              "ticks": ""
             }
            },
            "type": "histogram"
           }
          ],
          "histogram2d": [
           {
            "colorbar": {
             "outlinewidth": 0,
             "ticks": ""
            },
            "colorscale": [
             [
              0,
              "#0d0887"
             ],
             [
              0.1111111111111111,
              "#46039f"
             ],
             [
              0.2222222222222222,
              "#7201a8"
             ],
             [
              0.3333333333333333,
              "#9c179e"
             ],
             [
              0.4444444444444444,
              "#bd3786"
             ],
             [
              0.5555555555555556,
              "#d8576b"
             ],
             [
              0.6666666666666666,
              "#ed7953"
             ],
             [
              0.7777777777777778,
              "#fb9f3a"
             ],
             [
              0.8888888888888888,
              "#fdca26"
             ],
             [
              1,
              "#f0f921"
             ]
            ],
            "type": "histogram2d"
           }
          ],
          "histogram2dcontour": [
           {
            "colorbar": {
             "outlinewidth": 0,
             "ticks": ""
            },
            "colorscale": [
             [
              0,
              "#0d0887"
             ],
             [
              0.1111111111111111,
              "#46039f"
             ],
             [
              0.2222222222222222,
              "#7201a8"
             ],
             [
              0.3333333333333333,
              "#9c179e"
             ],
             [
              0.4444444444444444,
              "#bd3786"
             ],
             [
              0.5555555555555556,
              "#d8576b"
             ],
             [
              0.6666666666666666,
              "#ed7953"
             ],
             [
              0.7777777777777778,
              "#fb9f3a"
             ],
             [
              0.8888888888888888,
              "#fdca26"
             ],
             [
              1,
              "#f0f921"
             ]
            ],
            "type": "histogram2dcontour"
           }
          ],
          "mesh3d": [
           {
            "colorbar": {
             "outlinewidth": 0,
             "ticks": ""
            },
            "type": "mesh3d"
           }
          ],
          "parcoords": [
           {
            "line": {
             "colorbar": {
              "outlinewidth": 0,
              "ticks": ""
             }
            },
            "type": "parcoords"
           }
          ],
          "pie": [
           {
            "automargin": true,
            "type": "pie"
           }
          ],
          "scatter": [
           {
            "marker": {
             "colorbar": {
              "outlinewidth": 0,
              "ticks": ""
             }
            },
            "type": "scatter"
           }
          ],
          "scatter3d": [
           {
            "line": {
             "colorbar": {
              "outlinewidth": 0,
              "ticks": ""
             }
            },
            "marker": {
             "colorbar": {
              "outlinewidth": 0,
              "ticks": ""
             }
            },
            "type": "scatter3d"
           }
          ],
          "scattercarpet": [
           {
            "marker": {
             "colorbar": {
              "outlinewidth": 0,
              "ticks": ""
             }
            },
            "type": "scattercarpet"
           }
          ],
          "scattergeo": [
           {
            "marker": {
             "colorbar": {
              "outlinewidth": 0,
              "ticks": ""
             }
            },
            "type": "scattergeo"
           }
          ],
          "scattergl": [
           {
            "marker": {
             "colorbar": {
              "outlinewidth": 0,
              "ticks": ""
             }
            },
            "type": "scattergl"
           }
          ],
          "scattermapbox": [
           {
            "marker": {
             "colorbar": {
              "outlinewidth": 0,
              "ticks": ""
             }
            },
            "type": "scattermapbox"
           }
          ],
          "scatterpolar": [
           {
            "marker": {
             "colorbar": {
              "outlinewidth": 0,
              "ticks": ""
             }
            },
            "type": "scatterpolar"
           }
          ],
          "scatterpolargl": [
           {
            "marker": {
             "colorbar": {
              "outlinewidth": 0,
              "ticks": ""
             }
            },
            "type": "scatterpolargl"
           }
          ],
          "scatterternary": [
           {
            "marker": {
             "colorbar": {
              "outlinewidth": 0,
              "ticks": ""
             }
            },
            "type": "scatterternary"
           }
          ],
          "surface": [
           {
            "colorbar": {
             "outlinewidth": 0,
             "ticks": ""
            },
            "colorscale": [
             [
              0,
              "#0d0887"
             ],
             [
              0.1111111111111111,
              "#46039f"
             ],
             [
              0.2222222222222222,
              "#7201a8"
             ],
             [
              0.3333333333333333,
              "#9c179e"
             ],
             [
              0.4444444444444444,
              "#bd3786"
             ],
             [
              0.5555555555555556,
              "#d8576b"
             ],
             [
              0.6666666666666666,
              "#ed7953"
             ],
             [
              0.7777777777777778,
              "#fb9f3a"
             ],
             [
              0.8888888888888888,
              "#fdca26"
             ],
             [
              1,
              "#f0f921"
             ]
            ],
            "type": "surface"
           }
          ],
          "table": [
           {
            "cells": {
             "fill": {
              "color": "#EBF0F8"
             },
             "line": {
              "color": "white"
             }
            },
            "header": {
             "fill": {
              "color": "#C8D4E3"
             },
             "line": {
              "color": "white"
             }
            },
            "type": "table"
           }
          ]
         },
         "layout": {
          "annotationdefaults": {
           "arrowcolor": "#2a3f5f",
           "arrowhead": 0,
           "arrowwidth": 1
          },
          "autotypenumbers": "strict",
          "coloraxis": {
           "colorbar": {
            "outlinewidth": 0,
            "ticks": ""
           }
          },
          "colorscale": {
           "diverging": [
            [
             0,
             "#8e0152"
            ],
            [
             0.1,
             "#c51b7d"
            ],
            [
             0.2,
             "#de77ae"
            ],
            [
             0.3,
             "#f1b6da"
            ],
            [
             0.4,
             "#fde0ef"
            ],
            [
             0.5,
             "#f7f7f7"
            ],
            [
             0.6,
             "#e6f5d0"
            ],
            [
             0.7,
             "#b8e186"
            ],
            [
             0.8,
             "#7fbc41"
            ],
            [
             0.9,
             "#4d9221"
            ],
            [
             1,
             "#276419"
            ]
           ],
           "sequential": [
            [
             0,
             "#0d0887"
            ],
            [
             0.1111111111111111,
             "#46039f"
            ],
            [
             0.2222222222222222,
             "#7201a8"
            ],
            [
             0.3333333333333333,
             "#9c179e"
            ],
            [
             0.4444444444444444,
             "#bd3786"
            ],
            [
             0.5555555555555556,
             "#d8576b"
            ],
            [
             0.6666666666666666,
             "#ed7953"
            ],
            [
             0.7777777777777778,
             "#fb9f3a"
            ],
            [
             0.8888888888888888,
             "#fdca26"
            ],
            [
             1,
             "#f0f921"
            ]
           ],
           "sequentialminus": [
            [
             0,
             "#0d0887"
            ],
            [
             0.1111111111111111,
             "#46039f"
            ],
            [
             0.2222222222222222,
             "#7201a8"
            ],
            [
             0.3333333333333333,
             "#9c179e"
            ],
            [
             0.4444444444444444,
             "#bd3786"
            ],
            [
             0.5555555555555556,
             "#d8576b"
            ],
            [
             0.6666666666666666,
             "#ed7953"
            ],
            [
             0.7777777777777778,
             "#fb9f3a"
            ],
            [
             0.8888888888888888,
             "#fdca26"
            ],
            [
             1,
             "#f0f921"
            ]
           ]
          },
          "colorway": [
           "#636efa",
           "#EF553B",
           "#00cc96",
           "#ab63fa",
           "#FFA15A",
           "#19d3f3",
           "#FF6692",
           "#B6E880",
           "#FF97FF",
           "#FECB52"
          ],
          "font": {
           "color": "#2a3f5f"
          },
          "geo": {
           "bgcolor": "white",
           "lakecolor": "white",
           "landcolor": "white",
           "showlakes": true,
           "showland": true,
           "subunitcolor": "#C8D4E3"
          },
          "hoverlabel": {
           "align": "left"
          },
          "hovermode": "closest",
          "mapbox": {
           "style": "light"
          },
          "paper_bgcolor": "white",
          "plot_bgcolor": "white",
          "polar": {
           "angularaxis": {
            "gridcolor": "#EBF0F8",
            "linecolor": "#EBF0F8",
            "ticks": ""
           },
           "bgcolor": "white",
           "radialaxis": {
            "gridcolor": "#EBF0F8",
            "linecolor": "#EBF0F8",
            "ticks": ""
           }
          },
          "scene": {
           "xaxis": {
            "backgroundcolor": "white",
            "gridcolor": "#DFE8F3",
            "gridwidth": 2,
            "linecolor": "#EBF0F8",
            "showbackground": true,
            "ticks": "",
            "zerolinecolor": "#EBF0F8"
           },
           "yaxis": {
            "backgroundcolor": "white",
            "gridcolor": "#DFE8F3",
            "gridwidth": 2,
            "linecolor": "#EBF0F8",
            "showbackground": true,
            "ticks": "",
            "zerolinecolor": "#EBF0F8"
           },
           "zaxis": {
            "backgroundcolor": "white",
            "gridcolor": "#DFE8F3",
            "gridwidth": 2,
            "linecolor": "#EBF0F8",
            "showbackground": true,
            "ticks": "",
            "zerolinecolor": "#EBF0F8"
           }
          },
          "shapedefaults": {
           "line": {
            "color": "#2a3f5f"
           }
          },
          "ternary": {
           "aaxis": {
            "gridcolor": "#DFE8F3",
            "linecolor": "#A2B1C6",
            "ticks": ""
           },
           "baxis": {
            "gridcolor": "#DFE8F3",
            "linecolor": "#A2B1C6",
            "ticks": ""
           },
           "bgcolor": "white",
           "caxis": {
            "gridcolor": "#DFE8F3",
            "linecolor": "#A2B1C6",
            "ticks": ""
           }
          },
          "title": {
           "x": 0.05
          },
          "xaxis": {
           "automargin": true,
           "gridcolor": "#EBF0F8",
           "linecolor": "#EBF0F8",
           "ticks": "",
           "title": {
            "standoff": 15
           },
           "zerolinecolor": "#EBF0F8",
           "zerolinewidth": 2
          },
          "yaxis": {
           "automargin": true,
           "gridcolor": "#EBF0F8",
           "linecolor": "#EBF0F8",
           "ticks": "",
           "title": {
            "standoff": 15
           },
           "zerolinecolor": "#EBF0F8",
           "zerolinewidth": 2
          }
         }
        },
        "title": {
         "font": {
          "size": 13
         },
         "text": "<b>Asia</b> is the continent that contributes more <br>to vulnerable groups news"
        }
       }
      }
     },
     "metadata": {},
     "output_type": "display_data"
    }
   ],
   "source": [
    "#labels = [coco.convert(names=[labels[i]], to='short_name') if i < NUM_COUNTRIES else labels[i].capitalize() for i in range(len(labels))]\n",
    "labels = [\"PCL\" if i == len(labels)-1 else labels[i] for i in range(len(labels))]\n",
    "labels = [\"No PCL\" if i == len(labels)-2 else labels[i] for i in range(len(labels))]\n",
    "\n",
    "fig = go.Figure()\n",
    "fig.add_trace(go.Sankey(\n",
    "    node = dict(\n",
    "        pad = 15, thickness=20, line = dict(color=\"grey\", width=0.5),\n",
    "        label = labels,\n",
    "        color = [\"gray\", \"gray\", YELLOW_COLOR, \"gray\", \"gray\"] + [\"gray\"]*len(keywords) + binary_colors\n",
    "    ),\n",
    "    link = dict(\n",
    "        source=sources, target=targets, value=values, color=colors\n",
    "    )\n",
    "))\n",
    "fig.update_layout(\n",
    "    title=dict(\n",
    "        text=f\"<b>Asia</b> is the continent that contributes more <br>to vulnerable groups news\",\n",
    "        font_size=13\n",
    "    ), template=TEMPLATE\n",
    ")\n",
    "fig.show()"
   ]
  },
  {
   "cell_type": "code",
   "execution_count": null,
   "id": "fb007102",
   "metadata": {},
   "outputs": [],
   "source": []
  }
 ],
 "metadata": {
  "kernelspec": {
   "display_name": "Python 3",
   "language": "python",
   "name": "python3"
  },
  "language_info": {
   "codemirror_mode": {
    "name": "ipython",
    "version": 3
   },
   "file_extension": ".py",
   "mimetype": "text/x-python",
   "name": "python",
   "nbconvert_exporter": "python",
   "pygments_lexer": "ipython3",
   "version": "3.9.7"
  }
 },
 "nbformat": 4,
 "nbformat_minor": 5
}

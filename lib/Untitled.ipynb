{
 "cells": [
  {
   "cell_type": "markdown",
   "id": "portuguese-structure",
   "metadata": {},
   "source": [
    "# Data Exploration \n",
    "\n",
    "**Dataset**: Detecting Patronizing and Condescending Language"
   ]
  },
  {
   "cell_type": "code",
   "execution_count": 1,
   "id": "certified-camel",
   "metadata": {},
   "outputs": [
    {
     "name": "stderr",
     "output_type": "stream",
     "text": [
      "[nltk_data] Downloading package wordnet to\n",
      "[nltk_data]     /Users/nestorivanmo/nltk_data...\n",
      "[nltk_data]   Package wordnet is already up-to-date!\n"
     ]
    }
   ],
   "source": [
    "import numpy as np\n",
    "import pandas as pd\n",
    "import plotly.graph_objects as go\n",
    "from plotly.subplots import make_subplots\n",
    "import plotly.figure_factory as ff\n",
    "import country_converter as coco\n",
    "import plotly.io as pio\n",
    "\n",
    "# NLP\n",
    "from textblob import TextBlob\n",
    "import re\n",
    "import nltk\n",
    "nltk.download(\"wordnet\")\n",
    "lst_stopwords = nltk.corpus.stopwords.words(\"english\")\n"
   ]
  },
  {
   "cell_type": "code",
   "execution_count": 2,
   "id": "secret-paste",
   "metadata": {},
   "outputs": [],
   "source": [
    "CATEGORIES_DATA_PATH = \"../data/dontpatronizeme_v1.4/dontpatronizeme_categories.tsv\"\n",
    "SINGLE_DATA_PATH = \"../data/dontpatronizeme_v1.4/dontpatronizeme_pcl.tsv\"\n",
    "\n",
    "TEMPLATE='plotly_white'\n",
    "\n",
    "BLUE_COLOR = \"#37689e\"\n",
    "TURQUOISE_COLOR = \"#4bb4c8\"\n",
    "LIGHT_BLUE_COLOR = \"#9bbdcf\"\n",
    "YELLOW_COLOR = \"#e49a21\"\n",
    "LIGHT_YELLOW_COLOR = \"#f2c576\"\n",
    "RED_COLOR = \"#da2f20\"\n",
    "LIGHT_RED_COLOR = \"#e66f4b\""
   ]
  },
  {
   "cell_type": "code",
   "execution_count": 3,
   "id": "accomplished-battlefield",
   "metadata": {},
   "outputs": [
    {
     "data": {
      "text/html": [
       "<div>\n",
       "<style scoped>\n",
       "    .dataframe tbody tr th:only-of-type {\n",
       "        vertical-align: middle;\n",
       "    }\n",
       "\n",
       "    .dataframe tbody tr th {\n",
       "        vertical-align: top;\n",
       "    }\n",
       "\n",
       "    .dataframe thead th {\n",
       "        text-align: right;\n",
       "    }\n",
       "</style>\n",
       "<table border=\"1\" class=\"dataframe\">\n",
       "  <thead>\n",
       "    <tr style=\"text-align: right;\">\n",
       "      <th></th>\n",
       "      <th>par_id</th>\n",
       "      <th>keyword</th>\n",
       "      <th>country_code</th>\n",
       "      <th>text</th>\n",
       "      <th>label</th>\n",
       "    </tr>\n",
       "  </thead>\n",
       "  <tbody>\n",
       "    <tr>\n",
       "      <th>0</th>\n",
       "      <td>1</td>\n",
       "      <td>hopeless</td>\n",
       "      <td>ph</td>\n",
       "      <td>We 're living in times of absolute insanity , ...</td>\n",
       "      <td>0</td>\n",
       "    </tr>\n",
       "    <tr>\n",
       "      <th>1</th>\n",
       "      <td>2</td>\n",
       "      <td>migrant</td>\n",
       "      <td>gh</td>\n",
       "      <td>In Libya today , there are countless number of...</td>\n",
       "      <td>0</td>\n",
       "    </tr>\n",
       "    <tr>\n",
       "      <th>2</th>\n",
       "      <td>3</td>\n",
       "      <td>immigrant</td>\n",
       "      <td>ie</td>\n",
       "      <td>White House press secretary Sean Spicer said t...</td>\n",
       "      <td>0</td>\n",
       "    </tr>\n",
       "    <tr>\n",
       "      <th>3</th>\n",
       "      <td>4</td>\n",
       "      <td>disabled</td>\n",
       "      <td>nz</td>\n",
       "      <td>Council customers only signs would be displaye...</td>\n",
       "      <td>0</td>\n",
       "    </tr>\n",
       "    <tr>\n",
       "      <th>4</th>\n",
       "      <td>5</td>\n",
       "      <td>refugee</td>\n",
       "      <td>ca</td>\n",
       "      <td>\" Just like we received migrants fleeing El Sa...</td>\n",
       "      <td>0</td>\n",
       "    </tr>\n",
       "  </tbody>\n",
       "</table>\n",
       "</div>"
      ],
      "text/plain": [
       "   par_id    keyword country_code  \\\n",
       "0       1   hopeless           ph   \n",
       "1       2    migrant           gh   \n",
       "2       3  immigrant           ie   \n",
       "3       4   disabled           nz   \n",
       "4       5    refugee           ca   \n",
       "\n",
       "                                                text  label  \n",
       "0  We 're living in times of absolute insanity , ...      0  \n",
       "1  In Libya today , there are countless number of...      0  \n",
       "2  White House press secretary Sean Spicer said t...      0  \n",
       "3  Council customers only signs would be displaye...      0  \n",
       "4  \" Just like we received migrants fleeing El Sa...      0  "
      ]
     },
     "execution_count": 3,
     "metadata": {},
     "output_type": "execute_result"
    }
   ],
   "source": [
    "binary_df = pd.read_csv(\n",
    "    SINGLE_DATA_PATH,\n",
    "    skiprows=4,\n",
    "    sep='\\t',\n",
    "    names=[\"par_id\", \"art_id\", \"keyword\", \"country_code\",\"text\",\"label\"],\n",
    ")\n",
    "binary_df = binary_df.dropna()\n",
    "del binary_df['art_id']\n",
    "binary_df[\"label\"] = binary_df[\"label\"].transform(lambda x: 0 if x <= 1 else 1)\n",
    "binary_df.head()"
   ]
  },
  {
   "cell_type": "code",
   "execution_count": 4,
   "id": "5e73ef44",
   "metadata": {},
   "outputs": [
    {
     "name": "stdout",
     "output_type": "stream",
     "text": [
      "<class 'pandas.core.frame.DataFrame'>\n",
      "Int64Index: 10468 entries, 0 to 10468\n",
      "Data columns (total 5 columns):\n",
      " #   Column        Non-Null Count  Dtype \n",
      "---  ------        --------------  ----- \n",
      " 0   par_id        10468 non-null  int64 \n",
      " 1   keyword       10468 non-null  object\n",
      " 2   country_code  10468 non-null  object\n",
      " 3   text          10468 non-null  object\n",
      " 4   label         10468 non-null  int64 \n",
      "dtypes: int64(2), object(3)\n",
      "memory usage: 490.7+ KB\n"
     ]
    }
   ],
   "source": [
    "binary_df.info()"
   ]
  },
  {
   "cell_type": "code",
   "execution_count": null,
   "id": "6a23b16c",
   "metadata": {},
   "outputs": [],
   "source": []
  },
  {
   "cell_type": "markdown",
   "id": "happy-integrity",
   "metadata": {},
   "source": [
    "## Label analysis"
   ]
  },
  {
   "cell_type": "code",
   "execution_count": 44,
   "id": "divided-deputy",
   "metadata": {},
   "outputs": [
    {
     "data": {
      "application/vnd.plotly.v1+json": {
       "config": {
        "plotlyServerURL": "https://plotly.com"
       },
       "data": [
        {
         "domain": {
          "x": [
           0,
           0.45
          ],
          "y": [
           0,
           1
          ]
         },
         "hole": 0.4,
         "labels": [
          "Sin PCL",
          "PCL"
         ],
         "marker": {
          "colors": [
           "#9bbdcf",
           "#e66f4b"
          ]
         },
         "textfont": {
          "color": "white",
          "size": 20
         },
         "type": "pie",
         "values": [
          9475,
          993
         ]
        },
        {
         "marker": {
          "color": [
           "#9bbdcf",
           "#e66f4b"
          ]
         },
         "text": [
          9475,
          993
         ],
         "textfont": {
          "color": "white",
          "size": 15
         },
         "type": "bar",
         "x": [
          "Sin PCL",
          "PCL"
         ],
         "xaxis": "x",
         "y": [
          9475,
          993
         ],
         "yaxis": "y"
        }
       ],
       "layout": {
        "showlegend": false,
        "template": {
         "data": {
          "bar": [
           {
            "error_x": {
             "color": "#2a3f5f"
            },
            "error_y": {
             "color": "#2a3f5f"
            },
            "marker": {
             "line": {
              "color": "white",
              "width": 0.5
             }
            },
            "type": "bar"
           }
          ],
          "barpolar": [
           {
            "marker": {
             "line": {
              "color": "white",
              "width": 0.5
             }
            },
            "type": "barpolar"
           }
          ],
          "carpet": [
           {
            "aaxis": {
             "endlinecolor": "#2a3f5f",
             "gridcolor": "#C8D4E3",
             "linecolor": "#C8D4E3",
             "minorgridcolor": "#C8D4E3",
             "startlinecolor": "#2a3f5f"
            },
            "baxis": {
             "endlinecolor": "#2a3f5f",
             "gridcolor": "#C8D4E3",
             "linecolor": "#C8D4E3",
             "minorgridcolor": "#C8D4E3",
             "startlinecolor": "#2a3f5f"
            },
            "type": "carpet"
           }
          ],
          "choropleth": [
           {
            "colorbar": {
             "outlinewidth": 0,
             "ticks": ""
            },
            "type": "choropleth"
           }
          ],
          "contour": [
           {
            "colorbar": {
             "outlinewidth": 0,
             "ticks": ""
            },
            "colorscale": [
             [
              0,
              "#0d0887"
             ],
             [
              0.1111111111111111,
              "#46039f"
             ],
             [
              0.2222222222222222,
              "#7201a8"
             ],
             [
              0.3333333333333333,
              "#9c179e"
             ],
             [
              0.4444444444444444,
              "#bd3786"
             ],
             [
              0.5555555555555556,
              "#d8576b"
             ],
             [
              0.6666666666666666,
              "#ed7953"
             ],
             [
              0.7777777777777778,
              "#fb9f3a"
             ],
             [
              0.8888888888888888,
              "#fdca26"
             ],
             [
              1,
              "#f0f921"
             ]
            ],
            "type": "contour"
           }
          ],
          "contourcarpet": [
           {
            "colorbar": {
             "outlinewidth": 0,
             "ticks": ""
            },
            "type": "contourcarpet"
           }
          ],
          "heatmap": [
           {
            "colorbar": {
             "outlinewidth": 0,
             "ticks": ""
            },
            "colorscale": [
             [
              0,
              "#0d0887"
             ],
             [
              0.1111111111111111,
              "#46039f"
             ],
             [
              0.2222222222222222,
              "#7201a8"
             ],
             [
              0.3333333333333333,
              "#9c179e"
             ],
             [
              0.4444444444444444,
              "#bd3786"
             ],
             [
              0.5555555555555556,
              "#d8576b"
             ],
             [
              0.6666666666666666,
              "#ed7953"
             ],
             [
              0.7777777777777778,
              "#fb9f3a"
             ],
             [
              0.8888888888888888,
              "#fdca26"
             ],
             [
              1,
              "#f0f921"
             ]
            ],
            "type": "heatmap"
           }
          ],
          "heatmapgl": [
           {
            "colorbar": {
             "outlinewidth": 0,
             "ticks": ""
            },
            "colorscale": [
             [
              0,
              "#0d0887"
             ],
             [
              0.1111111111111111,
              "#46039f"
             ],
             [
              0.2222222222222222,
              "#7201a8"
             ],
             [
              0.3333333333333333,
              "#9c179e"
             ],
             [
              0.4444444444444444,
              "#bd3786"
             ],
             [
              0.5555555555555556,
              "#d8576b"
             ],
             [
              0.6666666666666666,
              "#ed7953"
             ],
             [
              0.7777777777777778,
              "#fb9f3a"
             ],
             [
              0.8888888888888888,
              "#fdca26"
             ],
             [
              1,
              "#f0f921"
             ]
            ],
            "type": "heatmapgl"
           }
          ],
          "histogram": [
           {
            "marker": {
             "colorbar": {
              "outlinewidth": 0,
              "ticks": ""
             }
            },
            "type": "histogram"
           }
          ],
          "histogram2d": [
           {
            "colorbar": {
             "outlinewidth": 0,
             "ticks": ""
            },
            "colorscale": [
             [
              0,
              "#0d0887"
             ],
             [
              0.1111111111111111,
              "#46039f"
             ],
             [
              0.2222222222222222,
              "#7201a8"
             ],
             [
              0.3333333333333333,
              "#9c179e"
             ],
             [
              0.4444444444444444,
              "#bd3786"
             ],
             [
              0.5555555555555556,
              "#d8576b"
             ],
             [
              0.6666666666666666,
              "#ed7953"
             ],
             [
              0.7777777777777778,
              "#fb9f3a"
             ],
             [
              0.8888888888888888,
              "#fdca26"
             ],
             [
              1,
              "#f0f921"
             ]
            ],
            "type": "histogram2d"
           }
          ],
          "histogram2dcontour": [
           {
            "colorbar": {
             "outlinewidth": 0,
             "ticks": ""
            },
            "colorscale": [
             [
              0,
              "#0d0887"
             ],
             [
              0.1111111111111111,
              "#46039f"
             ],
             [
              0.2222222222222222,
              "#7201a8"
             ],
             [
              0.3333333333333333,
              "#9c179e"
             ],
             [
              0.4444444444444444,
              "#bd3786"
             ],
             [
              0.5555555555555556,
              "#d8576b"
             ],
             [
              0.6666666666666666,
              "#ed7953"
             ],
             [
              0.7777777777777778,
              "#fb9f3a"
             ],
             [
              0.8888888888888888,
              "#fdca26"
             ],
             [
              1,
              "#f0f921"
             ]
            ],
            "type": "histogram2dcontour"
           }
          ],
          "mesh3d": [
           {
            "colorbar": {
             "outlinewidth": 0,
             "ticks": ""
            },
            "type": "mesh3d"
           }
          ],
          "parcoords": [
           {
            "line": {
             "colorbar": {
              "outlinewidth": 0,
              "ticks": ""
             }
            },
            "type": "parcoords"
           }
          ],
          "pie": [
           {
            "automargin": true,
            "type": "pie"
           }
          ],
          "scatter": [
           {
            "marker": {
             "colorbar": {
              "outlinewidth": 0,
              "ticks": ""
             }
            },
            "type": "scatter"
           }
          ],
          "scatter3d": [
           {
            "line": {
             "colorbar": {
              "outlinewidth": 0,
              "ticks": ""
             }
            },
            "marker": {
             "colorbar": {
              "outlinewidth": 0,
              "ticks": ""
             }
            },
            "type": "scatter3d"
           }
          ],
          "scattercarpet": [
           {
            "marker": {
             "colorbar": {
              "outlinewidth": 0,
              "ticks": ""
             }
            },
            "type": "scattercarpet"
           }
          ],
          "scattergeo": [
           {
            "marker": {
             "colorbar": {
              "outlinewidth": 0,
              "ticks": ""
             }
            },
            "type": "scattergeo"
           }
          ],
          "scattergl": [
           {
            "marker": {
             "colorbar": {
              "outlinewidth": 0,
              "ticks": ""
             }
            },
            "type": "scattergl"
           }
          ],
          "scattermapbox": [
           {
            "marker": {
             "colorbar": {
              "outlinewidth": 0,
              "ticks": ""
             }
            },
            "type": "scattermapbox"
           }
          ],
          "scatterpolar": [
           {
            "marker": {
             "colorbar": {
              "outlinewidth": 0,
              "ticks": ""
             }
            },
            "type": "scatterpolar"
           }
          ],
          "scatterpolargl": [
           {
            "marker": {
             "colorbar": {
              "outlinewidth": 0,
              "ticks": ""
             }
            },
            "type": "scatterpolargl"
           }
          ],
          "scatterternary": [
           {
            "marker": {
             "colorbar": {
              "outlinewidth": 0,
              "ticks": ""
             }
            },
            "type": "scatterternary"
           }
          ],
          "surface": [
           {
            "colorbar": {
             "outlinewidth": 0,
             "ticks": ""
            },
            "colorscale": [
             [
              0,
              "#0d0887"
             ],
             [
              0.1111111111111111,
              "#46039f"
             ],
             [
              0.2222222222222222,
              "#7201a8"
             ],
             [
              0.3333333333333333,
              "#9c179e"
             ],
             [
              0.4444444444444444,
              "#bd3786"
             ],
             [
              0.5555555555555556,
              "#d8576b"
             ],
             [
              0.6666666666666666,
              "#ed7953"
             ],
             [
              0.7777777777777778,
              "#fb9f3a"
             ],
             [
              0.8888888888888888,
              "#fdca26"
             ],
             [
              1,
              "#f0f921"
             ]
            ],
            "type": "surface"
           }
          ],
          "table": [
           {
            "cells": {
             "fill": {
              "color": "#EBF0F8"
             },
             "line": {
              "color": "white"
             }
            },
            "header": {
             "fill": {
              "color": "#C8D4E3"
             },
             "line": {
              "color": "white"
             }
            },
            "type": "table"
           }
          ]
         },
         "layout": {
          "annotationdefaults": {
           "arrowcolor": "#2a3f5f",
           "arrowhead": 0,
           "arrowwidth": 1
          },
          "autotypenumbers": "strict",
          "coloraxis": {
           "colorbar": {
            "outlinewidth": 0,
            "ticks": ""
           }
          },
          "colorscale": {
           "diverging": [
            [
             0,
             "#8e0152"
            ],
            [
             0.1,
             "#c51b7d"
            ],
            [
             0.2,
             "#de77ae"
            ],
            [
             0.3,
             "#f1b6da"
            ],
            [
             0.4,
             "#fde0ef"
            ],
            [
             0.5,
             "#f7f7f7"
            ],
            [
             0.6,
             "#e6f5d0"
            ],
            [
             0.7,
             "#b8e186"
            ],
            [
             0.8,
             "#7fbc41"
            ],
            [
             0.9,
             "#4d9221"
            ],
            [
             1,
             "#276419"
            ]
           ],
           "sequential": [
            [
             0,
             "#0d0887"
            ],
            [
             0.1111111111111111,
             "#46039f"
            ],
            [
             0.2222222222222222,
             "#7201a8"
            ],
            [
             0.3333333333333333,
             "#9c179e"
            ],
            [
             0.4444444444444444,
             "#bd3786"
            ],
            [
             0.5555555555555556,
             "#d8576b"
            ],
            [
             0.6666666666666666,
             "#ed7953"
            ],
            [
             0.7777777777777778,
             "#fb9f3a"
            ],
            [
             0.8888888888888888,
             "#fdca26"
            ],
            [
             1,
             "#f0f921"
            ]
           ],
           "sequentialminus": [
            [
             0,
             "#0d0887"
            ],
            [
             0.1111111111111111,
             "#46039f"
            ],
            [
             0.2222222222222222,
             "#7201a8"
            ],
            [
             0.3333333333333333,
             "#9c179e"
            ],
            [
             0.4444444444444444,
             "#bd3786"
            ],
            [
             0.5555555555555556,
             "#d8576b"
            ],
            [
             0.6666666666666666,
             "#ed7953"
            ],
            [
             0.7777777777777778,
             "#fb9f3a"
            ],
            [
             0.8888888888888888,
             "#fdca26"
            ],
            [
             1,
             "#f0f921"
            ]
           ]
          },
          "colorway": [
           "#636efa",
           "#EF553B",
           "#00cc96",
           "#ab63fa",
           "#FFA15A",
           "#19d3f3",
           "#FF6692",
           "#B6E880",
           "#FF97FF",
           "#FECB52"
          ],
          "font": {
           "color": "#2a3f5f"
          },
          "geo": {
           "bgcolor": "white",
           "lakecolor": "white",
           "landcolor": "white",
           "showlakes": true,
           "showland": true,
           "subunitcolor": "#C8D4E3"
          },
          "hoverlabel": {
           "align": "left"
          },
          "hovermode": "closest",
          "mapbox": {
           "style": "light"
          },
          "paper_bgcolor": "white",
          "plot_bgcolor": "white",
          "polar": {
           "angularaxis": {
            "gridcolor": "#EBF0F8",
            "linecolor": "#EBF0F8",
            "ticks": ""
           },
           "bgcolor": "white",
           "radialaxis": {
            "gridcolor": "#EBF0F8",
            "linecolor": "#EBF0F8",
            "ticks": ""
           }
          },
          "scene": {
           "xaxis": {
            "backgroundcolor": "white",
            "gridcolor": "#DFE8F3",
            "gridwidth": 2,
            "linecolor": "#EBF0F8",
            "showbackground": true,
            "ticks": "",
            "zerolinecolor": "#EBF0F8"
           },
           "yaxis": {
            "backgroundcolor": "white",
            "gridcolor": "#DFE8F3",
            "gridwidth": 2,
            "linecolor": "#EBF0F8",
            "showbackground": true,
            "ticks": "",
            "zerolinecolor": "#EBF0F8"
           },
           "zaxis": {
            "backgroundcolor": "white",
            "gridcolor": "#DFE8F3",
            "gridwidth": 2,
            "linecolor": "#EBF0F8",
            "showbackground": true,
            "ticks": "",
            "zerolinecolor": "#EBF0F8"
           }
          },
          "shapedefaults": {
           "line": {
            "color": "#2a3f5f"
           }
          },
          "ternary": {
           "aaxis": {
            "gridcolor": "#DFE8F3",
            "linecolor": "#A2B1C6",
            "ticks": ""
           },
           "baxis": {
            "gridcolor": "#DFE8F3",
            "linecolor": "#A2B1C6",
            "ticks": ""
           },
           "bgcolor": "white",
           "caxis": {
            "gridcolor": "#DFE8F3",
            "linecolor": "#A2B1C6",
            "ticks": ""
           }
          },
          "title": {
           "x": 0.05
          },
          "xaxis": {
           "automargin": true,
           "gridcolor": "#EBF0F8",
           "linecolor": "#EBF0F8",
           "ticks": "",
           "title": {
            "standoff": 15
           },
           "zerolinecolor": "#EBF0F8",
           "zerolinewidth": 2
          },
          "yaxis": {
           "automargin": true,
           "gridcolor": "#EBF0F8",
           "linecolor": "#EBF0F8",
           "ticks": "",
           "title": {
            "standoff": 15
           },
           "zerolinecolor": "#EBF0F8",
           "zerolinewidth": 2
          }
         }
        },
        "title": {
         "font": {
          "size": 25
         },
         "text": "PCL vs. Sin PCL<br>De cada 10 textos, <b>solo 1</b> contiene PCL"
        },
        "width": 1000,
        "xaxis": {
         "anchor": "y",
         "domain": [
          0.55,
          1
         ]
        },
        "yaxis": {
         "anchor": "x",
         "domain": [
          0,
          1
         ]
        }
       }
      }
     },
     "metadata": {},
     "output_type": "display_data"
    }
   ],
   "source": [
    "labels = [\"Sin PCL\", \"PCL\"]\n",
    "values = binary_df[\"label\"].value_counts().to_numpy()\n",
    "\n",
    "binary_colors = [LIGHT_BLUE_COLOR, LIGHT_RED_COLOR]\n",
    "\n",
    "fig = make_subplots(rows=1, cols=2, specs=[[{'type':'domain'}, {'type':'xy'}]])\n",
    "fig.add_trace(go.Pie(\n",
    "    labels=labels,\n",
    "    values=values,\n",
    "    marker_colors = binary_colors, hole=0.4, \n",
    "    textfont_color='white', textfont_size=20\n",
    "), 1, 1)\n",
    "\n",
    "fig.add_trace(go.Bar(\n",
    "    x=labels,\n",
    "    y=values, marker_color=binary_colors,\n",
    "    text =values, textfont_color='white', textfont_size=15\n",
    "), 1, 2)\n",
    "\n",
    "fig.update_layout(\n",
    "    title = dict(text=\"PCL vs. Sin PCL<br>De cada 10 textos, <b>solo 1</b> contiene PCL\", font_size=25),\n",
    "    showlegend=False, template=TEMPLATE, width=1000\n",
    ")\n",
    "fig.show()"
   ]
  },
  {
   "cell_type": "markdown",
   "id": "0ba90755",
   "metadata": {},
   "source": [
    "## Keyword analysis"
   ]
  },
  {
   "cell_type": "code",
   "execution_count": 74,
   "id": "f4be5c40",
   "metadata": {},
   "outputs": [
    {
     "data": {
      "application/vnd.plotly.v1+json": {
       "config": {
        "plotlyServerURL": "https://plotly.com"
       },
       "data": [
        {
         "marker": {
          "color": "#9bbdcf"
         },
         "name": "Sin PCL",
         "orientation": "v",
         "text": [
          0.97,
          0.84,
          0.93,
          0.83,
          0.95,
          0.92,
          0.97,
          0.92,
          0.88,
          0.83
         ],
         "textfont": {
          "color": "white",
          "size": 20
         },
         "textposition": "auto",
         "type": "bar",
         "x": [
          "migrant",
          "in-need",
          "vulnerable",
          "homeless",
          "women",
          "refugee",
          "immigrant",
          "disabled",
          "hopeless",
          "poor-families"
         ],
         "y": [
          1052,
          906,
          1000,
          899,
          1018,
          982,
          1031,
          947,
          881,
          759
         ]
        },
        {
         "marker": {
          "color": "#e66f4b"
         },
         "name": "PCL",
         "orientation": "v",
         "text": [
          0.03,
          0.16,
          0.07,
          0.17,
          0.05,
          0.08,
          0.03,
          0.08,
          0.12,
          0.17
         ],
         "textfont": {
          "color": "black",
          "size": 20
         },
         "textposition": "outside",
         "type": "bar",
         "x": [
          "migrant",
          "in-need",
          "vulnerable",
          "homeless",
          "women",
          "refugee",
          "immigrant",
          "disabled",
          "hopeless",
          "poor-families"
         ],
         "y": [
          36,
          176,
          80,
          178,
          52,
          86,
          30,
          81,
          124,
          150
         ]
        }
       ],
       "layout": {
        "annotations": [
         {
          "bgcolor": "#9bbdcf",
          "bordercolor": "white",
          "borderwidth": 2,
          "font": {
           "color": "white",
           "size": 30
          },
          "showarrow": false,
          "text": "PCL",
          "x": 9,
          "y": 200
         },
         {
          "bgcolor": "#e66f4b",
          "bordercolor": "white",
          "borderwidth": 2,
          "font": {
           "color": "white",
           "size": 20
          },
          "showarrow": false,
          "text": "Sin PCL",
          "x": 1,
          "y": 1000
         }
        ],
        "barmode": "stack",
        "height": 600,
        "showlegend": false,
        "template": {
         "data": {
          "bar": [
           {
            "error_x": {
             "color": "#2a3f5f"
            },
            "error_y": {
             "color": "#2a3f5f"
            },
            "marker": {
             "line": {
              "color": "white",
              "width": 0.5
             }
            },
            "type": "bar"
           }
          ],
          "barpolar": [
           {
            "marker": {
             "line": {
              "color": "white",
              "width": 0.5
             }
            },
            "type": "barpolar"
           }
          ],
          "carpet": [
           {
            "aaxis": {
             "endlinecolor": "#2a3f5f",
             "gridcolor": "#C8D4E3",
             "linecolor": "#C8D4E3",
             "minorgridcolor": "#C8D4E3",
             "startlinecolor": "#2a3f5f"
            },
            "baxis": {
             "endlinecolor": "#2a3f5f",
             "gridcolor": "#C8D4E3",
             "linecolor": "#C8D4E3",
             "minorgridcolor": "#C8D4E3",
             "startlinecolor": "#2a3f5f"
            },
            "type": "carpet"
           }
          ],
          "choropleth": [
           {
            "colorbar": {
             "outlinewidth": 0,
             "ticks": ""
            },
            "type": "choropleth"
           }
          ],
          "contour": [
           {
            "colorbar": {
             "outlinewidth": 0,
             "ticks": ""
            },
            "colorscale": [
             [
              0,
              "#0d0887"
             ],
             [
              0.1111111111111111,
              "#46039f"
             ],
             [
              0.2222222222222222,
              "#7201a8"
             ],
             [
              0.3333333333333333,
              "#9c179e"
             ],
             [
              0.4444444444444444,
              "#bd3786"
             ],
             [
              0.5555555555555556,
              "#d8576b"
             ],
             [
              0.6666666666666666,
              "#ed7953"
             ],
             [
              0.7777777777777778,
              "#fb9f3a"
             ],
             [
              0.8888888888888888,
              "#fdca26"
             ],
             [
              1,
              "#f0f921"
             ]
            ],
            "type": "contour"
           }
          ],
          "contourcarpet": [
           {
            "colorbar": {
             "outlinewidth": 0,
             "ticks": ""
            },
            "type": "contourcarpet"
           }
          ],
          "heatmap": [
           {
            "colorbar": {
             "outlinewidth": 0,
             "ticks": ""
            },
            "colorscale": [
             [
              0,
              "#0d0887"
             ],
             [
              0.1111111111111111,
              "#46039f"
             ],
             [
              0.2222222222222222,
              "#7201a8"
             ],
             [
              0.3333333333333333,
              "#9c179e"
             ],
             [
              0.4444444444444444,
              "#bd3786"
             ],
             [
              0.5555555555555556,
              "#d8576b"
             ],
             [
              0.6666666666666666,
              "#ed7953"
             ],
             [
              0.7777777777777778,
              "#fb9f3a"
             ],
             [
              0.8888888888888888,
              "#fdca26"
             ],
             [
              1,
              "#f0f921"
             ]
            ],
            "type": "heatmap"
           }
          ],
          "heatmapgl": [
           {
            "colorbar": {
             "outlinewidth": 0,
             "ticks": ""
            },
            "colorscale": [
             [
              0,
              "#0d0887"
             ],
             [
              0.1111111111111111,
              "#46039f"
             ],
             [
              0.2222222222222222,
              "#7201a8"
             ],
             [
              0.3333333333333333,
              "#9c179e"
             ],
             [
              0.4444444444444444,
              "#bd3786"
             ],
             [
              0.5555555555555556,
              "#d8576b"
             ],
             [
              0.6666666666666666,
              "#ed7953"
             ],
             [
              0.7777777777777778,
              "#fb9f3a"
             ],
             [
              0.8888888888888888,
              "#fdca26"
             ],
             [
              1,
              "#f0f921"
             ]
            ],
            "type": "heatmapgl"
           }
          ],
          "histogram": [
           {
            "marker": {
             "colorbar": {
              "outlinewidth": 0,
              "ticks": ""
             }
            },
            "type": "histogram"
           }
          ],
          "histogram2d": [
           {
            "colorbar": {
             "outlinewidth": 0,
             "ticks": ""
            },
            "colorscale": [
             [
              0,
              "#0d0887"
             ],
             [
              0.1111111111111111,
              "#46039f"
             ],
             [
              0.2222222222222222,
              "#7201a8"
             ],
             [
              0.3333333333333333,
              "#9c179e"
             ],
             [
              0.4444444444444444,
              "#bd3786"
             ],
             [
              0.5555555555555556,
              "#d8576b"
             ],
             [
              0.6666666666666666,
              "#ed7953"
             ],
             [
              0.7777777777777778,
              "#fb9f3a"
             ],
             [
              0.8888888888888888,
              "#fdca26"
             ],
             [
              1,
              "#f0f921"
             ]
            ],
            "type": "histogram2d"
           }
          ],
          "histogram2dcontour": [
           {
            "colorbar": {
             "outlinewidth": 0,
             "ticks": ""
            },
            "colorscale": [
             [
              0,
              "#0d0887"
             ],
             [
              0.1111111111111111,
              "#46039f"
             ],
             [
              0.2222222222222222,
              "#7201a8"
             ],
             [
              0.3333333333333333,
              "#9c179e"
             ],
             [
              0.4444444444444444,
              "#bd3786"
             ],
             [
              0.5555555555555556,
              "#d8576b"
             ],
             [
              0.6666666666666666,
              "#ed7953"
             ],
             [
              0.7777777777777778,
              "#fb9f3a"
             ],
             [
              0.8888888888888888,
              "#fdca26"
             ],
             [
              1,
              "#f0f921"
             ]
            ],
            "type": "histogram2dcontour"
           }
          ],
          "mesh3d": [
           {
            "colorbar": {
             "outlinewidth": 0,
             "ticks": ""
            },
            "type": "mesh3d"
           }
          ],
          "parcoords": [
           {
            "line": {
             "colorbar": {
              "outlinewidth": 0,
              "ticks": ""
             }
            },
            "type": "parcoords"
           }
          ],
          "pie": [
           {
            "automargin": true,
            "type": "pie"
           }
          ],
          "scatter": [
           {
            "marker": {
             "colorbar": {
              "outlinewidth": 0,
              "ticks": ""
             }
            },
            "type": "scatter"
           }
          ],
          "scatter3d": [
           {
            "line": {
             "colorbar": {
              "outlinewidth": 0,
              "ticks": ""
             }
            },
            "marker": {
             "colorbar": {
              "outlinewidth": 0,
              "ticks": ""
             }
            },
            "type": "scatter3d"
           }
          ],
          "scattercarpet": [
           {
            "marker": {
             "colorbar": {
              "outlinewidth": 0,
              "ticks": ""
             }
            },
            "type": "scattercarpet"
           }
          ],
          "scattergeo": [
           {
            "marker": {
             "colorbar": {
              "outlinewidth": 0,
              "ticks": ""
             }
            },
            "type": "scattergeo"
           }
          ],
          "scattergl": [
           {
            "marker": {
             "colorbar": {
              "outlinewidth": 0,
              "ticks": ""
             }
            },
            "type": "scattergl"
           }
          ],
          "scattermapbox": [
           {
            "marker": {
             "colorbar": {
              "outlinewidth": 0,
              "ticks": ""
             }
            },
            "type": "scattermapbox"
           }
          ],
          "scatterpolar": [
           {
            "marker": {
             "colorbar": {
              "outlinewidth": 0,
              "ticks": ""
             }
            },
            "type": "scatterpolar"
           }
          ],
          "scatterpolargl": [
           {
            "marker": {
             "colorbar": {
              "outlinewidth": 0,
              "ticks": ""
             }
            },
            "type": "scatterpolargl"
           }
          ],
          "scatterternary": [
           {
            "marker": {
             "colorbar": {
              "outlinewidth": 0,
              "ticks": ""
             }
            },
            "type": "scatterternary"
           }
          ],
          "surface": [
           {
            "colorbar": {
             "outlinewidth": 0,
             "ticks": ""
            },
            "colorscale": [
             [
              0,
              "#0d0887"
             ],
             [
              0.1111111111111111,
              "#46039f"
             ],
             [
              0.2222222222222222,
              "#7201a8"
             ],
             [
              0.3333333333333333,
              "#9c179e"
             ],
             [
              0.4444444444444444,
              "#bd3786"
             ],
             [
              0.5555555555555556,
              "#d8576b"
             ],
             [
              0.6666666666666666,
              "#ed7953"
             ],
             [
              0.7777777777777778,
              "#fb9f3a"
             ],
             [
              0.8888888888888888,
              "#fdca26"
             ],
             [
              1,
              "#f0f921"
             ]
            ],
            "type": "surface"
           }
          ],
          "table": [
           {
            "cells": {
             "fill": {
              "color": "#EBF0F8"
             },
             "line": {
              "color": "white"
             }
            },
            "header": {
             "fill": {
              "color": "#C8D4E3"
             },
             "line": {
              "color": "white"
             }
            },
            "type": "table"
           }
          ]
         },
         "layout": {
          "annotationdefaults": {
           "arrowcolor": "#2a3f5f",
           "arrowhead": 0,
           "arrowwidth": 1
          },
          "autotypenumbers": "strict",
          "coloraxis": {
           "colorbar": {
            "outlinewidth": 0,
            "ticks": ""
           }
          },
          "colorscale": {
           "diverging": [
            [
             0,
             "#8e0152"
            ],
            [
             0.1,
             "#c51b7d"
            ],
            [
             0.2,
             "#de77ae"
            ],
            [
             0.3,
             "#f1b6da"
            ],
            [
             0.4,
             "#fde0ef"
            ],
            [
             0.5,
             "#f7f7f7"
            ],
            [
             0.6,
             "#e6f5d0"
            ],
            [
             0.7,
             "#b8e186"
            ],
            [
             0.8,
             "#7fbc41"
            ],
            [
             0.9,
             "#4d9221"
            ],
            [
             1,
             "#276419"
            ]
           ],
           "sequential": [
            [
             0,
             "#0d0887"
            ],
            [
             0.1111111111111111,
             "#46039f"
            ],
            [
             0.2222222222222222,
             "#7201a8"
            ],
            [
             0.3333333333333333,
             "#9c179e"
            ],
            [
             0.4444444444444444,
             "#bd3786"
            ],
            [
             0.5555555555555556,
             "#d8576b"
            ],
            [
             0.6666666666666666,
             "#ed7953"
            ],
            [
             0.7777777777777778,
             "#fb9f3a"
            ],
            [
             0.8888888888888888,
             "#fdca26"
            ],
            [
             1,
             "#f0f921"
            ]
           ],
           "sequentialminus": [
            [
             0,
             "#0d0887"
            ],
            [
             0.1111111111111111,
             "#46039f"
            ],
            [
             0.2222222222222222,
             "#7201a8"
            ],
            [
             0.3333333333333333,
             "#9c179e"
            ],
            [
             0.4444444444444444,
             "#bd3786"
            ],
            [
             0.5555555555555556,
             "#d8576b"
            ],
            [
             0.6666666666666666,
             "#ed7953"
            ],
            [
             0.7777777777777778,
             "#fb9f3a"
            ],
            [
             0.8888888888888888,
             "#fdca26"
            ],
            [
             1,
             "#f0f921"
            ]
           ]
          },
          "colorway": [
           "#636efa",
           "#EF553B",
           "#00cc96",
           "#ab63fa",
           "#FFA15A",
           "#19d3f3",
           "#FF6692",
           "#B6E880",
           "#FF97FF",
           "#FECB52"
          ],
          "font": {
           "color": "#2a3f5f"
          },
          "geo": {
           "bgcolor": "white",
           "lakecolor": "white",
           "landcolor": "white",
           "showlakes": true,
           "showland": true,
           "subunitcolor": "#C8D4E3"
          },
          "hoverlabel": {
           "align": "left"
          },
          "hovermode": "closest",
          "mapbox": {
           "style": "light"
          },
          "paper_bgcolor": "white",
          "plot_bgcolor": "white",
          "polar": {
           "angularaxis": {
            "gridcolor": "#EBF0F8",
            "linecolor": "#EBF0F8",
            "ticks": ""
           },
           "bgcolor": "white",
           "radialaxis": {
            "gridcolor": "#EBF0F8",
            "linecolor": "#EBF0F8",
            "ticks": ""
           }
          },
          "scene": {
           "xaxis": {
            "backgroundcolor": "white",
            "gridcolor": "#DFE8F3",
            "gridwidth": 2,
            "linecolor": "#EBF0F8",
            "showbackground": true,
            "ticks": "",
            "zerolinecolor": "#EBF0F8"
           },
           "yaxis": {
            "backgroundcolor": "white",
            "gridcolor": "#DFE8F3",
            "gridwidth": 2,
            "linecolor": "#EBF0F8",
            "showbackground": true,
            "ticks": "",
            "zerolinecolor": "#EBF0F8"
           },
           "zaxis": {
            "backgroundcolor": "white",
            "gridcolor": "#DFE8F3",
            "gridwidth": 2,
            "linecolor": "#EBF0F8",
            "showbackground": true,
            "ticks": "",
            "zerolinecolor": "#EBF0F8"
           }
          },
          "shapedefaults": {
           "line": {
            "color": "#2a3f5f"
           }
          },
          "ternary": {
           "aaxis": {
            "gridcolor": "#DFE8F3",
            "linecolor": "#A2B1C6",
            "ticks": ""
           },
           "baxis": {
            "gridcolor": "#DFE8F3",
            "linecolor": "#A2B1C6",
            "ticks": ""
           },
           "bgcolor": "white",
           "caxis": {
            "gridcolor": "#DFE8F3",
            "linecolor": "#A2B1C6",
            "ticks": ""
           }
          },
          "title": {
           "x": 0.05
          },
          "xaxis": {
           "automargin": true,
           "gridcolor": "#EBF0F8",
           "linecolor": "#EBF0F8",
           "ticks": "",
           "title": {
            "standoff": 15
           },
           "zerolinecolor": "#EBF0F8",
           "zerolinewidth": 2
          },
          "yaxis": {
           "automargin": true,
           "gridcolor": "#EBF0F8",
           "linecolor": "#EBF0F8",
           "ticks": "",
           "title": {
            "standoff": 15
           },
           "zerolinecolor": "#EBF0F8",
           "zerolinewidth": 2
          }
         }
        },
        "title": {
         "font": {
          "size": 25
         },
         "text": "El corpus contiene una <b>distribución uniforme</b> de noticias de grupos vulnerables"
        }
       }
      }
     },
     "metadata": {},
     "output_type": "display_data"
    }
   ],
   "source": [
    "s = binary_df[\"keyword\"].value_counts()\n",
    "keywords_df = pd.DataFrame({'keyword': s.index, 'frequency': s.values})\n",
    "keywords = []\n",
    "pcl_per_kw = []\n",
    "not_pcl_per_kw = []\n",
    "for keyword in keywords_df[\"keyword\"]:\n",
    "    values = binary_df[binary_df[\"keyword\"] == keyword][\"label\"].value_counts().to_numpy()\n",
    "    keywords.append(keyword)\n",
    "    not_pcl_per_kw.append(values[0])\n",
    "    pcl_per_kw.append(values[1])\n",
    "table_df = pd.DataFrame({'Keyword': keywords, \"No PCL Frequency\": not_pcl_per_kw, \"PCL Frequency\": pcl_per_kw})\n",
    "table_df[\"No PCL Ratio\"] = table_df[\"No PCL Frequency\"] / (table_df[\"No PCL Frequency\"] + table_df[\"PCL Frequency\"])\n",
    "table_df[\"PCL Ratio\"] = table_df[\"PCL Frequency\"] / (table_df[\"No PCL Frequency\"] + table_df[\"PCL Frequency\"])\n",
    "table_df[\"total\"] = table_df[\"No PCL Frequency\"] + table_df[\"PCL Frequency\"]\n",
    "table_df = table_df.sort_values(by=\"total\", ascending=False)\n",
    "\n",
    "fig = go.Figure()\n",
    "fig.add_trace(go.Bar(\n",
    "    y = table_df[\"No PCL Frequency\"],\n",
    "    x = table_df[\"Keyword\"],\n",
    "    orientation = 'v', marker_color=LIGHT_BLUE_COLOR,\n",
    "    name = 'Sin PCL', text=np.round(table_df[\"No PCL Ratio\"], 2),\n",
    "    textfont_color='white', textfont_size=20, textposition='auto'\n",
    "))\n",
    "\n",
    "fig.add_trace(go.Bar(\n",
    "    y = table_df[\"PCL Frequency\"],\n",
    "    x = table_df[\"Keyword\"],\n",
    "    orientation = 'v', marker_color=LIGHT_RED_COLOR,\n",
    "    name = 'PCL', text=np.round(table_df[\"PCL Ratio\"], 2),\n",
    "    textfont_color='black', textfont_size=20, textposition='outside'\n",
    "))\n",
    "fig.update_layout(\n",
    "    template=TEMPLATE,\n",
    "    title = dict(\n",
    "        text=\"El corpus contiene una <b>distribución uniforme</b> de noticias de grupos vulnerables\",\n",
    "        font_size=25\n",
    "    ),\n",
    "    barmode='stack', height=600, showlegend=False\n",
    ")\n",
    "\n",
    "fig.add_annotation(\n",
    "    x = 9, y = 200, \n",
    "    text = \"PCL\", showarrow=False,\n",
    "    font = dict(size=30, color='white'), \n",
    "    bordercolor='white', borderwidth=2,\n",
    "    bgcolor=LIGHT_BLUE_COLOR\n",
    ")\n",
    "\n",
    "fig.add_annotation(\n",
    "    x = 1, y = 1000, \n",
    "    text = \"Sin PCL\", showarrow=False,\n",
    "    font = dict(size=20, color='white'), \n",
    "    bordercolor='white', borderwidth=2,\n",
    "    bgcolor=LIGHT_RED_COLOR\n",
    ")\n",
    "\n",
    "fig.show()"
   ]
  },
  {
   "cell_type": "code",
   "execution_count": 69,
   "id": "96fcca48",
   "metadata": {},
   "outputs": [
    {
     "data": {
      "text/html": [
       "<div>\n",
       "<style scoped>\n",
       "    .dataframe tbody tr th:only-of-type {\n",
       "        vertical-align: middle;\n",
       "    }\n",
       "\n",
       "    .dataframe tbody tr th {\n",
       "        vertical-align: top;\n",
       "    }\n",
       "\n",
       "    .dataframe thead th {\n",
       "        text-align: right;\n",
       "    }\n",
       "</style>\n",
       "<table border=\"1\" class=\"dataframe\">\n",
       "  <thead>\n",
       "    <tr style=\"text-align: right;\">\n",
       "      <th></th>\n",
       "      <th>Keyword</th>\n",
       "      <th>No PCL Frequency</th>\n",
       "      <th>PCL Frequency</th>\n",
       "      <th>No PCL Ratio</th>\n",
       "      <th>PCL Ratio</th>\n",
       "      <th>total</th>\n",
       "    </tr>\n",
       "  </thead>\n",
       "  <tbody>\n",
       "    <tr>\n",
       "      <th>0</th>\n",
       "      <td>migrant</td>\n",
       "      <td>1052</td>\n",
       "      <td>36</td>\n",
       "      <td>0.966912</td>\n",
       "      <td>0.033088</td>\n",
       "      <td>1088</td>\n",
       "    </tr>\n",
       "    <tr>\n",
       "      <th>1</th>\n",
       "      <td>in-need</td>\n",
       "      <td>906</td>\n",
       "      <td>176</td>\n",
       "      <td>0.837338</td>\n",
       "      <td>0.162662</td>\n",
       "      <td>1082</td>\n",
       "    </tr>\n",
       "    <tr>\n",
       "      <th>2</th>\n",
       "      <td>vulnerable</td>\n",
       "      <td>1000</td>\n",
       "      <td>80</td>\n",
       "      <td>0.925926</td>\n",
       "      <td>0.074074</td>\n",
       "      <td>1080</td>\n",
       "    </tr>\n",
       "    <tr>\n",
       "      <th>3</th>\n",
       "      <td>homeless</td>\n",
       "      <td>899</td>\n",
       "      <td>178</td>\n",
       "      <td>0.834726</td>\n",
       "      <td>0.165274</td>\n",
       "      <td>1077</td>\n",
       "    </tr>\n",
       "    <tr>\n",
       "      <th>4</th>\n",
       "      <td>women</td>\n",
       "      <td>1018</td>\n",
       "      <td>52</td>\n",
       "      <td>0.951402</td>\n",
       "      <td>0.048598</td>\n",
       "      <td>1070</td>\n",
       "    </tr>\n",
       "    <tr>\n",
       "      <th>5</th>\n",
       "      <td>refugee</td>\n",
       "      <td>982</td>\n",
       "      <td>86</td>\n",
       "      <td>0.919476</td>\n",
       "      <td>0.080524</td>\n",
       "      <td>1068</td>\n",
       "    </tr>\n",
       "    <tr>\n",
       "      <th>6</th>\n",
       "      <td>immigrant</td>\n",
       "      <td>1031</td>\n",
       "      <td>30</td>\n",
       "      <td>0.971725</td>\n",
       "      <td>0.028275</td>\n",
       "      <td>1061</td>\n",
       "    </tr>\n",
       "    <tr>\n",
       "      <th>7</th>\n",
       "      <td>disabled</td>\n",
       "      <td>947</td>\n",
       "      <td>81</td>\n",
       "      <td>0.921206</td>\n",
       "      <td>0.078794</td>\n",
       "      <td>1028</td>\n",
       "    </tr>\n",
       "    <tr>\n",
       "      <th>8</th>\n",
       "      <td>hopeless</td>\n",
       "      <td>881</td>\n",
       "      <td>124</td>\n",
       "      <td>0.876617</td>\n",
       "      <td>0.123383</td>\n",
       "      <td>1005</td>\n",
       "    </tr>\n",
       "    <tr>\n",
       "      <th>9</th>\n",
       "      <td>poor-families</td>\n",
       "      <td>759</td>\n",
       "      <td>150</td>\n",
       "      <td>0.834983</td>\n",
       "      <td>0.165017</td>\n",
       "      <td>909</td>\n",
       "    </tr>\n",
       "  </tbody>\n",
       "</table>\n",
       "</div>"
      ],
      "text/plain": [
       "         Keyword  No PCL Frequency  PCL Frequency  No PCL Ratio  PCL Ratio  \\\n",
       "0        migrant              1052             36      0.966912   0.033088   \n",
       "1        in-need               906            176      0.837338   0.162662   \n",
       "2     vulnerable              1000             80      0.925926   0.074074   \n",
       "3       homeless               899            178      0.834726   0.165274   \n",
       "4          women              1018             52      0.951402   0.048598   \n",
       "5        refugee               982             86      0.919476   0.080524   \n",
       "6      immigrant              1031             30      0.971725   0.028275   \n",
       "7       disabled               947             81      0.921206   0.078794   \n",
       "8       hopeless               881            124      0.876617   0.123383   \n",
       "9  poor-families               759            150      0.834983   0.165017   \n",
       "\n",
       "   total  \n",
       "0   1088  \n",
       "1   1082  \n",
       "2   1080  \n",
       "3   1077  \n",
       "4   1070  \n",
       "5   1068  \n",
       "6   1061  \n",
       "7   1028  \n",
       "8   1005  \n",
       "9    909  "
      ]
     },
     "execution_count": 69,
     "metadata": {},
     "output_type": "execute_result"
    }
   ],
   "source": [
    "table_df[\"total\"] = table_df[\"No PCL Frequency\"] + table_df[\"PCL Frequency\"]\n",
    "table_df"
   ]
  },
  {
   "cell_type": "code",
   "execution_count": null,
   "id": "92a17f99",
   "metadata": {},
   "outputs": [],
   "source": []
  },
  {
   "cell_type": "code",
   "execution_count": null,
   "id": "fb6adf48",
   "metadata": {},
   "outputs": [],
   "source": []
  },
  {
   "cell_type": "markdown",
   "id": "716f487b",
   "metadata": {},
   "source": [
    "## Country analysis"
   ]
  },
  {
   "cell_type": "code",
   "execution_count": 76,
   "id": "b2d59650",
   "metadata": {},
   "outputs": [],
   "source": [
    "continent_countries = {\n",
    "    'za': 'África',\n",
    "    'my': 'Asia',\n",
    "    'ph': 'Asia',\n",
    "    'pk': 'Asia',\n",
    "    'us': 'América',\n",
    "    'au': 'Oceanía',\n",
    "    'gb': 'Europa',\n",
    "    'ke': 'África',\n",
    "    'ng': 'África',\n",
    "    'ie': 'Europa',\n",
    "    'sg': 'Asia',\n",
    "    'in': 'Asia',\n",
    "    'ca': 'América',\n",
    "    'gh': 'África',\n",
    "    'nz': 'Oceanía',\n",
    "    'bd': 'Asia',\n",
    "    'lk': 'Asia',\n",
    "    'hk': 'Asia',\n",
    "    'jm': 'América',\n",
    "    'tz': 'África',\n",
    "}\n",
    "continents = ['América', 'África', 'Asia', 'Europa', 'Oceanía']"
   ]
  },
  {
   "cell_type": "code",
   "execution_count": 77,
   "id": "ce87836b",
   "metadata": {},
   "outputs": [],
   "source": [
    "num_countries = binary_df[\"country_code\"].value_counts().index.shape[0]\n",
    "countries_short =  binary_df[\"country_code\"].value_counts().index\n",
    "countries = [coco.convert(names=[x], to='short_name') for x in countries_short]\n",
    "NUM_COUNTRIES = 20\n",
    "top_countries = binary_df[\"country_code\"].value_counts()[:NUM_COUNTRIES].index.to_numpy()\n",
    "#top_countries_names = [coco.convert(names=[code], to='short_name') for code in top_countries]\n",
    "keywords = np.array(keywords)\n",
    "pcl_labels = np.array([\"No PCL\", \"PCL\"])\n",
    "\n",
    "labels = list(continents) + list(keywords) + list(pcl_labels)\n",
    "labels_dict = dict()\n",
    "for i, label in enumerate(labels):\n",
    "    labels_dict[label] = i"
   ]
  },
  {
   "cell_type": "code",
   "execution_count": 78,
   "id": "e07b710a",
   "metadata": {},
   "outputs": [],
   "source": [
    "countries_df = binary_df[[\"country_code\", \"keyword\", \"label\"]]\n",
    "countries_series = countries_df.groupby(by=[\"country_code\", \"keyword\", \"label\"])[\"keyword\"].count()\n",
    "\n",
    "sources = []\n",
    "targets = []\n",
    "values = []\n",
    "colors = []\n",
    "\n",
    "pcl_label = labels_dict[\"PCL\"]\n",
    "no_pcl_label = labels_dict[\"No PCL\"]\n",
    "\n",
    "countries_dict = dict()\n",
    "\n",
    "for country in top_countries:\n",
    "    continent_from_country = continent_countries[country]\n",
    "    for kw in keywords:\n",
    "        kw_label = labels_dict[kw]\n",
    "\n",
    "        if countries_series[(country, kw)].shape[0] == 2:\n",
    "            no_pcl = countries_series[(country, kw)][0]\n",
    "            pcl = countries_series[(country, kw)][1]\n",
    "        else:\n",
    "            no_pcl = countries_series[(country, kw)][0]\n",
    "            pcl = 0\n",
    "        \n",
    "        total = no_pcl + pcl\n",
    "        key = (country, kw)\n",
    "        if key not in countries_dict:\n",
    "            countries_dict[key] = 0\n",
    "        countries_dict[key] += total\n",
    "\n",
    "        sources.append(kw_label)\n",
    "        targets.append(no_pcl_label)\n",
    "        values.append(no_pcl)\n",
    "        colors.append(\"#d7ecf7\")\n",
    "\n",
    "        sources.append(kw_label)\n",
    "        targets.append(pcl_label)\n",
    "        values.append(pcl)\n",
    "        colors.append(\"#f9a990\")"
   ]
  },
  {
   "cell_type": "code",
   "execution_count": 79,
   "id": "39fe1971",
   "metadata": {},
   "outputs": [],
   "source": [
    "continents_dict = dict()\n",
    "for (country, keyword) in countries_dict.keys():\n",
    "    continent = continent_countries[country]\n",
    "    key = (continent, keyword)\n",
    "    if key not in continents_dict:\n",
    "        continents_dict[key] = 0\n",
    "    continents_dict[key] += countries_dict[((country, keyword))]"
   ]
  },
  {
   "cell_type": "code",
   "execution_count": 80,
   "id": "3ea32937",
   "metadata": {},
   "outputs": [],
   "source": [
    "for (continent, keyword) in continents_dict.keys():\n",
    "    sources.append(labels_dict[continent])\n",
    "    targets.append(labels_dict[keyword])\n",
    "    values.append(continents_dict[(continent, keyword)])\n",
    "    if continent == \"Asia\": \n",
    "        colors.append(\"#f7d7a3\")\n",
    "    else:\n",
    "        colors.append(\"#d1d1d1\")"
   ]
  },
  {
   "cell_type": "code",
   "execution_count": 92,
   "id": "c3311632",
   "metadata": {},
   "outputs": [
    {
     "data": {
      "application/vnd.plotly.v1+json": {
       "config": {
        "plotlyServerURL": "https://plotly.com"
       },
       "data": [
        {
         "link": {
          "color": [
           "#d7ecf7",
           "#f9a990",
           "#d7ecf7",
           "#f9a990",
           "#d7ecf7",
           "#f9a990",
           "#d7ecf7",
           "#f9a990",
           "#d7ecf7",
           "#f9a990",
           "#d7ecf7",
           "#f9a990",
           "#d7ecf7",
           "#f9a990",
           "#d7ecf7",
           "#f9a990",
           "#d7ecf7",
           "#f9a990",
           "#d7ecf7",
           "#f9a990",
           "#d7ecf7",
           "#f9a990",
           "#d7ecf7",
           "#f9a990",
           "#d7ecf7",
           "#f9a990",
           "#d7ecf7",
           "#f9a990",
           "#d7ecf7",
           "#f9a990",
           "#d7ecf7",
           "#f9a990",
           "#d7ecf7",
           "#f9a990",
           "#d7ecf7",
           "#f9a990",
           "#d7ecf7",
           "#f9a990",
           "#d7ecf7",
           "#f9a990",
           "#d7ecf7",
           "#f9a990",
           "#d7ecf7",
           "#f9a990",
           "#d7ecf7",
           "#f9a990",
           "#d7ecf7",
           "#f9a990",
           "#d7ecf7",
           "#f9a990",
           "#d7ecf7",
           "#f9a990",
           "#d7ecf7",
           "#f9a990",
           "#d7ecf7",
           "#f9a990",
           "#d7ecf7",
           "#f9a990",
           "#d7ecf7",
           "#f9a990",
           "#d7ecf7",
           "#f9a990",
           "#d7ecf7",
           "#f9a990",
           "#d7ecf7",
           "#f9a990",
           "#d7ecf7",
           "#f9a990",
           "#d7ecf7",
           "#f9a990",
           "#d7ecf7",
           "#f9a990",
           "#d7ecf7",
           "#f9a990",
           "#d7ecf7",
           "#f9a990",
           "#d7ecf7",
           "#f9a990",
           "#d7ecf7",
           "#f9a990",
           "#d7ecf7",
           "#f9a990",
           "#d7ecf7",
           "#f9a990",
           "#d7ecf7",
           "#f9a990",
           "#d7ecf7",
           "#f9a990",
           "#d7ecf7",
           "#f9a990",
           "#d7ecf7",
           "#f9a990",
           "#d7ecf7",
           "#f9a990",
           "#d7ecf7",
           "#f9a990",
           "#d7ecf7",
           "#f9a990",
           "#d7ecf7",
           "#f9a990",
           "#d7ecf7",
           "#f9a990",
           "#d7ecf7",
           "#f9a990",
           "#d7ecf7",
           "#f9a990",
           "#d7ecf7",
           "#f9a990",
           "#d7ecf7",
           "#f9a990",
           "#d7ecf7",
           "#f9a990",
           "#d7ecf7",
           "#f9a990",
           "#d7ecf7",
           "#f9a990",
           "#d7ecf7",
           "#f9a990",
           "#d7ecf7",
           "#f9a990",
           "#d7ecf7",
           "#f9a990",
           "#d7ecf7",
           "#f9a990",
           "#d7ecf7",
           "#f9a990",
           "#d7ecf7",
           "#f9a990",
           "#d7ecf7",
           "#f9a990",
           "#d7ecf7",
           "#f9a990",
           "#d7ecf7",
           "#f9a990",
           "#d7ecf7",
           "#f9a990",
           "#d7ecf7",
           "#f9a990",
           "#d7ecf7",
           "#f9a990",
           "#d7ecf7",
           "#f9a990",
           "#d7ecf7",
           "#f9a990",
           "#d7ecf7",
           "#f9a990",
           "#d7ecf7",
           "#f9a990",
           "#d7ecf7",
           "#f9a990",
           "#d7ecf7",
           "#f9a990",
           "#d7ecf7",
           "#f9a990",
           "#d7ecf7",
           "#f9a990",
           "#d7ecf7",
           "#f9a990",
           "#d7ecf7",
           "#f9a990",
           "#d7ecf7",
           "#f9a990",
           "#d7ecf7",
           "#f9a990",
           "#d7ecf7",
           "#f9a990",
           "#d7ecf7",
           "#f9a990",
           "#d7ecf7",
           "#f9a990",
           "#d7ecf7",
           "#f9a990",
           "#d7ecf7",
           "#f9a990",
           "#d7ecf7",
           "#f9a990",
           "#d7ecf7",
           "#f9a990",
           "#d7ecf7",
           "#f9a990",
           "#d7ecf7",
           "#f9a990",
           "#d7ecf7",
           "#f9a990",
           "#d7ecf7",
           "#f9a990",
           "#d7ecf7",
           "#f9a990",
           "#d7ecf7",
           "#f9a990",
           "#d7ecf7",
           "#f9a990",
           "#d7ecf7",
           "#f9a990",
           "#d7ecf7",
           "#f9a990",
           "#d7ecf7",
           "#f9a990",
           "#d7ecf7",
           "#f9a990",
           "#d7ecf7",
           "#f9a990",
           "#d7ecf7",
           "#f9a990",
           "#d7ecf7",
           "#f9a990",
           "#d7ecf7",
           "#f9a990",
           "#d7ecf7",
           "#f9a990",
           "#d7ecf7",
           "#f9a990",
           "#d7ecf7",
           "#f9a990",
           "#d7ecf7",
           "#f9a990",
           "#d7ecf7",
           "#f9a990",
           "#d7ecf7",
           "#f9a990",
           "#d7ecf7",
           "#f9a990",
           "#d7ecf7",
           "#f9a990",
           "#d7ecf7",
           "#f9a990",
           "#d7ecf7",
           "#f9a990",
           "#d7ecf7",
           "#f9a990",
           "#d7ecf7",
           "#f9a990",
           "#d7ecf7",
           "#f9a990",
           "#d7ecf7",
           "#f9a990",
           "#d7ecf7",
           "#f9a990",
           "#d7ecf7",
           "#f9a990",
           "#d7ecf7",
           "#f9a990",
           "#d7ecf7",
           "#f9a990",
           "#d7ecf7",
           "#f9a990",
           "#d7ecf7",
           "#f9a990",
           "#d7ecf7",
           "#f9a990",
           "#d7ecf7",
           "#f9a990",
           "#d7ecf7",
           "#f9a990",
           "#d7ecf7",
           "#f9a990",
           "#d7ecf7",
           "#f9a990",
           "#d7ecf7",
           "#f9a990",
           "#d7ecf7",
           "#f9a990",
           "#d7ecf7",
           "#f9a990",
           "#d7ecf7",
           "#f9a990",
           "#d7ecf7",
           "#f9a990",
           "#d7ecf7",
           "#f9a990",
           "#d7ecf7",
           "#f9a990",
           "#d7ecf7",
           "#f9a990",
           "#d7ecf7",
           "#f9a990",
           "#d7ecf7",
           "#f9a990",
           "#d7ecf7",
           "#f9a990",
           "#d7ecf7",
           "#f9a990",
           "#d7ecf7",
           "#f9a990",
           "#d7ecf7",
           "#f9a990",
           "#d7ecf7",
           "#f9a990",
           "#d7ecf7",
           "#f9a990",
           "#d7ecf7",
           "#f9a990",
           "#d7ecf7",
           "#f9a990",
           "#d7ecf7",
           "#f9a990",
           "#d7ecf7",
           "#f9a990",
           "#d7ecf7",
           "#f9a990",
           "#d7ecf7",
           "#f9a990",
           "#d7ecf7",
           "#f9a990",
           "#d7ecf7",
           "#f9a990",
           "#d7ecf7",
           "#f9a990",
           "#d7ecf7",
           "#f9a990",
           "#d7ecf7",
           "#f9a990",
           "#d7ecf7",
           "#f9a990",
           "#d7ecf7",
           "#f9a990",
           "#d7ecf7",
           "#f9a990",
           "#d7ecf7",
           "#f9a990",
           "#d7ecf7",
           "#f9a990",
           "#d7ecf7",
           "#f9a990",
           "#d7ecf7",
           "#f9a990",
           "#d7ecf7",
           "#f9a990",
           "#d7ecf7",
           "#f9a990",
           "#d7ecf7",
           "#f9a990",
           "#d7ecf7",
           "#f9a990",
           "#d7ecf7",
           "#f9a990",
           "#d7ecf7",
           "#f9a990",
           "#d7ecf7",
           "#f9a990",
           "#d7ecf7",
           "#f9a990",
           "#d7ecf7",
           "#f9a990",
           "#d7ecf7",
           "#f9a990",
           "#d7ecf7",
           "#f9a990",
           "#d7ecf7",
           "#f9a990",
           "#d7ecf7",
           "#f9a990",
           "#d7ecf7",
           "#f9a990",
           "#d7ecf7",
           "#f9a990",
           "#d7ecf7",
           "#f9a990",
           "#d7ecf7",
           "#f9a990",
           "#d7ecf7",
           "#f9a990",
           "#d7ecf7",
           "#f9a990",
           "#d7ecf7",
           "#f9a990",
           "#d7ecf7",
           "#f9a990",
           "#d7ecf7",
           "#f9a990",
           "#d7ecf7",
           "#f9a990",
           "#d7ecf7",
           "#f9a990",
           "#d7ecf7",
           "#f9a990",
           "#d7ecf7",
           "#f9a990",
           "#d7ecf7",
           "#f9a990",
           "#d7ecf7",
           "#f9a990",
           "#d7ecf7",
           "#f9a990",
           "#d7ecf7",
           "#f9a990",
           "#d7ecf7",
           "#f9a990",
           "#d7ecf7",
           "#f9a990",
           "#d7ecf7",
           "#f9a990",
           "#d7ecf7",
           "#f9a990",
           "#d7ecf7",
           "#f9a990",
           "#d7ecf7",
           "#f9a990",
           "#d7ecf7",
           "#f9a990",
           "#d1d1d1",
           "#d1d1d1",
           "#d1d1d1",
           "#d1d1d1",
           "#d1d1d1",
           "#d1d1d1",
           "#d1d1d1",
           "#d1d1d1",
           "#d1d1d1",
           "#d1d1d1",
           "#f7d7a3",
           "#f7d7a3",
           "#f7d7a3",
           "#f7d7a3",
           "#f7d7a3",
           "#f7d7a3",
           "#f7d7a3",
           "#f7d7a3",
           "#f7d7a3",
           "#f7d7a3",
           "#d1d1d1",
           "#d1d1d1",
           "#d1d1d1",
           "#d1d1d1",
           "#d1d1d1",
           "#d1d1d1",
           "#d1d1d1",
           "#d1d1d1",
           "#d1d1d1",
           "#d1d1d1",
           "#d1d1d1",
           "#d1d1d1",
           "#d1d1d1",
           "#d1d1d1",
           "#d1d1d1",
           "#d1d1d1",
           "#d1d1d1",
           "#d1d1d1",
           "#d1d1d1",
           "#d1d1d1",
           "#d1d1d1",
           "#d1d1d1",
           "#d1d1d1",
           "#d1d1d1",
           "#d1d1d1",
           "#d1d1d1",
           "#d1d1d1",
           "#d1d1d1",
           "#d1d1d1",
           "#d1d1d1"
          ],
          "source": [
           5,
           5,
           6,
           6,
           7,
           7,
           8,
           8,
           9,
           9,
           10,
           10,
           11,
           11,
           12,
           12,
           13,
           13,
           14,
           14,
           5,
           5,
           6,
           6,
           7,
           7,
           8,
           8,
           9,
           9,
           10,
           10,
           11,
           11,
           12,
           12,
           13,
           13,
           14,
           14,
           5,
           5,
           6,
           6,
           7,
           7,
           8,
           8,
           9,
           9,
           10,
           10,
           11,
           11,
           12,
           12,
           13,
           13,
           14,
           14,
           5,
           5,
           6,
           6,
           7,
           7,
           8,
           8,
           9,
           9,
           10,
           10,
           11,
           11,
           12,
           12,
           13,
           13,
           14,
           14,
           5,
           5,
           6,
           6,
           7,
           7,
           8,
           8,
           9,
           9,
           10,
           10,
           11,
           11,
           12,
           12,
           13,
           13,
           14,
           14,
           5,
           5,
           6,
           6,
           7,
           7,
           8,
           8,
           9,
           9,
           10,
           10,
           11,
           11,
           12,
           12,
           13,
           13,
           14,
           14,
           5,
           5,
           6,
           6,
           7,
           7,
           8,
           8,
           9,
           9,
           10,
           10,
           11,
           11,
           12,
           12,
           13,
           13,
           14,
           14,
           5,
           5,
           6,
           6,
           7,
           7,
           8,
           8,
           9,
           9,
           10,
           10,
           11,
           11,
           12,
           12,
           13,
           13,
           14,
           14,
           5,
           5,
           6,
           6,
           7,
           7,
           8,
           8,
           9,
           9,
           10,
           10,
           11,
           11,
           12,
           12,
           13,
           13,
           14,
           14,
           5,
           5,
           6,
           6,
           7,
           7,
           8,
           8,
           9,
           9,
           10,
           10,
           11,
           11,
           12,
           12,
           13,
           13,
           14,
           14,
           5,
           5,
           6,
           6,
           7,
           7,
           8,
           8,
           9,
           9,
           10,
           10,
           11,
           11,
           12,
           12,
           13,
           13,
           14,
           14,
           5,
           5,
           6,
           6,
           7,
           7,
           8,
           8,
           9,
           9,
           10,
           10,
           11,
           11,
           12,
           12,
           13,
           13,
           14,
           14,
           5,
           5,
           6,
           6,
           7,
           7,
           8,
           8,
           9,
           9,
           10,
           10,
           11,
           11,
           12,
           12,
           13,
           13,
           14,
           14,
           5,
           5,
           6,
           6,
           7,
           7,
           8,
           8,
           9,
           9,
           10,
           10,
           11,
           11,
           12,
           12,
           13,
           13,
           14,
           14,
           5,
           5,
           6,
           6,
           7,
           7,
           8,
           8,
           9,
           9,
           10,
           10,
           11,
           11,
           12,
           12,
           13,
           13,
           14,
           14,
           5,
           5,
           6,
           6,
           7,
           7,
           8,
           8,
           9,
           9,
           10,
           10,
           11,
           11,
           12,
           12,
           13,
           13,
           14,
           14,
           5,
           5,
           6,
           6,
           7,
           7,
           8,
           8,
           9,
           9,
           10,
           10,
           11,
           11,
           12,
           12,
           13,
           13,
           14,
           14,
           5,
           5,
           6,
           6,
           7,
           7,
           8,
           8,
           9,
           9,
           10,
           10,
           11,
           11,
           12,
           12,
           13,
           13,
           14,
           14,
           5,
           5,
           6,
           6,
           7,
           7,
           8,
           8,
           9,
           9,
           10,
           10,
           11,
           11,
           12,
           12,
           13,
           13,
           14,
           14,
           5,
           5,
           6,
           6,
           7,
           7,
           8,
           8,
           9,
           9,
           10,
           10,
           11,
           11,
           12,
           12,
           13,
           13,
           14,
           14,
           1,
           1,
           1,
           1,
           1,
           1,
           1,
           1,
           1,
           1,
           2,
           2,
           2,
           2,
           2,
           2,
           2,
           2,
           2,
           2,
           0,
           0,
           0,
           0,
           0,
           0,
           0,
           0,
           0,
           0,
           4,
           4,
           4,
           4,
           4,
           4,
           4,
           4,
           4,
           4,
           3,
           3,
           3,
           3,
           3,
           3,
           3,
           3,
           3,
           3
          ],
          "target": [
           15,
           16,
           15,
           16,
           15,
           16,
           15,
           16,
           15,
           16,
           15,
           16,
           15,
           16,
           15,
           16,
           15,
           16,
           15,
           16,
           15,
           16,
           15,
           16,
           15,
           16,
           15,
           16,
           15,
           16,
           15,
           16,
           15,
           16,
           15,
           16,
           15,
           16,
           15,
           16,
           15,
           16,
           15,
           16,
           15,
           16,
           15,
           16,
           15,
           16,
           15,
           16,
           15,
           16,
           15,
           16,
           15,
           16,
           15,
           16,
           15,
           16,
           15,
           16,
           15,
           16,
           15,
           16,
           15,
           16,
           15,
           16,
           15,
           16,
           15,
           16,
           15,
           16,
           15,
           16,
           15,
           16,
           15,
           16,
           15,
           16,
           15,
           16,
           15,
           16,
           15,
           16,
           15,
           16,
           15,
           16,
           15,
           16,
           15,
           16,
           15,
           16,
           15,
           16,
           15,
           16,
           15,
           16,
           15,
           16,
           15,
           16,
           15,
           16,
           15,
           16,
           15,
           16,
           15,
           16,
           15,
           16,
           15,
           16,
           15,
           16,
           15,
           16,
           15,
           16,
           15,
           16,
           15,
           16,
           15,
           16,
           15,
           16,
           15,
           16,
           15,
           16,
           15,
           16,
           15,
           16,
           15,
           16,
           15,
           16,
           15,
           16,
           15,
           16,
           15,
           16,
           15,
           16,
           15,
           16,
           15,
           16,
           15,
           16,
           15,
           16,
           15,
           16,
           15,
           16,
           15,
           16,
           15,
           16,
           15,
           16,
           15,
           16,
           15,
           16,
           15,
           16,
           15,
           16,
           15,
           16,
           15,
           16,
           15,
           16,
           15,
           16,
           15,
           16,
           15,
           16,
           15,
           16,
           15,
           16,
           15,
           16,
           15,
           16,
           15,
           16,
           15,
           16,
           15,
           16,
           15,
           16,
           15,
           16,
           15,
           16,
           15,
           16,
           15,
           16,
           15,
           16,
           15,
           16,
           15,
           16,
           15,
           16,
           15,
           16,
           15,
           16,
           15,
           16,
           15,
           16,
           15,
           16,
           15,
           16,
           15,
           16,
           15,
           16,
           15,
           16,
           15,
           16,
           15,
           16,
           15,
           16,
           15,
           16,
           15,
           16,
           15,
           16,
           15,
           16,
           15,
           16,
           15,
           16,
           15,
           16,
           15,
           16,
           15,
           16,
           15,
           16,
           15,
           16,
           15,
           16,
           15,
           16,
           15,
           16,
           15,
           16,
           15,
           16,
           15,
           16,
           15,
           16,
           15,
           16,
           15,
           16,
           15,
           16,
           15,
           16,
           15,
           16,
           15,
           16,
           15,
           16,
           15,
           16,
           15,
           16,
           15,
           16,
           15,
           16,
           15,
           16,
           15,
           16,
           15,
           16,
           15,
           16,
           15,
           16,
           15,
           16,
           15,
           16,
           15,
           16,
           15,
           16,
           15,
           16,
           15,
           16,
           15,
           16,
           15,
           16,
           15,
           16,
           15,
           16,
           15,
           16,
           15,
           16,
           15,
           16,
           15,
           16,
           15,
           16,
           15,
           16,
           15,
           16,
           15,
           16,
           15,
           16,
           15,
           16,
           15,
           16,
           15,
           16,
           15,
           16,
           15,
           16,
           15,
           16,
           15,
           16,
           15,
           16,
           15,
           16,
           15,
           16,
           15,
           16,
           15,
           16,
           15,
           16,
           15,
           16,
           15,
           16,
           15,
           16,
           15,
           16,
           15,
           16,
           15,
           16,
           15,
           16,
           15,
           16,
           5,
           6,
           7,
           8,
           9,
           10,
           11,
           12,
           13,
           14,
           5,
           6,
           7,
           8,
           9,
           10,
           11,
           12,
           13,
           14,
           5,
           6,
           7,
           8,
           9,
           10,
           11,
           12,
           13,
           14,
           5,
           6,
           7,
           8,
           9,
           10,
           11,
           12,
           13,
           14,
           5,
           6,
           7,
           8,
           9,
           10,
           11,
           12,
           13,
           14
          ],
          "value": [
           53,
           1,
           41,
           13,
           41,
           6,
           45,
           9,
           51,
           5,
           46,
           4,
           57,
           1,
           57,
           3,
           52,
           5,
           48,
           11,
           56,
           1,
           50,
           12,
           60,
           0,
           38,
           10,
           50,
           1,
           50,
           8,
           52,
           1,
           56,
           2,
           45,
           1,
           46,
           7,
           56,
           1,
           51,
           7,
           51,
           3,
           43,
           12,
           52,
           4,
           54,
           2,
           51,
           0,
           44,
           6,
           41,
           10,
           49,
           8,
           56,
           3,
           42,
           12,
           52,
           3,
           42,
           14,
           50,
           2,
           42,
           9,
           45,
           3,
           52,
           9,
           53,
           3,
           44,
           9,
           53,
           1,
           43,
           11,
           45,
           2,
           51,
           9,
           58,
           0,
           59,
           0,
           48,
           3,
           51,
           2,
           45,
           9,
           46,
           7,
           55,
           2,
           47,
           9,
           57,
           3,
           47,
           4,
           53,
           2,
           53,
           1,
           54,
           2,
           46,
           1,
           49,
           3,
           43,
           10,
           49,
           4,
           50,
           6,
           51,
           7,
           38,
           12,
           50,
           1,
           51,
           6,
           53,
           2,
           53,
           2,
           43,
           4,
           45,
           13,
           52,
           1,
           42,
           8,
           52,
           5,
           44,
           7,
           60,
           1,
           47,
           2,
           54,
           1,
           47,
           5,
           45,
           10,
           50,
           5,
           54,
           1,
           41,
           11,
           49,
           10,
           50,
           10,
           52,
           3,
           50,
           6,
           51,
           1,
           42,
           10,
           36,
           13,
           40,
           7,
           57,
           1,
           49,
           9,
           44,
           4,
           42,
           8,
           50,
           5,
           48,
           10,
           56,
           2,
           59,
           2,
           51,
           4,
           29,
           7,
           56,
           2,
           44,
           15,
           52,
           2,
           50,
           6,
           50,
           0,
           43,
           2,
           54,
           2,
           50,
           1,
           50,
           2,
           48,
           6,
           51,
           1,
           49,
           8,
           58,
           1,
           50,
           2,
           47,
           3,
           54,
           4,
           57,
           1,
           27,
           3,
           58,
           4,
           40,
           12,
           45,
           2,
           45,
           7,
           58,
           3,
           44,
           9,
           49,
           3,
           53,
           3,
           50,
           1,
           48,
           3,
           47,
           5,
           45,
           10,
           53,
           5,
           47,
           4,
           43,
           11,
           44,
           11,
           48,
           7,
           47,
           6,
           49,
           4,
           52,
           10,
           46,
           11,
           19,
           6,
           54,
           2,
           40,
           8,
           42,
           7,
           40,
           5,
           47,
           0,
           47,
           2,
           51,
           0,
           57,
           5,
           53,
           8,
           40,
           10,
           53,
           3,
           46,
           5,
           53,
           2,
           46,
           9,
           48,
           5,
           51,
           1,
           46,
           3,
           43,
           7,
           40,
           5,
           42,
           4,
           52,
           0,
           40,
           8,
           47,
           2,
           44,
           13,
           50,
           0,
           53,
           3,
           50,
           1,
           47,
           5,
           48,
           9,
           24,
           8,
           55,
           2,
           46,
           9,
           52,
           0,
           49,
           4,
           60,
           1,
           43,
           6,
           49,
           1,
           58,
           1,
           29,
           3,
           20,
           2,
           48,
           2,
           51,
           7,
           47,
           3,
           44,
           18,
           47,
           4,
           49,
           5,
           54,
           0,
           49,
           4,
           35,
           12,
           9,
           2,
           44,
           1,
           42,
           7,
           46,
           6,
           48,
           6,
           46,
           5,
           42,
           6,
           50,
           1,
           9,
           0,
           15,
           3,
           32,
           6,
           265,
           256,
           269,
           274,
           278,
           256,
           269,
           235,
           236,
           224,
           448,
           444,
           438,
           432,
           423,
           425,
           416,
           411,
           401,
           369,
           151,
           164,
           158,
           175,
           161,
           169,
           156,
           157,
           153,
           119,
           113,
           104,
           109,
           96,
           102,
           103,
           107,
           109,
           113,
           103,
           111,
           114,
           106,
           100,
           106,
           115,
           113,
           116,
           102,
           94
          ]
         },
         "node": {
          "color": [
           "gray",
           "gray",
           "#e49a21",
           "gray",
           "gray",
           "gray",
           "gray",
           "gray",
           "gray",
           "gray",
           "gray",
           "gray",
           "gray",
           "gray",
           "gray",
           "#9bbdcf",
           "#e66f4b"
          ],
          "label": [
           "América",
           "África",
           "Asia",
           "Europa",
           "Oceanía",
           "migrant",
           "in-need",
           "vulnerable",
           "homeless",
           "women",
           "refugee",
           "immigrant",
           "disabled",
           "hopeless",
           "poor-families",
           "Sin PCL",
           "PCL"
          ],
          "line": {
           "color": "grey",
           "width": 0.5
          },
          "pad": 40,
          "thickness": 50
         },
         "orientation": "h",
         "textfont": {
          "size": 20
         },
         "type": "sankey"
        }
       ],
       "layout": {
        "height": 800,
        "template": {
         "data": {
          "bar": [
           {
            "error_x": {
             "color": "#2a3f5f"
            },
            "error_y": {
             "color": "#2a3f5f"
            },
            "marker": {
             "line": {
              "color": "white",
              "width": 0.5
             }
            },
            "type": "bar"
           }
          ],
          "barpolar": [
           {
            "marker": {
             "line": {
              "color": "white",
              "width": 0.5
             }
            },
            "type": "barpolar"
           }
          ],
          "carpet": [
           {
            "aaxis": {
             "endlinecolor": "#2a3f5f",
             "gridcolor": "#C8D4E3",
             "linecolor": "#C8D4E3",
             "minorgridcolor": "#C8D4E3",
             "startlinecolor": "#2a3f5f"
            },
            "baxis": {
             "endlinecolor": "#2a3f5f",
             "gridcolor": "#C8D4E3",
             "linecolor": "#C8D4E3",
             "minorgridcolor": "#C8D4E3",
             "startlinecolor": "#2a3f5f"
            },
            "type": "carpet"
           }
          ],
          "choropleth": [
           {
            "colorbar": {
             "outlinewidth": 0,
             "ticks": ""
            },
            "type": "choropleth"
           }
          ],
          "contour": [
           {
            "colorbar": {
             "outlinewidth": 0,
             "ticks": ""
            },
            "colorscale": [
             [
              0,
              "#0d0887"
             ],
             [
              0.1111111111111111,
              "#46039f"
             ],
             [
              0.2222222222222222,
              "#7201a8"
             ],
             [
              0.3333333333333333,
              "#9c179e"
             ],
             [
              0.4444444444444444,
              "#bd3786"
             ],
             [
              0.5555555555555556,
              "#d8576b"
             ],
             [
              0.6666666666666666,
              "#ed7953"
             ],
             [
              0.7777777777777778,
              "#fb9f3a"
             ],
             [
              0.8888888888888888,
              "#fdca26"
             ],
             [
              1,
              "#f0f921"
             ]
            ],
            "type": "contour"
           }
          ],
          "contourcarpet": [
           {
            "colorbar": {
             "outlinewidth": 0,
             "ticks": ""
            },
            "type": "contourcarpet"
           }
          ],
          "heatmap": [
           {
            "colorbar": {
             "outlinewidth": 0,
             "ticks": ""
            },
            "colorscale": [
             [
              0,
              "#0d0887"
             ],
             [
              0.1111111111111111,
              "#46039f"
             ],
             [
              0.2222222222222222,
              "#7201a8"
             ],
             [
              0.3333333333333333,
              "#9c179e"
             ],
             [
              0.4444444444444444,
              "#bd3786"
             ],
             [
              0.5555555555555556,
              "#d8576b"
             ],
             [
              0.6666666666666666,
              "#ed7953"
             ],
             [
              0.7777777777777778,
              "#fb9f3a"
             ],
             [
              0.8888888888888888,
              "#fdca26"
             ],
             [
              1,
              "#f0f921"
             ]
            ],
            "type": "heatmap"
           }
          ],
          "heatmapgl": [
           {
            "colorbar": {
             "outlinewidth": 0,
             "ticks": ""
            },
            "colorscale": [
             [
              0,
              "#0d0887"
             ],
             [
              0.1111111111111111,
              "#46039f"
             ],
             [
              0.2222222222222222,
              "#7201a8"
             ],
             [
              0.3333333333333333,
              "#9c179e"
             ],
             [
              0.4444444444444444,
              "#bd3786"
             ],
             [
              0.5555555555555556,
              "#d8576b"
             ],
             [
              0.6666666666666666,
              "#ed7953"
             ],
             [
              0.7777777777777778,
              "#fb9f3a"
             ],
             [
              0.8888888888888888,
              "#fdca26"
             ],
             [
              1,
              "#f0f921"
             ]
            ],
            "type": "heatmapgl"
           }
          ],
          "histogram": [
           {
            "marker": {
             "colorbar": {
              "outlinewidth": 0,
              "ticks": ""
             }
            },
            "type": "histogram"
           }
          ],
          "histogram2d": [
           {
            "colorbar": {
             "outlinewidth": 0,
             "ticks": ""
            },
            "colorscale": [
             [
              0,
              "#0d0887"
             ],
             [
              0.1111111111111111,
              "#46039f"
             ],
             [
              0.2222222222222222,
              "#7201a8"
             ],
             [
              0.3333333333333333,
              "#9c179e"
             ],
             [
              0.4444444444444444,
              "#bd3786"
             ],
             [
              0.5555555555555556,
              "#d8576b"
             ],
             [
              0.6666666666666666,
              "#ed7953"
             ],
             [
              0.7777777777777778,
              "#fb9f3a"
             ],
             [
              0.8888888888888888,
              "#fdca26"
             ],
             [
              1,
              "#f0f921"
             ]
            ],
            "type": "histogram2d"
           }
          ],
          "histogram2dcontour": [
           {
            "colorbar": {
             "outlinewidth": 0,
             "ticks": ""
            },
            "colorscale": [
             [
              0,
              "#0d0887"
             ],
             [
              0.1111111111111111,
              "#46039f"
             ],
             [
              0.2222222222222222,
              "#7201a8"
             ],
             [
              0.3333333333333333,
              "#9c179e"
             ],
             [
              0.4444444444444444,
              "#bd3786"
             ],
             [
              0.5555555555555556,
              "#d8576b"
             ],
             [
              0.6666666666666666,
              "#ed7953"
             ],
             [
              0.7777777777777778,
              "#fb9f3a"
             ],
             [
              0.8888888888888888,
              "#fdca26"
             ],
             [
              1,
              "#f0f921"
             ]
            ],
            "type": "histogram2dcontour"
           }
          ],
          "mesh3d": [
           {
            "colorbar": {
             "outlinewidth": 0,
             "ticks": ""
            },
            "type": "mesh3d"
           }
          ],
          "parcoords": [
           {
            "line": {
             "colorbar": {
              "outlinewidth": 0,
              "ticks": ""
             }
            },
            "type": "parcoords"
           }
          ],
          "pie": [
           {
            "automargin": true,
            "type": "pie"
           }
          ],
          "scatter": [
           {
            "marker": {
             "colorbar": {
              "outlinewidth": 0,
              "ticks": ""
             }
            },
            "type": "scatter"
           }
          ],
          "scatter3d": [
           {
            "line": {
             "colorbar": {
              "outlinewidth": 0,
              "ticks": ""
             }
            },
            "marker": {
             "colorbar": {
              "outlinewidth": 0,
              "ticks": ""
             }
            },
            "type": "scatter3d"
           }
          ],
          "scattercarpet": [
           {
            "marker": {
             "colorbar": {
              "outlinewidth": 0,
              "ticks": ""
             }
            },
            "type": "scattercarpet"
           }
          ],
          "scattergeo": [
           {
            "marker": {
             "colorbar": {
              "outlinewidth": 0,
              "ticks": ""
             }
            },
            "type": "scattergeo"
           }
          ],
          "scattergl": [
           {
            "marker": {
             "colorbar": {
              "outlinewidth": 0,
              "ticks": ""
             }
            },
            "type": "scattergl"
           }
          ],
          "scattermapbox": [
           {
            "marker": {
             "colorbar": {
              "outlinewidth": 0,
              "ticks": ""
             }
            },
            "type": "scattermapbox"
           }
          ],
          "scatterpolar": [
           {
            "marker": {
             "colorbar": {
              "outlinewidth": 0,
              "ticks": ""
             }
            },
            "type": "scatterpolar"
           }
          ],
          "scatterpolargl": [
           {
            "marker": {
             "colorbar": {
              "outlinewidth": 0,
              "ticks": ""
             }
            },
            "type": "scatterpolargl"
           }
          ],
          "scatterternary": [
           {
            "marker": {
             "colorbar": {
              "outlinewidth": 0,
              "ticks": ""
             }
            },
            "type": "scatterternary"
           }
          ],
          "surface": [
           {
            "colorbar": {
             "outlinewidth": 0,
             "ticks": ""
            },
            "colorscale": [
             [
              0,
              "#0d0887"
             ],
             [
              0.1111111111111111,
              "#46039f"
             ],
             [
              0.2222222222222222,
              "#7201a8"
             ],
             [
              0.3333333333333333,
              "#9c179e"
             ],
             [
              0.4444444444444444,
              "#bd3786"
             ],
             [
              0.5555555555555556,
              "#d8576b"
             ],
             [
              0.6666666666666666,
              "#ed7953"
             ],
             [
              0.7777777777777778,
              "#fb9f3a"
             ],
             [
              0.8888888888888888,
              "#fdca26"
             ],
             [
              1,
              "#f0f921"
             ]
            ],
            "type": "surface"
           }
          ],
          "table": [
           {
            "cells": {
             "fill": {
              "color": "#EBF0F8"
             },
             "line": {
              "color": "white"
             }
            },
            "header": {
             "fill": {
              "color": "#C8D4E3"
             },
             "line": {
              "color": "white"
             }
            },
            "type": "table"
           }
          ]
         },
         "layout": {
          "annotationdefaults": {
           "arrowcolor": "#2a3f5f",
           "arrowhead": 0,
           "arrowwidth": 1
          },
          "autotypenumbers": "strict",
          "coloraxis": {
           "colorbar": {
            "outlinewidth": 0,
            "ticks": ""
           }
          },
          "colorscale": {
           "diverging": [
            [
             0,
             "#8e0152"
            ],
            [
             0.1,
             "#c51b7d"
            ],
            [
             0.2,
             "#de77ae"
            ],
            [
             0.3,
             "#f1b6da"
            ],
            [
             0.4,
             "#fde0ef"
            ],
            [
             0.5,
             "#f7f7f7"
            ],
            [
             0.6,
             "#e6f5d0"
            ],
            [
             0.7,
             "#b8e186"
            ],
            [
             0.8,
             "#7fbc41"
            ],
            [
             0.9,
             "#4d9221"
            ],
            [
             1,
             "#276419"
            ]
           ],
           "sequential": [
            [
             0,
             "#0d0887"
            ],
            [
             0.1111111111111111,
             "#46039f"
            ],
            [
             0.2222222222222222,
             "#7201a8"
            ],
            [
             0.3333333333333333,
             "#9c179e"
            ],
            [
             0.4444444444444444,
             "#bd3786"
            ],
            [
             0.5555555555555556,
             "#d8576b"
            ],
            [
             0.6666666666666666,
             "#ed7953"
            ],
            [
             0.7777777777777778,
             "#fb9f3a"
            ],
            [
             0.8888888888888888,
             "#fdca26"
            ],
            [
             1,
             "#f0f921"
            ]
           ],
           "sequentialminus": [
            [
             0,
             "#0d0887"
            ],
            [
             0.1111111111111111,
             "#46039f"
            ],
            [
             0.2222222222222222,
             "#7201a8"
            ],
            [
             0.3333333333333333,
             "#9c179e"
            ],
            [
             0.4444444444444444,
             "#bd3786"
            ],
            [
             0.5555555555555556,
             "#d8576b"
            ],
            [
             0.6666666666666666,
             "#ed7953"
            ],
            [
             0.7777777777777778,
             "#fb9f3a"
            ],
            [
             0.8888888888888888,
             "#fdca26"
            ],
            [
             1,
             "#f0f921"
            ]
           ]
          },
          "colorway": [
           "#636efa",
           "#EF553B",
           "#00cc96",
           "#ab63fa",
           "#FFA15A",
           "#19d3f3",
           "#FF6692",
           "#B6E880",
           "#FF97FF",
           "#FECB52"
          ],
          "font": {
           "color": "#2a3f5f"
          },
          "geo": {
           "bgcolor": "white",
           "lakecolor": "white",
           "landcolor": "white",
           "showlakes": true,
           "showland": true,
           "subunitcolor": "#C8D4E3"
          },
          "hoverlabel": {
           "align": "left"
          },
          "hovermode": "closest",
          "mapbox": {
           "style": "light"
          },
          "paper_bgcolor": "white",
          "plot_bgcolor": "white",
          "polar": {
           "angularaxis": {
            "gridcolor": "#EBF0F8",
            "linecolor": "#EBF0F8",
            "ticks": ""
           },
           "bgcolor": "white",
           "radialaxis": {
            "gridcolor": "#EBF0F8",
            "linecolor": "#EBF0F8",
            "ticks": ""
           }
          },
          "scene": {
           "xaxis": {
            "backgroundcolor": "white",
            "gridcolor": "#DFE8F3",
            "gridwidth": 2,
            "linecolor": "#EBF0F8",
            "showbackground": true,
            "ticks": "",
            "zerolinecolor": "#EBF0F8"
           },
           "yaxis": {
            "backgroundcolor": "white",
            "gridcolor": "#DFE8F3",
            "gridwidth": 2,
            "linecolor": "#EBF0F8",
            "showbackground": true,
            "ticks": "",
            "zerolinecolor": "#EBF0F8"
           },
           "zaxis": {
            "backgroundcolor": "white",
            "gridcolor": "#DFE8F3",
            "gridwidth": 2,
            "linecolor": "#EBF0F8",
            "showbackground": true,
            "ticks": "",
            "zerolinecolor": "#EBF0F8"
           }
          },
          "shapedefaults": {
           "line": {
            "color": "#2a3f5f"
           }
          },
          "ternary": {
           "aaxis": {
            "gridcolor": "#DFE8F3",
            "linecolor": "#A2B1C6",
            "ticks": ""
           },
           "baxis": {
            "gridcolor": "#DFE8F3",
            "linecolor": "#A2B1C6",
            "ticks": ""
           },
           "bgcolor": "white",
           "caxis": {
            "gridcolor": "#DFE8F3",
            "linecolor": "#A2B1C6",
            "ticks": ""
           }
          },
          "title": {
           "x": 0.05
          },
          "xaxis": {
           "automargin": true,
           "gridcolor": "#EBF0F8",
           "linecolor": "#EBF0F8",
           "ticks": "",
           "title": {
            "standoff": 15
           },
           "zerolinecolor": "#EBF0F8",
           "zerolinewidth": 2
          },
          "yaxis": {
           "automargin": true,
           "gridcolor": "#EBF0F8",
           "linecolor": "#EBF0F8",
           "ticks": "",
           "title": {
            "standoff": 15
           },
           "zerolinecolor": "#EBF0F8",
           "zerolinewidth": 2
          }
         }
        },
        "title": {
         "font": {
          "size": 25
         },
         "text": "<b>Asia</b> es el continente que más contribuye <br>noticias sobre grupos vulnerables"
        },
        "width": 1000
       }
      }
     },
     "metadata": {},
     "output_type": "display_data"
    }
   ],
   "source": [
    "#labels = [coco.convert(names=[labels[i]], to='short_name') if i < NUM_COUNTRIES else labels[i].capitalize() for i in range(len(labels))]\n",
    "labels = [\"PCL\" if i == len(labels)-1 else labels[i] for i in range(len(labels))]\n",
    "labels = [\"Sin PCL\" if i == len(labels)-2 else labels[i] for i in range(len(labels))]\n",
    "\n",
    "fig = go.Figure()\n",
    "fig.add_trace(go.Sankey(\n",
    "    node = dict(\n",
    "        pad = 40, thickness=50, line = dict(color=\"grey\", width=0.5),\n",
    "        label = labels,\n",
    "        color = [\"gray\", \"gray\", YELLOW_COLOR, \"gray\", \"gray\"] + [\"gray\"]*len(keywords) + binary_colors\n",
    "    ),\n",
    "    link = dict(\n",
    "        source=sources, target=targets, value=values, color=colors\n",
    "    )\n",
    "))\n",
    "fig.update_layout(\n",
    "    title=dict(\n",
    "        text=f\"<b>Asia</b> es el continente que más contribuye <br>noticias sobre grupos vulnerables\",\n",
    "        font_size=25\n",
    "    ), template=TEMPLATE, \n",
    "    height=800, width=1000\n",
    ")\n",
    "fig.update_traces(\n",
    "    textfont_size=20, orientation='h'\n",
    ")\n",
    "fig.show()"
   ]
  },
  {
   "cell_type": "markdown",
   "id": "93d34931",
   "metadata": {},
   "source": [
    "## Text cleaning"
   ]
  },
  {
   "cell_type": "code",
   "execution_count": 14,
   "id": "634e937f",
   "metadata": {},
   "outputs": [],
   "source": [
    "def utils_preprocess_text(text, flg_stemm=False, flg_lemm=True, lst_stopwords=None):\n",
    "    ## clean (convert to lowercase and remove punctuations and characters and then strip)\n",
    "    text = re.sub(r'[^\\w\\s]', '', str(text).lower().strip())\n",
    "            \n",
    "    ## Tokenize (convert from string to list)\n",
    "    lst_text = text.split()    ## remove Stopwords\n",
    "    if lst_stopwords is not None:\n",
    "        lst_text = [word for word in lst_text if word not in \n",
    "                    lst_stopwords]\n",
    "                \n",
    "    ## Stemming (remove -ing, -ly, ...)\n",
    "    if flg_stemm == True:\n",
    "        ps = nltk.stem.porter.PorterStemmer()\n",
    "        lst_text = [ps.stem(word) for word in lst_text]\n",
    "                \n",
    "    ## Lemmatisation (convert the word into root word)\n",
    "    if flg_lemm == True:\n",
    "        lem = nltk.stem.wordnet.WordNetLemmatizer()\n",
    "        lst_text = [lem.lemmatize(word) for word in lst_text]\n",
    "            \n",
    "    ## back to string from list\n",
    "    text = \" \".join(lst_text)\n",
    "    return text"
   ]
  },
  {
   "cell_type": "code",
   "execution_count": 15,
   "id": "5c3dc473",
   "metadata": {},
   "outputs": [],
   "source": [
    "binary_df[\"text\"] = binary_df[\"text\"].apply(\n",
    "    lambda x: utils_preprocess_text(x, flg_stemm=False, flg_lemm=True, lst_stopwords=lst_stopwords)\n",
    ")"
   ]
  },
  {
   "cell_type": "markdown",
   "id": "fb007102",
   "metadata": {},
   "source": [
    "## Sentiment Analysis"
   ]
  },
  {
   "cell_type": "code",
   "execution_count": 16,
   "id": "1f7d2531",
   "metadata": {},
   "outputs": [
    {
     "data": {
      "text/html": [
       "<div>\n",
       "<style scoped>\n",
       "    .dataframe tbody tr th:only-of-type {\n",
       "        vertical-align: middle;\n",
       "    }\n",
       "\n",
       "    .dataframe tbody tr th {\n",
       "        vertical-align: top;\n",
       "    }\n",
       "\n",
       "    .dataframe thead th {\n",
       "        text-align: right;\n",
       "    }\n",
       "</style>\n",
       "<table border=\"1\" class=\"dataframe\">\n",
       "  <thead>\n",
       "    <tr style=\"text-align: right;\">\n",
       "      <th></th>\n",
       "      <th>text</th>\n",
       "      <th>label</th>\n",
       "      <th>keyword</th>\n",
       "      <th>sentiment</th>\n",
       "      <th>subjectivity</th>\n",
       "    </tr>\n",
       "  </thead>\n",
       "  <tbody>\n",
       "    <tr>\n",
       "      <th>0</th>\n",
       "      <td>living time absolute insanity pretty sure peop...</td>\n",
       "      <td>0</td>\n",
       "      <td>hopeless</td>\n",
       "      <td>0.067361</td>\n",
       "      <td>0.467824</td>\n",
       "    </tr>\n",
       "    <tr>\n",
       "      <th>1</th>\n",
       "      <td>libya today countless number ghanaian nigerian...</td>\n",
       "      <td>0</td>\n",
       "      <td>migrant</td>\n",
       "      <td>0.000000</td>\n",
       "      <td>0.750000</td>\n",
       "    </tr>\n",
       "    <tr>\n",
       "      <th>2</th>\n",
       "      <td>white house press secretary sean spicer said f...</td>\n",
       "      <td>0</td>\n",
       "      <td>immigrant</td>\n",
       "      <td>-0.133333</td>\n",
       "      <td>0.200000</td>\n",
       "    </tr>\n",
       "    <tr>\n",
       "      <th>3</th>\n",
       "      <td>council customer sign would displayed two spac...</td>\n",
       "      <td>0</td>\n",
       "      <td>disabled</td>\n",
       "      <td>-0.200000</td>\n",
       "      <td>0.300000</td>\n",
       "    </tr>\n",
       "    <tr>\n",
       "      <th>4</th>\n",
       "      <td>like received migrant fleeing el salvador guat...</td>\n",
       "      <td>0</td>\n",
       "      <td>refugee</td>\n",
       "      <td>0.100000</td>\n",
       "      <td>0.100000</td>\n",
       "    </tr>\n",
       "  </tbody>\n",
       "</table>\n",
       "</div>"
      ],
      "text/plain": [
       "                                                text  label    keyword  \\\n",
       "0  living time absolute insanity pretty sure peop...      0   hopeless   \n",
       "1  libya today countless number ghanaian nigerian...      0    migrant   \n",
       "2  white house press secretary sean spicer said f...      0  immigrant   \n",
       "3  council customer sign would displayed two spac...      0   disabled   \n",
       "4  like received migrant fleeing el salvador guat...      0    refugee   \n",
       "\n",
       "   sentiment  subjectivity  \n",
       "0   0.067361      0.467824  \n",
       "1   0.000000      0.750000  \n",
       "2  -0.133333      0.200000  \n",
       "3  -0.200000      0.300000  \n",
       "4   0.100000      0.100000  "
      ]
     },
     "execution_count": 16,
     "metadata": {},
     "output_type": "execute_result"
    }
   ],
   "source": [
    "text_df = binary_df[[\"text\", \"label\", \"keyword\"]]\n",
    "text_df[\"sentiment\"] = text_df[\"text\"].apply(\n",
    "    lambda x: TextBlob(x).sentiment.polarity\n",
    ")\n",
    "text_df[\"subjectivity\"] = text_df[\"text\"].apply(\n",
    "    lambda x: TextBlob(x).sentiment.subjectivity\n",
    ")\n",
    "text_df.head()"
   ]
  },
  {
   "cell_type": "code",
   "execution_count": 20,
   "id": "80c3d8af",
   "metadata": {},
   "outputs": [],
   "source": [
    "def key_from_sentiment(sentiment):\n",
    "    if sentiment < 0: return \"negativo\"    \n",
    "    if sentiment == 0: return \"neutral\"\n",
    "    return \"positivo\"\n",
    "\n",
    "sentiment_pcl_dict = {\"neutral\": 0, \"positivo\": 0, \"negativo\": 0}\n",
    "sentiment_no_pcl_dict = {\"neutral\": 0, \"positivo\": 0, \"negativo\": 0}\n",
    "for idx, row in text_df.iterrows():\n",
    "    if row[\"label\"] == 0:\n",
    "        sentiment_no_pcl_dict[key_from_sentiment(row[\"sentiment\"])] += 1\n",
    "    else:\n",
    "        sentiment_pcl_dict[key_from_sentiment(row[\"sentiment\"])] += 1"
   ]
  },
  {
   "cell_type": "code",
   "execution_count": 98,
   "id": "190cd99b",
   "metadata": {},
   "outputs": [
    {
     "data": {
      "application/vnd.plotly.v1+json": {
       "config": {
        "plotlyServerURL": "https://plotly.com"
       },
       "data": [
        {
         "legendgroup": "Sin PCL",
         "marker": {
          "color": "#9bbdcf"
         },
         "mode": "lines",
         "name": "Sin PCL",
         "showlegend": true,
         "type": "scatter",
         "x": [
          -1,
          -0.996,
          -0.992,
          -0.988,
          -0.984,
          -0.98,
          -0.976,
          -0.972,
          -0.968,
          -0.964,
          -0.96,
          -0.956,
          -0.952,
          -0.948,
          -0.944,
          -0.94,
          -0.9359999999999999,
          -0.9319999999999999,
          -0.928,
          -0.924,
          -0.92,
          -0.916,
          -0.912,
          -0.908,
          -0.904,
          -0.9,
          -0.896,
          -0.892,
          -0.888,
          -0.884,
          -0.88,
          -0.876,
          -0.872,
          -0.868,
          -0.864,
          -0.86,
          -0.856,
          -0.852,
          -0.848,
          -0.844,
          -0.84,
          -0.836,
          -0.832,
          -0.8280000000000001,
          -0.8240000000000001,
          -0.8200000000000001,
          -0.8160000000000001,
          -0.812,
          -0.808,
          -0.804,
          -0.8,
          -0.796,
          -0.792,
          -0.788,
          -0.784,
          -0.78,
          -0.776,
          -0.772,
          -0.768,
          -0.764,
          -0.76,
          -0.756,
          -0.752,
          -0.748,
          -0.744,
          -0.74,
          -0.736,
          -0.732,
          -0.728,
          -0.724,
          -0.72,
          -0.716,
          -0.712,
          -0.708,
          -0.704,
          -0.7,
          -0.696,
          -0.692,
          -0.688,
          -0.6839999999999999,
          -0.6799999999999999,
          -0.6759999999999999,
          -0.6719999999999999,
          -0.6679999999999999,
          -0.6639999999999999,
          -0.6599999999999999,
          -0.656,
          -0.652,
          -0.648,
          -0.644,
          -0.64,
          -0.636,
          -0.632,
          -0.628,
          -0.624,
          -0.62,
          -0.616,
          -0.612,
          -0.608,
          -0.604,
          -0.6,
          -0.596,
          -0.5920000000000001,
          -0.5880000000000001,
          -0.5840000000000001,
          -0.5800000000000001,
          -0.5760000000000001,
          -0.5720000000000001,
          -0.5680000000000001,
          -0.5640000000000001,
          -0.56,
          -0.556,
          -0.552,
          -0.548,
          -0.544,
          -0.54,
          -0.536,
          -0.532,
          -0.528,
          -0.524,
          -0.52,
          -0.516,
          -0.512,
          -0.508,
          -0.504,
          -0.5,
          -0.496,
          -0.492,
          -0.488,
          -0.484,
          -0.48,
          -0.476,
          -0.472,
          -0.46799999999999997,
          -0.46399999999999997,
          -0.45999999999999996,
          -0.45599999999999996,
          -0.45199999999999996,
          -0.44799999999999995,
          -0.44399999999999995,
          -0.43999999999999995,
          -0.43600000000000005,
          -0.43200000000000005,
          -0.42800000000000005,
          -0.42400000000000004,
          -0.42000000000000004,
          -0.41600000000000004,
          -0.41200000000000003,
          -0.40800000000000003,
          -0.404,
          -0.4,
          -0.396,
          -0.392,
          -0.388,
          -0.384,
          -0.38,
          -0.376,
          -0.372,
          -0.368,
          -0.364,
          -0.36,
          -0.356,
          -0.352,
          -0.348,
          -0.344,
          -0.33999999999999997,
          -0.33599999999999997,
          -0.33199999999999996,
          -0.32799999999999996,
          -0.32399999999999995,
          -0.31999999999999995,
          -0.31599999999999995,
          -0.31200000000000006,
          -0.30800000000000005,
          -0.30400000000000005,
          -0.30000000000000004,
          -0.29600000000000004,
          -0.29200000000000004,
          -0.28800000000000003,
          -0.28400000000000003,
          -0.28,
          -0.276,
          -0.272,
          -0.268,
          -0.264,
          -0.26,
          -0.256,
          -0.252,
          -0.248,
          -0.244,
          -0.24,
          -0.236,
          -0.23199999999999998,
          -0.22799999999999998,
          -0.22399999999999998,
          -0.21999999999999997,
          -0.21599999999999997,
          -0.21199999999999997,
          -0.20799999999999996,
          -0.20399999999999996,
          -0.19999999999999996,
          -0.19599999999999995,
          -0.19199999999999995,
          -0.18799999999999994,
          -0.18400000000000005,
          -0.18000000000000005,
          -0.17600000000000005,
          -0.17200000000000004,
          -0.16800000000000004,
          -0.16400000000000003,
          -0.16000000000000003,
          -0.15600000000000003,
          -0.15200000000000002,
          -0.14800000000000002,
          -0.14400000000000002,
          -0.14,
          -0.136,
          -0.132,
          -0.128,
          -0.124,
          -0.12,
          -0.11599999999999999,
          -0.11199999999999999,
          -0.10799999999999998,
          -0.10399999999999998,
          -0.09999999999999998,
          -0.09599999999999997,
          -0.09199999999999997,
          -0.08799999999999997,
          -0.08399999999999996,
          -0.07999999999999996,
          -0.07599999999999996,
          -0.07199999999999995,
          -0.06799999999999995,
          -0.06399999999999995,
          -0.06000000000000005,
          -0.05600000000000005,
          -0.052000000000000046,
          -0.04800000000000004,
          -0.04400000000000004,
          -0.040000000000000036,
          -0.03600000000000003,
          -0.03200000000000003,
          -0.028000000000000025,
          -0.02400000000000002,
          -0.020000000000000018,
          -0.016000000000000014,
          -0.01200000000000001,
          -0.008000000000000007,
          -0.0040000000000000036,
          0,
          0.0040000000000000036,
          0.008000000000000007,
          0.01200000000000001,
          0.016000000000000014,
          0.020000000000000018,
          0.02400000000000002,
          0.028000000000000025,
          0.03200000000000003,
          0.03600000000000003,
          0.040000000000000036,
          0.04400000000000004,
          0.04800000000000004,
          0.052000000000000046,
          0.05600000000000005,
          0.06000000000000005,
          0.06400000000000006,
          0.06800000000000006,
          0.07200000000000006,
          0.07600000000000007,
          0.08000000000000007,
          0.08400000000000007,
          0.08800000000000008,
          0.09200000000000008,
          0.09600000000000009,
          0.10000000000000009,
          0.10400000000000009,
          0.1080000000000001,
          0.1120000000000001,
          0.1160000000000001,
          0.1200000000000001,
          0.12400000000000011,
          0.1279999999999999,
          0.1319999999999999,
          0.1359999999999999,
          0.1399999999999999,
          0.1439999999999999,
          0.1479999999999999,
          0.1519999999999999,
          0.15599999999999992,
          0.15999999999999992,
          0.16399999999999992,
          0.16799999999999993,
          0.17199999999999993,
          0.17599999999999993,
          0.17999999999999994,
          0.18399999999999994,
          0.18799999999999994,
          0.19199999999999995,
          0.19599999999999995,
          0.19999999999999996,
          0.20399999999999996,
          0.20799999999999996,
          0.21199999999999997,
          0.21599999999999997,
          0.21999999999999997,
          0.22399999999999998,
          0.22799999999999998,
          0.23199999999999998,
          0.236,
          0.24,
          0.244,
          0.248,
          0.252,
          0.256,
          0.26,
          0.264,
          0.268,
          0.272,
          0.276,
          0.28,
          0.28400000000000003,
          0.28800000000000003,
          0.29200000000000004,
          0.29600000000000004,
          0.30000000000000004,
          0.30400000000000005,
          0.30800000000000005,
          0.31200000000000006,
          0.31600000000000006,
          0.32000000000000006,
          0.32400000000000007,
          0.32800000000000007,
          0.3320000000000001,
          0.3360000000000001,
          0.3400000000000001,
          0.3440000000000001,
          0.3480000000000001,
          0.3520000000000001,
          0.3560000000000001,
          0.3600000000000001,
          0.3640000000000001,
          0.3680000000000001,
          0.3720000000000001,
          0.3759999999999999,
          0.3799999999999999,
          0.3839999999999999,
          0.3879999999999999,
          0.3919999999999999,
          0.3959999999999999,
          0.3999999999999999,
          0.4039999999999999,
          0.4079999999999999,
          0.4119999999999999,
          0.4159999999999999,
          0.41999999999999993,
          0.42399999999999993,
          0.42799999999999994,
          0.43199999999999994,
          0.43599999999999994,
          0.43999999999999995,
          0.44399999999999995,
          0.44799999999999995,
          0.45199999999999996,
          0.45599999999999996,
          0.45999999999999996,
          0.46399999999999997,
          0.46799999999999997,
          0.472,
          0.476,
          0.48,
          0.484,
          0.488,
          0.492,
          0.496,
          0.5,
          0.504,
          0.508,
          0.512,
          0.516,
          0.52,
          0.524,
          0.528,
          0.532,
          0.536,
          0.54,
          0.544,
          0.548,
          0.552,
          0.556,
          0.56,
          0.5640000000000001,
          0.5680000000000001,
          0.5720000000000001,
          0.5760000000000001,
          0.5800000000000001,
          0.5840000000000001,
          0.5880000000000001,
          0.5920000000000001,
          0.5960000000000001,
          0.6000000000000001,
          0.6040000000000001,
          0.6080000000000001,
          0.6120000000000001,
          0.6160000000000001,
          0.6200000000000001,
          0.6240000000000001,
          0.6279999999999999,
          0.6319999999999999,
          0.6359999999999999,
          0.6399999999999999,
          0.6439999999999999,
          0.6479999999999999,
          0.6519999999999999,
          0.6559999999999999,
          0.6599999999999999,
          0.6639999999999999,
          0.6679999999999999,
          0.6719999999999999,
          0.6759999999999999,
          0.6799999999999999,
          0.6839999999999999,
          0.688,
          0.692,
          0.696,
          0.7,
          0.704,
          0.708,
          0.712,
          0.716,
          0.72,
          0.724,
          0.728,
          0.732,
          0.736,
          0.74,
          0.744,
          0.748,
          0.752,
          0.756,
          0.76,
          0.764,
          0.768,
          0.772,
          0.776,
          0.78,
          0.784,
          0.788,
          0.792,
          0.796,
          0.8,
          0.804,
          0.808,
          0.812,
          0.8160000000000001,
          0.8200000000000001,
          0.8240000000000001,
          0.8280000000000001,
          0.8320000000000001,
          0.8360000000000001,
          0.8400000000000001,
          0.8440000000000001,
          0.8480000000000001,
          0.8520000000000001,
          0.8560000000000001,
          0.8600000000000001,
          0.8640000000000001,
          0.8680000000000001,
          0.8720000000000001,
          0.8759999999999999,
          0.8799999999999999,
          0.8839999999999999,
          0.8879999999999999,
          0.8919999999999999,
          0.8959999999999999,
          0.8999999999999999,
          0.9039999999999999,
          0.9079999999999999,
          0.9119999999999999,
          0.9159999999999999,
          0.9199999999999999,
          0.9239999999999999,
          0.9279999999999999,
          0.9319999999999999,
          0.9359999999999999,
          0.94,
          0.944,
          0.948,
          0.952,
          0.956,
          0.96,
          0.964,
          0.968,
          0.972,
          0.976,
          0.98,
          0.984,
          0.988,
          0.992,
          0.996
         ],
         "xaxis": "x",
         "y": [
          0.010135579244681338,
          0.010068608451031308,
          0.009861158523711328,
          0.00952297155637801,
          0.009069269907597733,
          0.008519737532581883,
          0.00789722753036525,
          0.00722631301403379,
          0.006531806622013012,
          0.00583736832207428,
          0.005164303409201546,
          0.004530626033938403,
          0.003950432337007799,
          0.003433595564847266,
          0.002985767139672042,
          0.002608645293832877,
          0.0023004580298224132,
          0.0020566000440226506,
          0.0018703629957277624,
          0.0017337035259837443,
          0.0016380018099363299,
          0.0015747732660869999,
          0.0015363057544565501,
          0.0015162030440400867,
          0.0015098218944107353,
          0.0015145946116231295,
          0.0015302315997907942,
          0.0015587996820291916,
          0.0016046724085023222,
          0.0016743488933581789,
          0.0017761386548476952,
          0.0019197121968178754,
          0.002115521316526409,
          0.0023740998323798094,
          0.002705264767050479,
          0.003117249711100024,
          0.003615815263822935,
          0.004203394605122413,
          0.004878343337479497,
          0.005634369348860456,
          0.0064602182000378676,
          0.007339680525218433,
          0.008251969207217198,
          0.009172486068502508,
          0.010073962512438164,
          0.010927919491212143,
          0.011706354073729013,
          0.01238352796878021,
          0.012937712548965852,
          0.013352738960263085,
          0.013619212609607865,
          0.013735278150852173,
          0.013706861090409115,
          0.013547360369746455,
          0.013276816616183414,
          0.012920626879155916,
          0.012507913168686257,
          0.012069675334308704,
          0.011636867392733691,
          0.011238531284845053,
          0.010900106085049514,
          0.01064200791077432,
          0.01047855040181205,
          0.010417251180420948,
          0.010458548347227146,
          0.010595933400717452,
          0.010816492145189623,
          0.011101831430617732,
          0.01142935505017552,
          0.011773835509854292,
          0.012109209551956485,
          0.012410505536346553,
          0.012655792578661132,
          0.012828027956576964,
          0.012916673948485493,
          0.012918960387264096,
          0.012840685792698953,
          0.012696477249257942,
          0.012509464823147947,
          0.012310366657791835,
          0.012136021842527432,
          0.012027445892412085,
          0.012027515338229254,
          0.012178411978509156,
          0.012518973624377192,
          0.013082107526637807,
          0.013892426385813067,
          0.0149642659249288,
          0.01630023765369208,
          0.017890459801903055,
          0.01971259164291461,
          0.021732769336589602,
          0.023907503119518163,
          0.026186545458734552,
          0.02851667877528193,
          0.030846302696067755,
          0.033130629446316937,
          0.03533722792156623,
          0.037451598128299214,
          0.03948241292006209,
          0.04146603630709401,
          0.043469918107740424,
          0.045594472917225626,
          0.04797307659899283,
          0.05076985626024861,
          0.05417501292291642,
          0.05839750575679103,
          0.06365505089632516,
          0.07016155456980926,
          0.07811231406459138,
          0.08766757785309742,
          0.09893534361358405,
          0.11195456208136507,
          0.12668016502822904,
          0.14297149772294238,
          0.1605857590140009,
          0.17917789307124332,
          0.19830801215788826,
          0.21745686405107326,
          0.23604912889235938,
          0.2534835095773127,
          0.2691677648839519,
          0.2825561362827392,
          0.2931861445762709,
          0.300711565281167,
          0.3049285771136367,
          0.30579261183268713,
          0.30342426038505177,
          0.2981036099471963,
          0.2902534704787226,
          0.28041296129899135,
          0.2692037458528331,
          0.257291737792968,
          0.24534731158646442,
          0.2340069436917284,
          0.22383883762437118,
          0.21531453012721655,
          0.20878783089539316,
          0.2044818036856554,
          0.2024839200933221,
          0.20274904728978033,
          0.20510957566150878,
          0.20929173540843105,
          0.21493696337253662,
          0.22162703288573526,
          0.2289115311632673,
          0.23633615904948255,
          0.2434702532472663,
          0.24993192109157383,
          0.25540926563280536,
          0.25967638986943153,
          0.26260321149719745,
          0.2641585780531655,
          0.2644067072737146,
          0.26349753047182867,
          0.26165202044621666,
          0.2591439758799033,
          0.25627996262098285,
          0.25337915400845185,
          0.25075467089670256,
          0.24869772699553086,
          0.24746548601125384,
          0.24727309296536482,
          0.24828991083674334,
          0.25063962244855903,
          0.25440357660645824,
          0.2596265786203714,
          0.26632424408407646,
          0.2744910359858759,
          0.2841081695876606,
          0.2951506794186408,
          0.30759308569209676,
          0.32141326643434226,
          0.33659433248162646,
          0.35312450973892845,
          0.37099524552681423,
          0.39019795417740144,
          0.4107199745832007,
          0.43254039937487776,
          0.4556264261641454,
          0.4799307627354417,
          0.5053903968352117,
          0.5319267472328433,
          0.5594468974379985,
          0.5878453420065641,
          0.617005513898491,
          0.6468003617890624,
          0.6770914320058232,
          0.7077262661427959,
          0.738534397488986,
          0.7693227290940601,
          0.7998714977118585,
          0.8299322685043086,
          0.8592293886021829,
          0.8874660214844421,
          0.9143353120868587,
          0.9395364728990976,
          0.9627947550332804,
          0.9838835172397599,
          1.002646065854892,
          1.0190147128248368,
          1.0330246372985465,
          1.044820625976939,
          1.054655535418239,
          1.062880247198152,
          1.0699258331132555,
          1.0762794754291742,
          1.0824562877939328,
          1.0889694926724398,
          1.0963014203204622,
          1.1048775404042082,
          1.1150452941478095,
          1.127058953516548,
          1.1410711835628289,
          1.157131495571227,
          1.1751913946498604,
          1.195115757729045,
          1.216699811801972,
          1.2396909855171678,
          1.26381484118222,
          1.2888042233992767,
          1.3144306593085107,
          1.3405369004631897,
          1.3670693056943657,
          1.3941085341930954,
          1.4218967603006794,
          1.4508593529223122,
          1.4816187073349838,
          1.5149977121122116,
          1.5520102335565638,
          1.5938360796911475,
          1.641778258100569,
          1.6972010645072821,
          1.761448713495643,
          1.8357458861153124,
          1.921083682921729,
          2.0180968971741797,
          2.1269410126206383,
          2.247179535093826,
          2.377693775169807,
          2.5166275958617796,
          2.6613785851400897,
          2.8086444246373232,
          2.9545289446835183,
          3.0947067861622104,
          3.2246392932706294,
          3.3398280014449244,
          3.4360867245960214,
          3.5098096144170943,
          3.558211314043388,
          3.579516809190511,
          3.5730827603516278,
          3.539438548052595,
          3.480243200200865,
          3.3981627843927527,
          3.296680652281345,
          3.1798591288973714,
          3.052075109445539,
          2.9177531805175154,
          2.781118344108066,
          2.6459865875122826,
          2.5156060922961063,
          2.3925556499347573,
          2.278700702814716,
          2.1752020925502515,
          2.0825685958436204,
          2.0007419236631803,
          1.9292020558809078,
          1.8670813694377666,
          1.8132776392767136,
          1.7665582319910498,
          1.725650270568138,
          1.6893138936059902,
          1.6563977350084695,
          1.6258772905087264,
          1.596877890796589,
          1.5686846121708378,
          1.5407417081809947,
          1.5126441352910807,
          1.4841235602659464,
          1.4550309470251097,
          1.425317476693051,
          1.3950151908972563,
          1.3642183892967648,
          1.3330664771623055,
          1.3017286649043698,
          1.2703906839045076,
          1.2392435126203807,
          1.2084740069669715,
          1.1782572929910504,
          1.1487507916277502,
          1.1200897813319584,
          1.0923844386293797,
          1.0657183065850973,
          1.0401481133911792,
          1.0157047970291364,
          0.9923955000448249,
          0.9702062044072576,
          0.9491046088269298,
          0.9290428361192183,
          0.9099596129400531,
          0.8917816901106345,
          0.874424453200918,
          0.85779187920243,
          0.8417761857183059,
          0.8262576529885122,
          0.8111051435484793,
          0.796177783121884,
          0.7813281042656807,
          0.7664067172245126,
          0.7512683028169335,
          0.7357784703148019,
          0.7198208371110205,
          0.7033036019042377,
          0.6861649147321384,
          0.6683764881594725,
          0.649945116118176,
          0.630912027718274,
          0.6113502551687614,
          0.59136039515806,
          0.5710652625494523,
          0.5506039635504082,
          0.5301258613581122,
          0.5097847950194211,
          0.489733774977685,
          0.4701202501022582,
          0.45108194731407353,
          0.43274324012670395,
          0.4152120060052504,
          0.3985769712128798,
          0.3829055945577131,
          0.3682425852008738,
          0.35460916592306796,
          0.3420031725591112,
          0.33040002443354594,
          0.319754521540646,
          0.31000334064999563,
          0.3010680349420771,
          0.2928583070554531,
          0.28527533258301796,
          0.2782149590599868,
          0.2715706835454751,
          0.26523640206731464,
          0.2591090056176036,
          0.25309095106894675,
          0.24709294841429902,
          0.24103687393575743,
          0.2348589474276603,
          0.22851311343296038,
          0.22197445937317598,
          0.21524240618750481,
          0.20834333570396696,
          0.20133228424898622,
          0.19429333846659563,
          0.18733841571385865,
          0.18060419247229106,
          0.17424705297489224,
          0.16843605994067665,
          0.16334409443149644,
          0.15913746787484037,
          0.15596447121907053,
          0.15394348639678695,
          0.15315143163745557,
          0.1536134271962585,
          0.15529462982045733,
          0.15809516935949952,
          0.16184900917821146,
          0.16632733209422187,
          0.17124672803869156,
          0.17628204847144546,
          0.18108333342666458,
          0.18529576208498477,
          0.18858118693060794,
          0.19063954340342118,
          0.1912283284788239,
          0.19017843915118507,
          0.18740495499742332,
          0.18291190910865096,
          0.17679066488573755,
          0.16921213148214384,
          0.1604136308603741,
          0.15068170331324915,
          0.1403324516784978,
          0.12969114792343558,
          0.11907275792509386,
          0.10876480611916681,
          0.0990136465768392,
          0.09001478770155995,
          0.08190749218968087,
          0.07477349249270845,
          0.06863936070576081,
          0.06348186895839804,
          0.05923557314842868,
          0.05580183649826342,
          0.05305855851343478,
          0.05086996515076456,
          0.04909592516017371,
          0.047600369032802535,
          0.04625849116465128,
          0.044962509641433134,
          0.043625842983464745,
          0.04218564279797135,
          0.04060369865503239,
          0.038865807515389456,
          0.03697977269613962,
          0.034972262195943314,
          0.032884807508505275,
          0.030769256495816747,
          0.02868300399895686,
          0.026684310996866932,
          0.0248279897012254,
          0.023161682937931135,
          0.02172290787485023,
          0.020536973061362856,
          0.019615819176340067,
          0.018957781261541608,
          0.018548224874652443,
          0.018360970155441893,
          0.0183603849992499,
          0.018504000198461764,
          0.018745475280583578,
          0.019037724925212992,
          0.01933600463245837,
          0.0196007537779613,
          0.019800007123768587,
          0.01991121381776192,
          0.01992234542077735,
          0.0198322286554452,
          0.01965009927425277,
          0.019394434142907483,
          0.019091172463335564,
          0.018771478110367754,
          0.018469219473113516,
          0.01821834983838457,
          0.018050361877714003,
          0.017991968099466047,
          0.01806313034150638,
          0.018275530654457778,
          0.018631547263383227,
          0.01912377476444492,
          0.019735107204330075,
          0.020439384279361768,
          0.02120258169664991,
          0.021984504054135368,
          0.022740910992234593,
          0.02342597548349082,
          0.02399493990490883,
          0.0244068058582909,
          0.024626873438303592,
          0.024628940371501314,
          0.024396985095950386,
          0.02392619162804669,
          0.02322322588934397,
          0.022305737775569573,
          0.02120113295661423,
          0.019944724367380064,
          0.01857742712177068,
          0.017143195508817183,
          0.015686413065953475,
          0.014249436146482098,
          0.012870460880505478,
          0.01158183853419887,
          0.010408912036996237,
          0.009369394100708896,
          0.008473261144918694,
          0.007723101564527344,
          0.007114833849290035,
          0.006638699583300176,
          0.006280436516927584,
          0.006022544718275321,
          0.005845570947438324,
          0.005729349871432009,
          0.005654153379118667,
          0.005601709903913371,
          0.005556064112324848,
          0.005504254068848374,
          0.005436788902195319,
          0.005347915950079583,
          0.005235672980291927,
          0.005101728625327744,
          0.00495102249376399,
          0.0047912251149118245,
          0.004632046375111772,
          0.004484428856507198,
          0.004359669027779833,
          0.004268514214082887,
          0.004220286422527321,
          0.00422208516034747,
          0.004278120039605001,
          0.004389219825706933,
          0.004552557247632419,
          0.004761618041614218,
          0.005006428322278221,
          0.005274036896372801,
          0.005549229563268031,
          0.005815432390719612,
          0.006055742504359277,
          0.006254010406901323,
          0.006395889446637651,
          0.006469767463595962
         ],
         "yaxis": "y"
        },
        {
         "legendgroup": "PCL",
         "marker": {
          "color": "#e66f4b"
         },
         "mode": "lines",
         "name": "PCL",
         "showlegend": true,
         "type": "scatter",
         "x": [
          -0.6,
          -0.5972,
          -0.5943999999999999,
          -0.5916,
          -0.5888,
          -0.586,
          -0.5831999999999999,
          -0.5804,
          -0.5776,
          -0.5748,
          -0.572,
          -0.5691999999999999,
          -0.5664,
          -0.5636,
          -0.5608,
          -0.5579999999999999,
          -0.5552,
          -0.5524,
          -0.5496,
          -0.5468,
          -0.5439999999999999,
          -0.5412,
          -0.5384,
          -0.5356,
          -0.5327999999999999,
          -0.53,
          -0.5272,
          -0.5244,
          -0.5216,
          -0.5187999999999999,
          -0.516,
          -0.5132,
          -0.5104,
          -0.5075999999999999,
          -0.5048,
          -0.502,
          -0.4992,
          -0.49639999999999995,
          -0.4936,
          -0.4908,
          -0.488,
          -0.48519999999999996,
          -0.4824,
          -0.47959999999999997,
          -0.4768,
          -0.474,
          -0.4712,
          -0.4684,
          -0.4656,
          -0.4628,
          -0.45999999999999996,
          -0.4572,
          -0.45439999999999997,
          -0.4516,
          -0.4488,
          -0.44599999999999995,
          -0.4432,
          -0.4404,
          -0.4376,
          -0.43479999999999996,
          -0.43199999999999994,
          -0.4292,
          -0.4264,
          -0.4236,
          -0.42079999999999995,
          -0.418,
          -0.4152,
          -0.4124,
          -0.40959999999999996,
          -0.4068,
          -0.40399999999999997,
          -0.4012,
          -0.3984,
          -0.3956,
          -0.3928,
          -0.39,
          -0.3872,
          -0.38439999999999996,
          -0.3816,
          -0.3788,
          -0.376,
          -0.3732,
          -0.37039999999999995,
          -0.36760000000000004,
          -0.3648,
          -0.362,
          -0.35919999999999996,
          -0.3564,
          -0.3536,
          -0.3508,
          -0.34800000000000003,
          -0.3452,
          -0.34240000000000004,
          -0.3396,
          -0.3368,
          -0.33399999999999996,
          -0.33120000000000005,
          -0.3284,
          -0.3256,
          -0.3228,
          -0.31999999999999995,
          -0.31720000000000004,
          -0.3144,
          -0.3116,
          -0.30879999999999996,
          -0.306,
          -0.3032,
          -0.3004,
          -0.2976,
          -0.2948,
          -0.292,
          -0.2892,
          -0.2864,
          -0.2836,
          -0.2808,
          -0.27799999999999997,
          -0.2752,
          -0.27240000000000003,
          -0.2696,
          -0.2668,
          -0.26399999999999996,
          -0.26120000000000004,
          -0.2584,
          -0.2556,
          -0.25279999999999997,
          -0.25,
          -0.24720000000000003,
          -0.2444,
          -0.24159999999999998,
          -0.2388,
          -0.236,
          -0.23320000000000002,
          -0.2304,
          -0.22760000000000002,
          -0.2248,
          -0.22199999999999998,
          -0.2192,
          -0.21640000000000004,
          -0.2136,
          -0.2108,
          -0.20799999999999996,
          -0.20520000000000005,
          -0.20240000000000002,
          -0.1996,
          -0.19679999999999997,
          -0.19399999999999995,
          -0.19120000000000004,
          -0.1884,
          -0.1856,
          -0.18279999999999996,
          -0.18,
          -0.17720000000000002,
          -0.1744,
          -0.17159999999999997,
          -0.1688,
          -0.16599999999999998,
          -0.1632,
          -0.1604,
          -0.15760000000000002,
          -0.1548,
          -0.15199999999999997,
          -0.1492,
          -0.14640000000000003,
          -0.1436,
          -0.14079999999999998,
          -0.138,
          -0.13520000000000004,
          -0.13240000000000002,
          -0.1296,
          -0.12679999999999997,
          -0.12400000000000005,
          -0.12120000000000003,
          -0.1184,
          -0.11559999999999998,
          -0.11280000000000001,
          -0.11000000000000004,
          -0.10720000000000002,
          -0.10439999999999999,
          -0.10160000000000002,
          -0.0988,
          -0.09600000000000009,
          -0.09320000000000006,
          -0.09040000000000004,
          -0.08760000000000001,
          -0.0848000000000001,
          -0.08199999999999996,
          -0.07920000000000005,
          -0.07639999999999991,
          -0.0736,
          -0.07080000000000009,
          -0.06799999999999995,
          -0.06520000000000004,
          -0.06240000000000012,
          -0.059599999999999986,
          -0.05680000000000007,
          -0.05399999999999994,
          -0.05120000000000002,
          -0.04840000000000011,
          -0.045599999999999974,
          -0.04280000000000006,
          -0.039999999999999925,
          -0.03720000000000001,
          -0.0344000000000001,
          -0.03159999999999996,
          -0.028800000000000048,
          -0.026000000000000023,
          -0.0232,
          -0.020400000000000085,
          -0.01759999999999995,
          -0.014800000000000035,
          -0.01200000000000001,
          -0.009199999999999986,
          -0.006400000000000072,
          -0.0036000000000000476,
          -0.0008000000000000229,
          0.0020000000000000018,
          0.0048000000000000265,
          0.00759999999999994,
          0.010399999999999965,
          0.01319999999999999,
          0.016000000000000014,
          0.018799999999999928,
          0.021599999999999953,
          0.024399999999999977,
          0.027200000000000002,
          0.030000000000000027,
          0.03279999999999994,
          0.035599999999999965,
          0.03839999999999999,
          0.0411999999999999,
          0.04400000000000004,
          0.04679999999999995,
          0.04959999999999998,
          0.0524,
          0.055199999999999916,
          0.05800000000000005,
          0.060799999999999965,
          0.06359999999999988,
          0.06640000000000001,
          0.06919999999999993,
          0.07200000000000006,
          0.07479999999999998,
          0.07759999999999989,
          0.08040000000000003,
          0.08319999999999994,
          0.08600000000000008,
          0.08879999999999999,
          0.0915999999999999,
          0.09440000000000004,
          0.09719999999999995,
          0.09999999999999998,
          0.1028,
          0.10559999999999992,
          0.10840000000000005,
          0.11119999999999997,
          0.11399999999999999,
          0.11680000000000001,
          0.11959999999999993,
          0.12239999999999995,
          0.12519999999999998,
          0.128,
          0.13080000000000003,
          0.13359999999999994,
          0.13639999999999997,
          0.1392,
          0.14200000000000002,
          0.14479999999999993,
          0.14759999999999995,
          0.15039999999999998,
          0.1532,
          0.15600000000000003,
          0.15879999999999994,
          0.16159999999999997,
          0.1644,
          0.1671999999999999,
          0.17000000000000004,
          0.17279999999999995,
          0.17559999999999998,
          0.1784,
          0.18119999999999992,
          0.18400000000000005,
          0.18679999999999997,
          0.18959999999999988,
          0.19240000000000002,
          0.19519999999999993,
          0.19800000000000006,
          0.20079999999999998,
          0.2035999999999999,
          0.20640000000000003,
          0.20919999999999994,
          0.21200000000000008,
          0.2148,
          0.2175999999999999,
          0.22040000000000004,
          0.22319999999999995,
          0.22599999999999998,
          0.2288,
          0.23159999999999992,
          0.23440000000000005,
          0.23719999999999997,
          0.24,
          0.24280000000000002,
          0.24559999999999993,
          0.24839999999999995,
          0.2512,
          0.254,
          0.25680000000000003,
          0.25959999999999994,
          0.26239999999999997,
          0.2652,
          0.268,
          0.27079999999999993,
          0.27359999999999995,
          0.2764,
          0.2792,
          0.28200000000000003,
          0.28479999999999994,
          0.28759999999999997,
          0.2904,
          0.2931999999999999,
          0.29600000000000004,
          0.29879999999999995,
          0.3016,
          0.3044,
          0.3071999999999999,
          0.30999999999999994,
          0.31279999999999997,
          0.3155999999999999,
          0.3184,
          0.32119999999999993,
          0.32399999999999995,
          0.3268,
          0.3295999999999999,
          0.33240000000000003,
          0.33519999999999994,
          0.33799999999999986,
          0.3408,
          0.3435999999999999,
          0.34640000000000004,
          0.34919999999999995,
          0.35199999999999987,
          0.3548,
          0.3575999999999999,
          0.36040000000000005,
          0.36319999999999997,
          0.3659999999999999,
          0.3688,
          0.37159999999999993,
          0.37439999999999996,
          0.3772,
          0.3799999999999999,
          0.38280000000000003,
          0.38559999999999994,
          0.38839999999999997,
          0.3912,
          0.3939999999999999,
          0.39679999999999993,
          0.39959999999999996,
          0.4024,
          0.4051999999999999,
          0.4079999999999998,
          0.41079999999999994,
          0.41359999999999986,
          0.4164,
          0.4191999999999999,
          0.4219999999999998,
          0.42479999999999996,
          0.42759999999999987,
          0.4303999999999998,
          0.43320000000000014,
          0.43600000000000005,
          0.43879999999999997,
          0.4415999999999999,
          0.4443999999999998,
          0.44720000000000015,
          0.45000000000000007,
          0.4528,
          0.4555999999999999,
          0.4583999999999998,
          0.46120000000000017,
          0.4640000000000001,
          0.4668,
          0.4695999999999999,
          0.4723999999999998,
          0.47519999999999973,
          0.4780000000000001,
          0.4808,
          0.4835999999999999,
          0.48639999999999983,
          0.48919999999999975,
          0.4920000000000001,
          0.4948,
          0.49759999999999993,
          0.5003999999999998,
          0.5031999999999998,
          0.5060000000000001,
          0.5088,
          0.5115999999999999,
          0.5143999999999999,
          0.5171999999999998,
          0.5200000000000001,
          0.5228,
          0.5256,
          0.5283999999999999,
          0.5311999999999998,
          0.5339999999999999,
          0.5368,
          0.5396,
          0.5423999999999999,
          0.5451999999999998,
          0.5479999999999999,
          0.5508000000000001,
          0.5536,
          0.5563999999999999,
          0.5591999999999998,
          0.5619999999999999,
          0.5648000000000001,
          0.5676,
          0.5703999999999999,
          0.5731999999999998,
          0.576,
          0.5787999999999999,
          0.5816,
          0.5843999999999999,
          0.5871999999999998,
          0.59,
          0.5927999999999999,
          0.5956,
          0.5983999999999999,
          0.6011999999999998,
          0.604,
          0.6067999999999999,
          0.6096,
          0.6123999999999999,
          0.6151999999999999,
          0.618,
          0.6207999999999999,
          0.6235999999999998,
          0.6264,
          0.6291999999999999,
          0.632,
          0.6347999999999999,
          0.6375999999999998,
          0.6404,
          0.6431999999999999,
          0.646,
          0.6487999999999999,
          0.6515999999999998,
          0.6544,
          0.6571999999999999,
          0.66,
          0.6628,
          0.6655999999999999,
          0.6684,
          0.6711999999999999,
          0.674,
          0.6768,
          0.6795999999999999,
          0.6823999999999998,
          0.6851999999999999,
          0.6880000000000001,
          0.6908,
          0.6935999999999999,
          0.6963999999999998,
          0.6991999999999999,
          0.7020000000000001,
          0.7048,
          0.7075999999999999,
          0.7103999999999998,
          0.7132,
          0.7160000000000001,
          0.7188,
          0.7215999999999999,
          0.7243999999999998,
          0.7271999999999997,
          0.7300000000000001,
          0.7328,
          0.7355999999999999,
          0.7383999999999998,
          0.7411999999999997,
          0.7440000000000001,
          0.7468,
          0.7495999999999999,
          0.7523999999999998,
          0.7551999999999998,
          0.7580000000000001,
          0.7608,
          0.7636,
          0.7663999999999999,
          0.7691999999999998,
          0.7720000000000001,
          0.7748,
          0.7776,
          0.7803999999999999,
          0.7831999999999998,
          0.7859999999999999,
          0.7888000000000001,
          0.7916,
          0.7943999999999999,
          0.7971999999999998
         ],
         "xaxis": "x",
         "y": [
          0.057931945210806426,
          0.06071559660995667,
          0.06359480972116327,
          0.06657173921868373,
          0.06964826847159603,
          0.07282594139312094,
          0.07610589417732248,
          0.07948878853721346,
          0.0829747481359936,
          0.08656329993969301,
          0.09025332221107618,
          0.094043000808523,
          0.0979297953483506,
          0.10191041663456973,
          0.10598081655786018,
          0.11013619141856172,
          0.11437099934119643,
          0.1186789921264911,
          0.12305326153837658,
          0.1274862996566175,
          0.13197007255017393,
          0.1364961061524663,
          0.14105558285832093,
          0.14563944702447812,
          0.15023851725207468,
          0.1548436030707773,
          0.15944562343971966,
          0.16403572433838515,
          0.16860539264785,
          0.17314656352429297,
          0.17765171854543135,
          0.18211397206726823,
          0.18652714346174998,
          0.19088581321179782,
          0.19518536121248511,
          0.1994219860576085,
          0.20359270456915046,
          0.20769533134107873,
          0.21172843860501744,
          0.21569129726899927,
          0.2195838005164724,
          0.22340637186560916,
          0.22715986006352906,
          0.23084542361190016,
          0.2344644080762704,
          0.23801821960977537,
          0.2415081983129682,
          0.24493549514811874,
          0.24830095612374783,
          0.25160501736153057,
          0.25484761445391624,
          0.25802810922084674,
          0.26114523658441297,
          0.26419707381058766,
          0.2671810338289989,
          0.27009388374897114,
          0.2729317890581691,
          0.2756903833359839,
          0.27836486265475424,
          0.28095010319571107,
          0.2834407999907109,
          0.28583162413190555,
          0.28811739528496766,
          0.29029326591078913,
          0.29235491325735424,
          0.2942987349365532,
          0.29612204375654,
          0.2978232574420499,
          0.29940207894345666,
          0.30085966320770935,
          0.30219876655526073,
          0.30342387516878383,
          0.3045413096413442,
          0.305559303041587,
          0.30648805051701755,
          0.3073397290587181,
          0.308128486675589,
          0.30887040085730766,
          0.30958340682671226,
          0.31028719667882165,
          0.3110030910610525,
          0.31175388555475014,
          0.31256367436096555,
          0.31345765426476724,
          0.3144619121457386,
          0.31560319951356575,
          0.31690869767504665,
          0.318405777183105,
          0.3201217551823685,
          0.3220836541545351,
          0.3243179653868823,
          0.3268504202472803,
          0.3297057720583491,
          0.33290759103260126,
          0.3364780743701803,
          0.3404378732425958,
          0.34480593800020626,
          0.3495993825588604,
          0.35483336855149106,
          0.36052100948218513,
          0.36667329480083943,
          0.37329903353165184,
          0.3804048168432532,
          0.3879949987448133,
          0.39607169393278924,
          0.4046347916969063,
          0.4136819847200637,
          0.4232088115727745,
          0.43320871170441944,
          0.4436730917669392,
          0.45459140216579924,
          0.4659512228130945,
          0.4777383571519152,
          0.4899369336240567,
          0.5025295138588503,
          0.515497206963755,
          0.5288197893924242,
          0.5424758299492041,
          0.5564428195564337,
          0.5706973054600627,
          0.585215029578308,
          0.5999710707060532,
          0.6149399902750465,
          0.6300959813372784,
          0.6454130203883224,
          0.6608650215813389,
          0.6764259928045571,
          0.692070193008654,
          0.7077722900806526,
          0.7235075184715339,
          0.7392518357011003,
          0.7549820767899663,
          0.7706761056094926,
          0.7863129621000495,
          0.8018730042895681,
          0.8173380440508958,
          0.8326914755694904,
          0.8479183955539533,
          0.8630057143100498,
          0.8779422569132997,
          0.8927188538533255,
          0.907328420681119,
          0.9217660263636039,
          0.936028950232496,
          0.9501167275994328,
          0.9640311842895535,
          0.9777764605129722,
          0.9913590246393877,
          1.0047876775574667,
          1.0180735483796743,
          1.0312300822870915,
          1.0442730212920472,
          1.0572203786236223,
          1.0700924073088773,
          1.0829115633306472,
          1.0957024634909112,
          1.1084918378013773,
          1.1213084758656475,
          1.1341831663193405,
          1.147148627966701,
          1.1602394308091701,
          1.1734919047189911,
          1.1869440330873817,
          1.2006353283924496,
          1.214606686307226,
          1.2289002147245993,
          1.2435590339344587,
          1.2586270441686136,
          1.2741486568502454,
          1.2901684861603895,
          1.3067309979785457,
          1.3238801138729483,
          1.3416587686137171,
          1.3601084206539966,
          1.3792685161626126,
          1.3991759084810025,
          1.4198642362953842,
          1.4413632653343849,
          1.4636981999881717,
          1.4868889728576147,
          1.5109495218369406,
          1.5358870658620627,
          1.5617013918684333,
          1.5883841667450753,
          1.6159182890939645,
          1.6442772963560948,
          1.6734248433032544,
          1.7033142679759559,
          1.7338882608427013,
          1.7650786522382034,
          1.7968063319961587,
          1.8289813136229942,
          1.8615029533731546,
          1.8942603322068863,
          1.927132805873216,
          1.9599907253132864,
          1.9926963262805772,
          2.0251047835976252,
          2.0570654218899835,
          2.0884230710470137,
          2.1190195511442327,
          2.148695268217665,
          2.177290899200389,
          2.204649141602202,
          2.230616501221272,
          2.255045089392759,
          2.277794400068798,
          2.2987330364344105,
          2.317740356828229,
          2.334708010473022,
          2.3495413349249135,
          2.362160589205054,
          2.372501999242537,
          2.3805185954801713,
          2.386180826202289,
          2.389476934253736,
          2.3904130892321946,
          2.3890132718514794,
          2.385318911875048,
          2.3793882856992705,
          2.371295684207712,
          2.3611303658151175,
          2.348995313571675,
          2.335005818710975,
          2.3192879160239133,
          2.3019766988584727,
          2.2832145433363618,
          2.263149272510799,
          2.24193229165297,
          2.2197167256536483,
          2.1966555886830914,
          2.172900014805569,
          2.148597576247362,
          2.123890713533962,
          2.0989152988189153,
          2.07379935050601,
          2.0486619138054607,
          2.0236121182541233,
          1.9987484195576186,
          1.9741580294654344,
          1.9499165338501727,
          1.9260876958011866,
          1.902723437428093,
          1.8798639912542126,
          1.857538209608283,
          1.8357640183275026,
          1.814548999386882,
          1.7938910857780486,
          1.773779351075117,
          1.7541948756344365,
          1.7351116712594057,
          1.7164976463953963,
          1.6983155944686352,
          1.680524188810542,
          1.663078968675016,
          1.6459333021167661,
          1.6290393129137501,
          1.6123487602419215,
          1.595813861407107,
          1.5793880495693895,
          1.5630266600242608,
          1.5466875402041682,
          1.5303315801045296,
          1.5139231613004338,
          1.4974305240840102,
          1.4808260535055167,
          1.4640864862323668,
          1.4471930411436247,
          1.4301314774496747,
          1.412892084866179,
          1.3954696109808762,
          1.3778631314341288,
          1.360075868894063,
          1.342114967052107,
          1.3239912260004607,
          1.3057188053883015,
          1.2873149016965524,
          1.2687994058289698,
          1.250194547001288,
          1.2315245286262178,
          1.2128151615509597,
          1.1940934996136237,
          1.175387482053909,
          1.1567255868512267,
          1.1381364985777058,
          1.1196487938533495,
          1.101290646984264,
          1.0830895578601745,
          1.0650721036921846,
          1.0472637156940214,
          1.0296884813551919,
          1.0123689725310254,
          0.9953260991853665,
          0.9785789882742376,
          0.9621448869543123,
          0.9460390890429762,
          0.9302748834480012,
          0.9148635231249524,
          0.8998142130086083,
          0.8851341152995978,
          0.8708283704655616,
          0.8569001323340787,
          0.8433506157073348,
          0.830179155011072,
          0.8173832725958339,
          0.8049587554319483,
          0.7928997390733683,
          0.7811987979037759,
          0.7698470408150535,
          0.7588342115976631,
          0.7481487934396277,
          0.737778117031915,
          0.7277084718595335,
          0.7179252203175115,
          0.7084129143284739,
          0.6991554141527985,
          0.6901360090754798,
          0.6813375396269982,
          0.6727425209517108,
          0.664333266880353,
          0.6560920141966952,
          0.6480010465171393,
          0.6400428171300304,
          0.6322000700734924,
          0.6244559586709431,
          0.6167941606951858,
          0.6091989892991857,
          0.6016554988358395,
          0.5941495846924313,
          0.586668076288479,
          0.5791988224281012,
          0.5717307682591843,
          0.564254023169038,
          0.5567599190382733,
          0.5492410583773104,
          0.5416913519805018,
          0.5341060458471503,
          0.5264817372333597,
          0.5188163798096133,
          0.5111092780035594,
          0.5033610707022179,
          0.49557370457122724,
          0.48775039731855346,
          0.4798955912864547,
          0.472014897797889,
          0.4641150327130419,
          0.4562037436703948,
          0.44828972949613255,
          0.44038255226971784,
          0.43249254253425085,
          0.42463069814210125,
          0.41680857723228404,
          0.4090381858492989,
          0.40133186073691207,
          0.39370214787665303,
          0.38616167739117063,
          0.37872303549806136,
          0.37139863427969927,
          0.36420058012815193,
          0.35714054182876825,
          0.3502296193587081,
          0.34347821459294225,
          0.33689590522562546,
          0.3304913233235059,
          0.32427204002435994,
          0.318244457971376,
          0.3124137131279389,
          0.306783587640869,
          0.3013564354086777,
          0.29613312196098546,
          0.291112980162373,
          0.28629378311713555,
          0.2816717354699913,
          0.27724148407282023,
          0.27299614872160644,
          0.26892737336494704,
          0.2650253978512965,
          0.26127914992359275,
          0.2576763567948275,
          0.2542036752557818,
          0.2508468388860299,
          0.24759082057154086,
          0.24442000818696738,
          0.24131839098780852,
          0.23826975398646938,
          0.23525787736515527,
          0.23226673781483312,
          0.2292807085889325,
          0.22628475502726633,
          0.2232646223420998,
          0.22020701256496605,
          0.21709974772811177,
          0.21393191659504335,
          0.2106940025552495,
          0.2073779906518577,
          0.20397745210934504,
          0.2004876051617862,
          0.19690535143981966,
          0.19322928764535482,
          0.18945969271535879,
          0.18559849113839222,
          0.18164919352870104,
          0.17761681597212434,
          0.17350778002648234,
          0.16932979557807695,
          0.165091729018901,
          0.16080345941090254,
          0.15647572544089258,
          0.15211996604090183,
          0.14774815755428142,
          0.14337265026963986,
          0.13900600702657076,
          0.13466084642423584,
          0.13034969294273896,
          0.12608483602545886,
          0.12187819987646953,
          0.11774122540981982,
          0.11368476545594013,
          0.10971899399399665,
          0.10585332984646334,
          0.1020963749519283,
          0.09845586703178219,
          0.09493864619256923,
          0.09155063476406039,
          0.08829682946777845,
          0.08518130484492101,
          0.08220722674809983,
          0.0793768746185092,
          0.07669167122828995,
          0.07415221856497485,
          0.07175833856805769,
          0.06950911749298193,
          0.06740295277061165,
          0.06543760134536761,
          0.06361022860712111,
          0.061917457174986625,
          0.06035541493962002,
          0.05891978191904483,
          0.057605835626265395,
          0.056408494780335314,
          0.05532236131216077,
          0.054341760718824586,
          0.053460780903148826,
          0.05267330969691402,
          0.051973071305828795,
          0.05135366193201983,
          0.05080858482633854,
          0.050331284999711116,
          0.04991518378231623,
          0.04955371336433009,
          0.04924035138551339,
          0.04896865556654945,
          0.04873229829644296,
          0.04852510101117605,
          0.04834106812282801,
          0.04817442018891796,
          0.04801962595192163,
          0.04787143283142594,
          0.0477248954183946,
          0.047575401504126216,
          0.04741869517670252,
          0.04725089653540744,
          0.04706851760849086,
          0.046868474110872485,
          0.04664809274448905,
          0.046405113823016444,
          0.04613768909224396,
          0.04584437471468988,
          0.045524119489103766,
          0.04517624847913647,
          0.044800442327456724,
          0.044396712628790164,
          0.0439653738247528,
          0.04350701216220125,
          0.04302245232271649,
          0.04251272238178343,
          0.041979017790700006,
          0.04142266509123313,
          0.040845086072061415,
          0.04024776305717043,
          0.03963220598020252,
          0.03899992184641614,
          0.038352387116951867,
          0.03769102347052527,
          0.03701717730778053,
          0.03633210326594108,
          0.03563695190885289,
          0.034932761652881804,
          0.034220454885284024,
          0.03350083813138496,
          0.03277460603281748,
          0.032042348813562424,
          0.031304562835696596,
          0.030561663784319622,
          0.029814001972429144,
          0.029061879222469222,
          0.028305566762352526,
          0.027545323569991054,
          0.026781414611374836,
          0.02601412844221341
         ],
         "yaxis": "y"
        },
        {
         "marker": {
          "color": "#9bbdcf"
         },
         "name": "Sin PCL",
         "text": [
          0.178,
          0.419,
          0.403
         ],
         "textfont": {
          "color": "white",
          "size": 20
         },
         "textposition": "inside",
         "type": "bar",
         "x": [
          "neutral",
          "positivo",
          "negativo"
         ],
         "xaxis": "x2",
         "y": [
          1690,
          3966,
          3819
         ],
         "yaxis": "y2"
        }
       ],
       "layout": {
        "barmode": "overlay",
        "hovermode": "closest",
        "legend": {
         "traceorder": "reversed"
        },
        "showlegend": false,
        "template": {
         "data": {
          "bar": [
           {
            "error_x": {
             "color": "#2a3f5f"
            },
            "error_y": {
             "color": "#2a3f5f"
            },
            "marker": {
             "line": {
              "color": "white",
              "width": 0.5
             }
            },
            "type": "bar"
           }
          ],
          "barpolar": [
           {
            "marker": {
             "line": {
              "color": "white",
              "width": 0.5
             }
            },
            "type": "barpolar"
           }
          ],
          "carpet": [
           {
            "aaxis": {
             "endlinecolor": "#2a3f5f",
             "gridcolor": "#C8D4E3",
             "linecolor": "#C8D4E3",
             "minorgridcolor": "#C8D4E3",
             "startlinecolor": "#2a3f5f"
            },
            "baxis": {
             "endlinecolor": "#2a3f5f",
             "gridcolor": "#C8D4E3",
             "linecolor": "#C8D4E3",
             "minorgridcolor": "#C8D4E3",
             "startlinecolor": "#2a3f5f"
            },
            "type": "carpet"
           }
          ],
          "choropleth": [
           {
            "colorbar": {
             "outlinewidth": 0,
             "ticks": ""
            },
            "type": "choropleth"
           }
          ],
          "contour": [
           {
            "colorbar": {
             "outlinewidth": 0,
             "ticks": ""
            },
            "colorscale": [
             [
              0,
              "#0d0887"
             ],
             [
              0.1111111111111111,
              "#46039f"
             ],
             [
              0.2222222222222222,
              "#7201a8"
             ],
             [
              0.3333333333333333,
              "#9c179e"
             ],
             [
              0.4444444444444444,
              "#bd3786"
             ],
             [
              0.5555555555555556,
              "#d8576b"
             ],
             [
              0.6666666666666666,
              "#ed7953"
             ],
             [
              0.7777777777777778,
              "#fb9f3a"
             ],
             [
              0.8888888888888888,
              "#fdca26"
             ],
             [
              1,
              "#f0f921"
             ]
            ],
            "type": "contour"
           }
          ],
          "contourcarpet": [
           {
            "colorbar": {
             "outlinewidth": 0,
             "ticks": ""
            },
            "type": "contourcarpet"
           }
          ],
          "heatmap": [
           {
            "colorbar": {
             "outlinewidth": 0,
             "ticks": ""
            },
            "colorscale": [
             [
              0,
              "#0d0887"
             ],
             [
              0.1111111111111111,
              "#46039f"
             ],
             [
              0.2222222222222222,
              "#7201a8"
             ],
             [
              0.3333333333333333,
              "#9c179e"
             ],
             [
              0.4444444444444444,
              "#bd3786"
             ],
             [
              0.5555555555555556,
              "#d8576b"
             ],
             [
              0.6666666666666666,
              "#ed7953"
             ],
             [
              0.7777777777777778,
              "#fb9f3a"
             ],
             [
              0.8888888888888888,
              "#fdca26"
             ],
             [
              1,
              "#f0f921"
             ]
            ],
            "type": "heatmap"
           }
          ],
          "heatmapgl": [
           {
            "colorbar": {
             "outlinewidth": 0,
             "ticks": ""
            },
            "colorscale": [
             [
              0,
              "#0d0887"
             ],
             [
              0.1111111111111111,
              "#46039f"
             ],
             [
              0.2222222222222222,
              "#7201a8"
             ],
             [
              0.3333333333333333,
              "#9c179e"
             ],
             [
              0.4444444444444444,
              "#bd3786"
             ],
             [
              0.5555555555555556,
              "#d8576b"
             ],
             [
              0.6666666666666666,
              "#ed7953"
             ],
             [
              0.7777777777777778,
              "#fb9f3a"
             ],
             [
              0.8888888888888888,
              "#fdca26"
             ],
             [
              1,
              "#f0f921"
             ]
            ],
            "type": "heatmapgl"
           }
          ],
          "histogram": [
           {
            "marker": {
             "colorbar": {
              "outlinewidth": 0,
              "ticks": ""
             }
            },
            "type": "histogram"
           }
          ],
          "histogram2d": [
           {
            "colorbar": {
             "outlinewidth": 0,
             "ticks": ""
            },
            "colorscale": [
             [
              0,
              "#0d0887"
             ],
             [
              0.1111111111111111,
              "#46039f"
             ],
             [
              0.2222222222222222,
              "#7201a8"
             ],
             [
              0.3333333333333333,
              "#9c179e"
             ],
             [
              0.4444444444444444,
              "#bd3786"
             ],
             [
              0.5555555555555556,
              "#d8576b"
             ],
             [
              0.6666666666666666,
              "#ed7953"
             ],
             [
              0.7777777777777778,
              "#fb9f3a"
             ],
             [
              0.8888888888888888,
              "#fdca26"
             ],
             [
              1,
              "#f0f921"
             ]
            ],
            "type": "histogram2d"
           }
          ],
          "histogram2dcontour": [
           {
            "colorbar": {
             "outlinewidth": 0,
             "ticks": ""
            },
            "colorscale": [
             [
              0,
              "#0d0887"
             ],
             [
              0.1111111111111111,
              "#46039f"
             ],
             [
              0.2222222222222222,
              "#7201a8"
             ],
             [
              0.3333333333333333,
              "#9c179e"
             ],
             [
              0.4444444444444444,
              "#bd3786"
             ],
             [
              0.5555555555555556,
              "#d8576b"
             ],
             [
              0.6666666666666666,
              "#ed7953"
             ],
             [
              0.7777777777777778,
              "#fb9f3a"
             ],
             [
              0.8888888888888888,
              "#fdca26"
             ],
             [
              1,
              "#f0f921"
             ]
            ],
            "type": "histogram2dcontour"
           }
          ],
          "mesh3d": [
           {
            "colorbar": {
             "outlinewidth": 0,
             "ticks": ""
            },
            "type": "mesh3d"
           }
          ],
          "parcoords": [
           {
            "line": {
             "colorbar": {
              "outlinewidth": 0,
              "ticks": ""
             }
            },
            "type": "parcoords"
           }
          ],
          "pie": [
           {
            "automargin": true,
            "type": "pie"
           }
          ],
          "scatter": [
           {
            "marker": {
             "colorbar": {
              "outlinewidth": 0,
              "ticks": ""
             }
            },
            "type": "scatter"
           }
          ],
          "scatter3d": [
           {
            "line": {
             "colorbar": {
              "outlinewidth": 0,
              "ticks": ""
             }
            },
            "marker": {
             "colorbar": {
              "outlinewidth": 0,
              "ticks": ""
             }
            },
            "type": "scatter3d"
           }
          ],
          "scattercarpet": [
           {
            "marker": {
             "colorbar": {
              "outlinewidth": 0,
              "ticks": ""
             }
            },
            "type": "scattercarpet"
           }
          ],
          "scattergeo": [
           {
            "marker": {
             "colorbar": {
              "outlinewidth": 0,
              "ticks": ""
             }
            },
            "type": "scattergeo"
           }
          ],
          "scattergl": [
           {
            "marker": {
             "colorbar": {
              "outlinewidth": 0,
              "ticks": ""
             }
            },
            "type": "scattergl"
           }
          ],
          "scattermapbox": [
           {
            "marker": {
             "colorbar": {
              "outlinewidth": 0,
              "ticks": ""
             }
            },
            "type": "scattermapbox"
           }
          ],
          "scatterpolar": [
           {
            "marker": {
             "colorbar": {
              "outlinewidth": 0,
              "ticks": ""
             }
            },
            "type": "scatterpolar"
           }
          ],
          "scatterpolargl": [
           {
            "marker": {
             "colorbar": {
              "outlinewidth": 0,
              "ticks": ""
             }
            },
            "type": "scatterpolargl"
           }
          ],
          "scatterternary": [
           {
            "marker": {
             "colorbar": {
              "outlinewidth": 0,
              "ticks": ""
             }
            },
            "type": "scatterternary"
           }
          ],
          "surface": [
           {
            "colorbar": {
             "outlinewidth": 0,
             "ticks": ""
            },
            "colorscale": [
             [
              0,
              "#0d0887"
             ],
             [
              0.1111111111111111,
              "#46039f"
             ],
             [
              0.2222222222222222,
              "#7201a8"
             ],
             [
              0.3333333333333333,
              "#9c179e"
             ],
             [
              0.4444444444444444,
              "#bd3786"
             ],
             [
              0.5555555555555556,
              "#d8576b"
             ],
             [
              0.6666666666666666,
              "#ed7953"
             ],
             [
              0.7777777777777778,
              "#fb9f3a"
             ],
             [
              0.8888888888888888,
              "#fdca26"
             ],
             [
              1,
              "#f0f921"
             ]
            ],
            "type": "surface"
           }
          ],
          "table": [
           {
            "cells": {
             "fill": {
              "color": "#EBF0F8"
             },
             "line": {
              "color": "white"
             }
            },
            "header": {
             "fill": {
              "color": "#C8D4E3"
             },
             "line": {
              "color": "white"
             }
            },
            "type": "table"
           }
          ]
         },
         "layout": {
          "annotationdefaults": {
           "arrowcolor": "#2a3f5f",
           "arrowhead": 0,
           "arrowwidth": 1
          },
          "autotypenumbers": "strict",
          "coloraxis": {
           "colorbar": {
            "outlinewidth": 0,
            "ticks": ""
           }
          },
          "colorscale": {
           "diverging": [
            [
             0,
             "#8e0152"
            ],
            [
             0.1,
             "#c51b7d"
            ],
            [
             0.2,
             "#de77ae"
            ],
            [
             0.3,
             "#f1b6da"
            ],
            [
             0.4,
             "#fde0ef"
            ],
            [
             0.5,
             "#f7f7f7"
            ],
            [
             0.6,
             "#e6f5d0"
            ],
            [
             0.7,
             "#b8e186"
            ],
            [
             0.8,
             "#7fbc41"
            ],
            [
             0.9,
             "#4d9221"
            ],
            [
             1,
             "#276419"
            ]
           ],
           "sequential": [
            [
             0,
             "#0d0887"
            ],
            [
             0.1111111111111111,
             "#46039f"
            ],
            [
             0.2222222222222222,
             "#7201a8"
            ],
            [
             0.3333333333333333,
             "#9c179e"
            ],
            [
             0.4444444444444444,
             "#bd3786"
            ],
            [
             0.5555555555555556,
             "#d8576b"
            ],
            [
             0.6666666666666666,
             "#ed7953"
            ],
            [
             0.7777777777777778,
             "#fb9f3a"
            ],
            [
             0.8888888888888888,
             "#fdca26"
            ],
            [
             1,
             "#f0f921"
            ]
           ],
           "sequentialminus": [
            [
             0,
             "#0d0887"
            ],
            [
             0.1111111111111111,
             "#46039f"
            ],
            [
             0.2222222222222222,
             "#7201a8"
            ],
            [
             0.3333333333333333,
             "#9c179e"
            ],
            [
             0.4444444444444444,
             "#bd3786"
            ],
            [
             0.5555555555555556,
             "#d8576b"
            ],
            [
             0.6666666666666666,
             "#ed7953"
            ],
            [
             0.7777777777777778,
             "#fb9f3a"
            ],
            [
             0.8888888888888888,
             "#fdca26"
            ],
            [
             1,
             "#f0f921"
            ]
           ]
          },
          "colorway": [
           "#636efa",
           "#EF553B",
           "#00cc96",
           "#ab63fa",
           "#FFA15A",
           "#19d3f3",
           "#FF6692",
           "#B6E880",
           "#FF97FF",
           "#FECB52"
          ],
          "font": {
           "color": "#2a3f5f"
          },
          "geo": {
           "bgcolor": "white",
           "lakecolor": "white",
           "landcolor": "white",
           "showlakes": true,
           "showland": true,
           "subunitcolor": "#C8D4E3"
          },
          "hoverlabel": {
           "align": "left"
          },
          "hovermode": "closest",
          "mapbox": {
           "style": "light"
          },
          "paper_bgcolor": "white",
          "plot_bgcolor": "white",
          "polar": {
           "angularaxis": {
            "gridcolor": "#EBF0F8",
            "linecolor": "#EBF0F8",
            "ticks": ""
           },
           "bgcolor": "white",
           "radialaxis": {
            "gridcolor": "#EBF0F8",
            "linecolor": "#EBF0F8",
            "ticks": ""
           }
          },
          "scene": {
           "xaxis": {
            "backgroundcolor": "white",
            "gridcolor": "#DFE8F3",
            "gridwidth": 2,
            "linecolor": "#EBF0F8",
            "showbackground": true,
            "ticks": "",
            "zerolinecolor": "#EBF0F8"
           },
           "yaxis": {
            "backgroundcolor": "white",
            "gridcolor": "#DFE8F3",
            "gridwidth": 2,
            "linecolor": "#EBF0F8",
            "showbackground": true,
            "ticks": "",
            "zerolinecolor": "#EBF0F8"
           },
           "zaxis": {
            "backgroundcolor": "white",
            "gridcolor": "#DFE8F3",
            "gridwidth": 2,
            "linecolor": "#EBF0F8",
            "showbackground": true,
            "ticks": "",
            "zerolinecolor": "#EBF0F8"
           }
          },
          "shapedefaults": {
           "line": {
            "color": "#2a3f5f"
           }
          },
          "ternary": {
           "aaxis": {
            "gridcolor": "#DFE8F3",
            "linecolor": "#A2B1C6",
            "ticks": ""
           },
           "baxis": {
            "gridcolor": "#DFE8F3",
            "linecolor": "#A2B1C6",
            "ticks": ""
           },
           "bgcolor": "white",
           "caxis": {
            "gridcolor": "#DFE8F3",
            "linecolor": "#A2B1C6",
            "ticks": ""
           }
          },
          "title": {
           "x": 0.05
          },
          "xaxis": {
           "automargin": true,
           "gridcolor": "#EBF0F8",
           "linecolor": "#EBF0F8",
           "ticks": "",
           "title": {
            "standoff": 15
           },
           "zerolinecolor": "#EBF0F8",
           "zerolinewidth": 2
          },
          "yaxis": {
           "automargin": true,
           "gridcolor": "#EBF0F8",
           "linecolor": "#EBF0F8",
           "ticks": "",
           "title": {
            "standoff": 15
           },
           "zerolinecolor": "#EBF0F8",
           "zerolinewidth": 2
          }
         }
        },
        "title": {
         "font": {
          "size": 27
         },
         "text": "Distribución en porcentaje de párrafos sin PCL"
        },
        "xaxis": {
         "anchor": "y2",
         "domain": [
          0,
          0.5
         ],
         "title": {
          "font": {
           "size": 40
          }
         },
         "zeroline": false
        },
        "xaxis2": {
         "domain": [
          0.6,
          1
         ],
         "title": {
          "font": {
           "size": 40
          }
         }
        },
        "yaxis": {
         "anchor": "free",
         "domain": [
          0,
          1
         ],
         "position": 0
        },
        "yaxis2": {
         "anchor": "x2"
        }
       }
      }
     },
     "metadata": {},
     "output_type": "display_data"
    }
   ],
   "source": [
    "fig = ff.create_distplot(\n",
    "    [text_df[text_df[\"label\"] == 0][\"sentiment\"], text_df[text_df[\"label\"] == 1][\"sentiment\"]],\n",
    "    group_labels=[\"Sin PCL\", \"PCL\"], bin_size=0.2, show_rug=False,\n",
    "    show_hist=False, colors=[LIGHT_BLUE_COLOR, LIGHT_RED_COLOR]\n",
    ")\n",
    "\n",
    "trace2 = go.Bar(\n",
    "    x = list(sentiment_no_pcl_dict.keys()), \n",
    "    y = list(sentiment_no_pcl_dict.values()),\n",
    "    marker_color=LIGHT_BLUE_COLOR, name=\"Sin PCL\",\n",
    "    text = np.round(np.array(list(sentiment_no_pcl_dict.values())) / np.sum(np.array(list(sentiment_no_pcl_dict.values()))), 3),\n",
    "    textfont_color=\"white\", textposition='inside',\n",
    "    textfont_size=20,\n",
    "    xaxis='x2', yaxis='y2'\n",
    ")\n",
    "\n",
    "fig.add_traces([trace2])\n",
    "\n",
    "fig['layout']['xaxis2'] = {}\n",
    "fig['layout']['yaxis2'] = {}\n",
    "\n",
    "fig.layout.xaxis.update({'domain': [0, .5]})\n",
    "fig.layout.xaxis2.update({'domain': [0.6, 1.]})\n",
    "fig.layout.yaxis2.update({'anchor': 'x2'})\n",
    "\n",
    "#fig.layout.margin.update({'t':50, 'b':100})\n",
    "fig.update_layout(\n",
    "    template=TEMPLATE, title=dict(text=\"Distribución en porcentaje de párrafos sin PCL\", font_size=27),\n",
    "    showlegend=False\n",
    ")\n",
    "fig.show()"
   ]
  },
  {
   "cell_type": "code",
   "execution_count": 22,
   "id": "83bdc0e9",
   "metadata": {},
   "outputs": [
    {
     "data": {
      "text/plain": [
       "array([[1690, 3966, 3819]])"
      ]
     },
     "execution_count": 22,
     "metadata": {},
     "output_type": "execute_result"
    }
   ],
   "source": [
    "np.array([list(sentiment_no_pcl_dict.values())])"
   ]
  },
  {
   "cell_type": "code",
   "execution_count": 99,
   "id": "cae49cde",
   "metadata": {},
   "outputs": [
    {
     "data": {
      "application/vnd.plotly.v1+json": {
       "config": {
        "plotlyServerURL": "https://plotly.com"
       },
       "data": [
        {
         "legendgroup": "No PCL",
         "marker": {
          "color": "#9bbdcf"
         },
         "mode": "lines",
         "name": "No PCL",
         "showlegend": true,
         "type": "scatter",
         "x": [
          -1,
          -0.996,
          -0.992,
          -0.988,
          -0.984,
          -0.98,
          -0.976,
          -0.972,
          -0.968,
          -0.964,
          -0.96,
          -0.956,
          -0.952,
          -0.948,
          -0.944,
          -0.94,
          -0.9359999999999999,
          -0.9319999999999999,
          -0.928,
          -0.924,
          -0.92,
          -0.916,
          -0.912,
          -0.908,
          -0.904,
          -0.9,
          -0.896,
          -0.892,
          -0.888,
          -0.884,
          -0.88,
          -0.876,
          -0.872,
          -0.868,
          -0.864,
          -0.86,
          -0.856,
          -0.852,
          -0.848,
          -0.844,
          -0.84,
          -0.836,
          -0.832,
          -0.8280000000000001,
          -0.8240000000000001,
          -0.8200000000000001,
          -0.8160000000000001,
          -0.812,
          -0.808,
          -0.804,
          -0.8,
          -0.796,
          -0.792,
          -0.788,
          -0.784,
          -0.78,
          -0.776,
          -0.772,
          -0.768,
          -0.764,
          -0.76,
          -0.756,
          -0.752,
          -0.748,
          -0.744,
          -0.74,
          -0.736,
          -0.732,
          -0.728,
          -0.724,
          -0.72,
          -0.716,
          -0.712,
          -0.708,
          -0.704,
          -0.7,
          -0.696,
          -0.692,
          -0.688,
          -0.6839999999999999,
          -0.6799999999999999,
          -0.6759999999999999,
          -0.6719999999999999,
          -0.6679999999999999,
          -0.6639999999999999,
          -0.6599999999999999,
          -0.656,
          -0.652,
          -0.648,
          -0.644,
          -0.64,
          -0.636,
          -0.632,
          -0.628,
          -0.624,
          -0.62,
          -0.616,
          -0.612,
          -0.608,
          -0.604,
          -0.6,
          -0.596,
          -0.5920000000000001,
          -0.5880000000000001,
          -0.5840000000000001,
          -0.5800000000000001,
          -0.5760000000000001,
          -0.5720000000000001,
          -0.5680000000000001,
          -0.5640000000000001,
          -0.56,
          -0.556,
          -0.552,
          -0.548,
          -0.544,
          -0.54,
          -0.536,
          -0.532,
          -0.528,
          -0.524,
          -0.52,
          -0.516,
          -0.512,
          -0.508,
          -0.504,
          -0.5,
          -0.496,
          -0.492,
          -0.488,
          -0.484,
          -0.48,
          -0.476,
          -0.472,
          -0.46799999999999997,
          -0.46399999999999997,
          -0.45999999999999996,
          -0.45599999999999996,
          -0.45199999999999996,
          -0.44799999999999995,
          -0.44399999999999995,
          -0.43999999999999995,
          -0.43600000000000005,
          -0.43200000000000005,
          -0.42800000000000005,
          -0.42400000000000004,
          -0.42000000000000004,
          -0.41600000000000004,
          -0.41200000000000003,
          -0.40800000000000003,
          -0.404,
          -0.4,
          -0.396,
          -0.392,
          -0.388,
          -0.384,
          -0.38,
          -0.376,
          -0.372,
          -0.368,
          -0.364,
          -0.36,
          -0.356,
          -0.352,
          -0.348,
          -0.344,
          -0.33999999999999997,
          -0.33599999999999997,
          -0.33199999999999996,
          -0.32799999999999996,
          -0.32399999999999995,
          -0.31999999999999995,
          -0.31599999999999995,
          -0.31200000000000006,
          -0.30800000000000005,
          -0.30400000000000005,
          -0.30000000000000004,
          -0.29600000000000004,
          -0.29200000000000004,
          -0.28800000000000003,
          -0.28400000000000003,
          -0.28,
          -0.276,
          -0.272,
          -0.268,
          -0.264,
          -0.26,
          -0.256,
          -0.252,
          -0.248,
          -0.244,
          -0.24,
          -0.236,
          -0.23199999999999998,
          -0.22799999999999998,
          -0.22399999999999998,
          -0.21999999999999997,
          -0.21599999999999997,
          -0.21199999999999997,
          -0.20799999999999996,
          -0.20399999999999996,
          -0.19999999999999996,
          -0.19599999999999995,
          -0.19199999999999995,
          -0.18799999999999994,
          -0.18400000000000005,
          -0.18000000000000005,
          -0.17600000000000005,
          -0.17200000000000004,
          -0.16800000000000004,
          -0.16400000000000003,
          -0.16000000000000003,
          -0.15600000000000003,
          -0.15200000000000002,
          -0.14800000000000002,
          -0.14400000000000002,
          -0.14,
          -0.136,
          -0.132,
          -0.128,
          -0.124,
          -0.12,
          -0.11599999999999999,
          -0.11199999999999999,
          -0.10799999999999998,
          -0.10399999999999998,
          -0.09999999999999998,
          -0.09599999999999997,
          -0.09199999999999997,
          -0.08799999999999997,
          -0.08399999999999996,
          -0.07999999999999996,
          -0.07599999999999996,
          -0.07199999999999995,
          -0.06799999999999995,
          -0.06399999999999995,
          -0.06000000000000005,
          -0.05600000000000005,
          -0.052000000000000046,
          -0.04800000000000004,
          -0.04400000000000004,
          -0.040000000000000036,
          -0.03600000000000003,
          -0.03200000000000003,
          -0.028000000000000025,
          -0.02400000000000002,
          -0.020000000000000018,
          -0.016000000000000014,
          -0.01200000000000001,
          -0.008000000000000007,
          -0.0040000000000000036,
          0,
          0.0040000000000000036,
          0.008000000000000007,
          0.01200000000000001,
          0.016000000000000014,
          0.020000000000000018,
          0.02400000000000002,
          0.028000000000000025,
          0.03200000000000003,
          0.03600000000000003,
          0.040000000000000036,
          0.04400000000000004,
          0.04800000000000004,
          0.052000000000000046,
          0.05600000000000005,
          0.06000000000000005,
          0.06400000000000006,
          0.06800000000000006,
          0.07200000000000006,
          0.07600000000000007,
          0.08000000000000007,
          0.08400000000000007,
          0.08800000000000008,
          0.09200000000000008,
          0.09600000000000009,
          0.10000000000000009,
          0.10400000000000009,
          0.1080000000000001,
          0.1120000000000001,
          0.1160000000000001,
          0.1200000000000001,
          0.12400000000000011,
          0.1279999999999999,
          0.1319999999999999,
          0.1359999999999999,
          0.1399999999999999,
          0.1439999999999999,
          0.1479999999999999,
          0.1519999999999999,
          0.15599999999999992,
          0.15999999999999992,
          0.16399999999999992,
          0.16799999999999993,
          0.17199999999999993,
          0.17599999999999993,
          0.17999999999999994,
          0.18399999999999994,
          0.18799999999999994,
          0.19199999999999995,
          0.19599999999999995,
          0.19999999999999996,
          0.20399999999999996,
          0.20799999999999996,
          0.21199999999999997,
          0.21599999999999997,
          0.21999999999999997,
          0.22399999999999998,
          0.22799999999999998,
          0.23199999999999998,
          0.236,
          0.24,
          0.244,
          0.248,
          0.252,
          0.256,
          0.26,
          0.264,
          0.268,
          0.272,
          0.276,
          0.28,
          0.28400000000000003,
          0.28800000000000003,
          0.29200000000000004,
          0.29600000000000004,
          0.30000000000000004,
          0.30400000000000005,
          0.30800000000000005,
          0.31200000000000006,
          0.31600000000000006,
          0.32000000000000006,
          0.32400000000000007,
          0.32800000000000007,
          0.3320000000000001,
          0.3360000000000001,
          0.3400000000000001,
          0.3440000000000001,
          0.3480000000000001,
          0.3520000000000001,
          0.3560000000000001,
          0.3600000000000001,
          0.3640000000000001,
          0.3680000000000001,
          0.3720000000000001,
          0.3759999999999999,
          0.3799999999999999,
          0.3839999999999999,
          0.3879999999999999,
          0.3919999999999999,
          0.3959999999999999,
          0.3999999999999999,
          0.4039999999999999,
          0.4079999999999999,
          0.4119999999999999,
          0.4159999999999999,
          0.41999999999999993,
          0.42399999999999993,
          0.42799999999999994,
          0.43199999999999994,
          0.43599999999999994,
          0.43999999999999995,
          0.44399999999999995,
          0.44799999999999995,
          0.45199999999999996,
          0.45599999999999996,
          0.45999999999999996,
          0.46399999999999997,
          0.46799999999999997,
          0.472,
          0.476,
          0.48,
          0.484,
          0.488,
          0.492,
          0.496,
          0.5,
          0.504,
          0.508,
          0.512,
          0.516,
          0.52,
          0.524,
          0.528,
          0.532,
          0.536,
          0.54,
          0.544,
          0.548,
          0.552,
          0.556,
          0.56,
          0.5640000000000001,
          0.5680000000000001,
          0.5720000000000001,
          0.5760000000000001,
          0.5800000000000001,
          0.5840000000000001,
          0.5880000000000001,
          0.5920000000000001,
          0.5960000000000001,
          0.6000000000000001,
          0.6040000000000001,
          0.6080000000000001,
          0.6120000000000001,
          0.6160000000000001,
          0.6200000000000001,
          0.6240000000000001,
          0.6279999999999999,
          0.6319999999999999,
          0.6359999999999999,
          0.6399999999999999,
          0.6439999999999999,
          0.6479999999999999,
          0.6519999999999999,
          0.6559999999999999,
          0.6599999999999999,
          0.6639999999999999,
          0.6679999999999999,
          0.6719999999999999,
          0.6759999999999999,
          0.6799999999999999,
          0.6839999999999999,
          0.688,
          0.692,
          0.696,
          0.7,
          0.704,
          0.708,
          0.712,
          0.716,
          0.72,
          0.724,
          0.728,
          0.732,
          0.736,
          0.74,
          0.744,
          0.748,
          0.752,
          0.756,
          0.76,
          0.764,
          0.768,
          0.772,
          0.776,
          0.78,
          0.784,
          0.788,
          0.792,
          0.796,
          0.8,
          0.804,
          0.808,
          0.812,
          0.8160000000000001,
          0.8200000000000001,
          0.8240000000000001,
          0.8280000000000001,
          0.8320000000000001,
          0.8360000000000001,
          0.8400000000000001,
          0.8440000000000001,
          0.8480000000000001,
          0.8520000000000001,
          0.8560000000000001,
          0.8600000000000001,
          0.8640000000000001,
          0.8680000000000001,
          0.8720000000000001,
          0.8759999999999999,
          0.8799999999999999,
          0.8839999999999999,
          0.8879999999999999,
          0.8919999999999999,
          0.8959999999999999,
          0.8999999999999999,
          0.9039999999999999,
          0.9079999999999999,
          0.9119999999999999,
          0.9159999999999999,
          0.9199999999999999,
          0.9239999999999999,
          0.9279999999999999,
          0.9319999999999999,
          0.9359999999999999,
          0.94,
          0.944,
          0.948,
          0.952,
          0.956,
          0.96,
          0.964,
          0.968,
          0.972,
          0.976,
          0.98,
          0.984,
          0.988,
          0.992,
          0.996
         ],
         "xaxis": "x",
         "y": [
          0.010135579244681338,
          0.010068608451031308,
          0.009861158523711328,
          0.00952297155637801,
          0.009069269907597733,
          0.008519737532581883,
          0.00789722753036525,
          0.00722631301403379,
          0.006531806622013012,
          0.00583736832207428,
          0.005164303409201546,
          0.004530626033938403,
          0.003950432337007799,
          0.003433595564847266,
          0.002985767139672042,
          0.002608645293832877,
          0.0023004580298224132,
          0.0020566000440226506,
          0.0018703629957277624,
          0.0017337035259837443,
          0.0016380018099363299,
          0.0015747732660869999,
          0.0015363057544565501,
          0.0015162030440400867,
          0.0015098218944107353,
          0.0015145946116231295,
          0.0015302315997907942,
          0.0015587996820291916,
          0.0016046724085023222,
          0.0016743488933581789,
          0.0017761386548476952,
          0.0019197121968178754,
          0.002115521316526409,
          0.0023740998323798094,
          0.002705264767050479,
          0.003117249711100024,
          0.003615815263822935,
          0.004203394605122413,
          0.004878343337479497,
          0.005634369348860456,
          0.0064602182000378676,
          0.007339680525218433,
          0.008251969207217198,
          0.009172486068502508,
          0.010073962512438164,
          0.010927919491212143,
          0.011706354073729013,
          0.01238352796878021,
          0.012937712548965852,
          0.013352738960263085,
          0.013619212609607865,
          0.013735278150852173,
          0.013706861090409115,
          0.013547360369746455,
          0.013276816616183414,
          0.012920626879155916,
          0.012507913168686257,
          0.012069675334308704,
          0.011636867392733691,
          0.011238531284845053,
          0.010900106085049514,
          0.01064200791077432,
          0.01047855040181205,
          0.010417251180420948,
          0.010458548347227146,
          0.010595933400717452,
          0.010816492145189623,
          0.011101831430617732,
          0.01142935505017552,
          0.011773835509854292,
          0.012109209551956485,
          0.012410505536346553,
          0.012655792578661132,
          0.012828027956576964,
          0.012916673948485493,
          0.012918960387264096,
          0.012840685792698953,
          0.012696477249257942,
          0.012509464823147947,
          0.012310366657791835,
          0.012136021842527432,
          0.012027445892412085,
          0.012027515338229254,
          0.012178411978509156,
          0.012518973624377192,
          0.013082107526637807,
          0.013892426385813067,
          0.0149642659249288,
          0.01630023765369208,
          0.017890459801903055,
          0.01971259164291461,
          0.021732769336589602,
          0.023907503119518163,
          0.026186545458734552,
          0.02851667877528193,
          0.030846302696067755,
          0.033130629446316937,
          0.03533722792156623,
          0.037451598128299214,
          0.03948241292006209,
          0.04146603630709401,
          0.043469918107740424,
          0.045594472917225626,
          0.04797307659899283,
          0.05076985626024861,
          0.05417501292291642,
          0.05839750575679103,
          0.06365505089632516,
          0.07016155456980926,
          0.07811231406459138,
          0.08766757785309742,
          0.09893534361358405,
          0.11195456208136507,
          0.12668016502822904,
          0.14297149772294238,
          0.1605857590140009,
          0.17917789307124332,
          0.19830801215788826,
          0.21745686405107326,
          0.23604912889235938,
          0.2534835095773127,
          0.2691677648839519,
          0.2825561362827392,
          0.2931861445762709,
          0.300711565281167,
          0.3049285771136367,
          0.30579261183268713,
          0.30342426038505177,
          0.2981036099471963,
          0.2902534704787226,
          0.28041296129899135,
          0.2692037458528331,
          0.257291737792968,
          0.24534731158646442,
          0.2340069436917284,
          0.22383883762437118,
          0.21531453012721655,
          0.20878783089539316,
          0.2044818036856554,
          0.2024839200933221,
          0.20274904728978033,
          0.20510957566150878,
          0.20929173540843105,
          0.21493696337253662,
          0.22162703288573526,
          0.2289115311632673,
          0.23633615904948255,
          0.2434702532472663,
          0.24993192109157383,
          0.25540926563280536,
          0.25967638986943153,
          0.26260321149719745,
          0.2641585780531655,
          0.2644067072737146,
          0.26349753047182867,
          0.26165202044621666,
          0.2591439758799033,
          0.25627996262098285,
          0.25337915400845185,
          0.25075467089670256,
          0.24869772699553086,
          0.24746548601125384,
          0.24727309296536482,
          0.24828991083674334,
          0.25063962244855903,
          0.25440357660645824,
          0.2596265786203714,
          0.26632424408407646,
          0.2744910359858759,
          0.2841081695876606,
          0.2951506794186408,
          0.30759308569209676,
          0.32141326643434226,
          0.33659433248162646,
          0.35312450973892845,
          0.37099524552681423,
          0.39019795417740144,
          0.4107199745832007,
          0.43254039937487776,
          0.4556264261641454,
          0.4799307627354417,
          0.5053903968352117,
          0.5319267472328433,
          0.5594468974379985,
          0.5878453420065641,
          0.617005513898491,
          0.6468003617890624,
          0.6770914320058232,
          0.7077262661427959,
          0.738534397488986,
          0.7693227290940601,
          0.7998714977118585,
          0.8299322685043086,
          0.8592293886021829,
          0.8874660214844421,
          0.9143353120868587,
          0.9395364728990976,
          0.9627947550332804,
          0.9838835172397599,
          1.002646065854892,
          1.0190147128248368,
          1.0330246372985465,
          1.044820625976939,
          1.054655535418239,
          1.062880247198152,
          1.0699258331132555,
          1.0762794754291742,
          1.0824562877939328,
          1.0889694926724398,
          1.0963014203204622,
          1.1048775404042082,
          1.1150452941478095,
          1.127058953516548,
          1.1410711835628289,
          1.157131495571227,
          1.1751913946498604,
          1.195115757729045,
          1.216699811801972,
          1.2396909855171678,
          1.26381484118222,
          1.2888042233992767,
          1.3144306593085107,
          1.3405369004631897,
          1.3670693056943657,
          1.3941085341930954,
          1.4218967603006794,
          1.4508593529223122,
          1.4816187073349838,
          1.5149977121122116,
          1.5520102335565638,
          1.5938360796911475,
          1.641778258100569,
          1.6972010645072821,
          1.761448713495643,
          1.8357458861153124,
          1.921083682921729,
          2.0180968971741797,
          2.1269410126206383,
          2.247179535093826,
          2.377693775169807,
          2.5166275958617796,
          2.6613785851400897,
          2.8086444246373232,
          2.9545289446835183,
          3.0947067861622104,
          3.2246392932706294,
          3.3398280014449244,
          3.4360867245960214,
          3.5098096144170943,
          3.558211314043388,
          3.579516809190511,
          3.5730827603516278,
          3.539438548052595,
          3.480243200200865,
          3.3981627843927527,
          3.296680652281345,
          3.1798591288973714,
          3.052075109445539,
          2.9177531805175154,
          2.781118344108066,
          2.6459865875122826,
          2.5156060922961063,
          2.3925556499347573,
          2.278700702814716,
          2.1752020925502515,
          2.0825685958436204,
          2.0007419236631803,
          1.9292020558809078,
          1.8670813694377666,
          1.8132776392767136,
          1.7665582319910498,
          1.725650270568138,
          1.6893138936059902,
          1.6563977350084695,
          1.6258772905087264,
          1.596877890796589,
          1.5686846121708378,
          1.5407417081809947,
          1.5126441352910807,
          1.4841235602659464,
          1.4550309470251097,
          1.425317476693051,
          1.3950151908972563,
          1.3642183892967648,
          1.3330664771623055,
          1.3017286649043698,
          1.2703906839045076,
          1.2392435126203807,
          1.2084740069669715,
          1.1782572929910504,
          1.1487507916277502,
          1.1200897813319584,
          1.0923844386293797,
          1.0657183065850973,
          1.0401481133911792,
          1.0157047970291364,
          0.9923955000448249,
          0.9702062044072576,
          0.9491046088269298,
          0.9290428361192183,
          0.9099596129400531,
          0.8917816901106345,
          0.874424453200918,
          0.85779187920243,
          0.8417761857183059,
          0.8262576529885122,
          0.8111051435484793,
          0.796177783121884,
          0.7813281042656807,
          0.7664067172245126,
          0.7512683028169335,
          0.7357784703148019,
          0.7198208371110205,
          0.7033036019042377,
          0.6861649147321384,
          0.6683764881594725,
          0.649945116118176,
          0.630912027718274,
          0.6113502551687614,
          0.59136039515806,
          0.5710652625494523,
          0.5506039635504082,
          0.5301258613581122,
          0.5097847950194211,
          0.489733774977685,
          0.4701202501022582,
          0.45108194731407353,
          0.43274324012670395,
          0.4152120060052504,
          0.3985769712128798,
          0.3829055945577131,
          0.3682425852008738,
          0.35460916592306796,
          0.3420031725591112,
          0.33040002443354594,
          0.319754521540646,
          0.31000334064999563,
          0.3010680349420771,
          0.2928583070554531,
          0.28527533258301796,
          0.2782149590599868,
          0.2715706835454751,
          0.26523640206731464,
          0.2591090056176036,
          0.25309095106894675,
          0.24709294841429902,
          0.24103687393575743,
          0.2348589474276603,
          0.22851311343296038,
          0.22197445937317598,
          0.21524240618750481,
          0.20834333570396696,
          0.20133228424898622,
          0.19429333846659563,
          0.18733841571385865,
          0.18060419247229106,
          0.17424705297489224,
          0.16843605994067665,
          0.16334409443149644,
          0.15913746787484037,
          0.15596447121907053,
          0.15394348639678695,
          0.15315143163745557,
          0.1536134271962585,
          0.15529462982045733,
          0.15809516935949952,
          0.16184900917821146,
          0.16632733209422187,
          0.17124672803869156,
          0.17628204847144546,
          0.18108333342666458,
          0.18529576208498477,
          0.18858118693060794,
          0.19063954340342118,
          0.1912283284788239,
          0.19017843915118507,
          0.18740495499742332,
          0.18291190910865096,
          0.17679066488573755,
          0.16921213148214384,
          0.1604136308603741,
          0.15068170331324915,
          0.1403324516784978,
          0.12969114792343558,
          0.11907275792509386,
          0.10876480611916681,
          0.0990136465768392,
          0.09001478770155995,
          0.08190749218968087,
          0.07477349249270845,
          0.06863936070576081,
          0.06348186895839804,
          0.05923557314842868,
          0.05580183649826342,
          0.05305855851343478,
          0.05086996515076456,
          0.04909592516017371,
          0.047600369032802535,
          0.04625849116465128,
          0.044962509641433134,
          0.043625842983464745,
          0.04218564279797135,
          0.04060369865503239,
          0.038865807515389456,
          0.03697977269613962,
          0.034972262195943314,
          0.032884807508505275,
          0.030769256495816747,
          0.02868300399895686,
          0.026684310996866932,
          0.0248279897012254,
          0.023161682937931135,
          0.02172290787485023,
          0.020536973061362856,
          0.019615819176340067,
          0.018957781261541608,
          0.018548224874652443,
          0.018360970155441893,
          0.0183603849992499,
          0.018504000198461764,
          0.018745475280583578,
          0.019037724925212992,
          0.01933600463245837,
          0.0196007537779613,
          0.019800007123768587,
          0.01991121381776192,
          0.01992234542077735,
          0.0198322286554452,
          0.01965009927425277,
          0.019394434142907483,
          0.019091172463335564,
          0.018771478110367754,
          0.018469219473113516,
          0.01821834983838457,
          0.018050361877714003,
          0.017991968099466047,
          0.01806313034150638,
          0.018275530654457778,
          0.018631547263383227,
          0.01912377476444492,
          0.019735107204330075,
          0.020439384279361768,
          0.02120258169664991,
          0.021984504054135368,
          0.022740910992234593,
          0.02342597548349082,
          0.02399493990490883,
          0.0244068058582909,
          0.024626873438303592,
          0.024628940371501314,
          0.024396985095950386,
          0.02392619162804669,
          0.02322322588934397,
          0.022305737775569573,
          0.02120113295661423,
          0.019944724367380064,
          0.01857742712177068,
          0.017143195508817183,
          0.015686413065953475,
          0.014249436146482098,
          0.012870460880505478,
          0.01158183853419887,
          0.010408912036996237,
          0.009369394100708896,
          0.008473261144918694,
          0.007723101564527344,
          0.007114833849290035,
          0.006638699583300176,
          0.006280436516927584,
          0.006022544718275321,
          0.005845570947438324,
          0.005729349871432009,
          0.005654153379118667,
          0.005601709903913371,
          0.005556064112324848,
          0.005504254068848374,
          0.005436788902195319,
          0.005347915950079583,
          0.005235672980291927,
          0.005101728625327744,
          0.00495102249376399,
          0.0047912251149118245,
          0.004632046375111772,
          0.004484428856507198,
          0.004359669027779833,
          0.004268514214082887,
          0.004220286422527321,
          0.00422208516034747,
          0.004278120039605001,
          0.004389219825706933,
          0.004552557247632419,
          0.004761618041614218,
          0.005006428322278221,
          0.005274036896372801,
          0.005549229563268031,
          0.005815432390719612,
          0.006055742504359277,
          0.006254010406901323,
          0.006395889446637651,
          0.006469767463595962
         ],
         "yaxis": "y"
        },
        {
         "legendgroup": "PCL",
         "marker": {
          "color": "#e66f4b"
         },
         "mode": "lines",
         "name": "PCL",
         "showlegend": true,
         "type": "scatter",
         "x": [
          -0.6,
          -0.5972,
          -0.5943999999999999,
          -0.5916,
          -0.5888,
          -0.586,
          -0.5831999999999999,
          -0.5804,
          -0.5776,
          -0.5748,
          -0.572,
          -0.5691999999999999,
          -0.5664,
          -0.5636,
          -0.5608,
          -0.5579999999999999,
          -0.5552,
          -0.5524,
          -0.5496,
          -0.5468,
          -0.5439999999999999,
          -0.5412,
          -0.5384,
          -0.5356,
          -0.5327999999999999,
          -0.53,
          -0.5272,
          -0.5244,
          -0.5216,
          -0.5187999999999999,
          -0.516,
          -0.5132,
          -0.5104,
          -0.5075999999999999,
          -0.5048,
          -0.502,
          -0.4992,
          -0.49639999999999995,
          -0.4936,
          -0.4908,
          -0.488,
          -0.48519999999999996,
          -0.4824,
          -0.47959999999999997,
          -0.4768,
          -0.474,
          -0.4712,
          -0.4684,
          -0.4656,
          -0.4628,
          -0.45999999999999996,
          -0.4572,
          -0.45439999999999997,
          -0.4516,
          -0.4488,
          -0.44599999999999995,
          -0.4432,
          -0.4404,
          -0.4376,
          -0.43479999999999996,
          -0.43199999999999994,
          -0.4292,
          -0.4264,
          -0.4236,
          -0.42079999999999995,
          -0.418,
          -0.4152,
          -0.4124,
          -0.40959999999999996,
          -0.4068,
          -0.40399999999999997,
          -0.4012,
          -0.3984,
          -0.3956,
          -0.3928,
          -0.39,
          -0.3872,
          -0.38439999999999996,
          -0.3816,
          -0.3788,
          -0.376,
          -0.3732,
          -0.37039999999999995,
          -0.36760000000000004,
          -0.3648,
          -0.362,
          -0.35919999999999996,
          -0.3564,
          -0.3536,
          -0.3508,
          -0.34800000000000003,
          -0.3452,
          -0.34240000000000004,
          -0.3396,
          -0.3368,
          -0.33399999999999996,
          -0.33120000000000005,
          -0.3284,
          -0.3256,
          -0.3228,
          -0.31999999999999995,
          -0.31720000000000004,
          -0.3144,
          -0.3116,
          -0.30879999999999996,
          -0.306,
          -0.3032,
          -0.3004,
          -0.2976,
          -0.2948,
          -0.292,
          -0.2892,
          -0.2864,
          -0.2836,
          -0.2808,
          -0.27799999999999997,
          -0.2752,
          -0.27240000000000003,
          -0.2696,
          -0.2668,
          -0.26399999999999996,
          -0.26120000000000004,
          -0.2584,
          -0.2556,
          -0.25279999999999997,
          -0.25,
          -0.24720000000000003,
          -0.2444,
          -0.24159999999999998,
          -0.2388,
          -0.236,
          -0.23320000000000002,
          -0.2304,
          -0.22760000000000002,
          -0.2248,
          -0.22199999999999998,
          -0.2192,
          -0.21640000000000004,
          -0.2136,
          -0.2108,
          -0.20799999999999996,
          -0.20520000000000005,
          -0.20240000000000002,
          -0.1996,
          -0.19679999999999997,
          -0.19399999999999995,
          -0.19120000000000004,
          -0.1884,
          -0.1856,
          -0.18279999999999996,
          -0.18,
          -0.17720000000000002,
          -0.1744,
          -0.17159999999999997,
          -0.1688,
          -0.16599999999999998,
          -0.1632,
          -0.1604,
          -0.15760000000000002,
          -0.1548,
          -0.15199999999999997,
          -0.1492,
          -0.14640000000000003,
          -0.1436,
          -0.14079999999999998,
          -0.138,
          -0.13520000000000004,
          -0.13240000000000002,
          -0.1296,
          -0.12679999999999997,
          -0.12400000000000005,
          -0.12120000000000003,
          -0.1184,
          -0.11559999999999998,
          -0.11280000000000001,
          -0.11000000000000004,
          -0.10720000000000002,
          -0.10439999999999999,
          -0.10160000000000002,
          -0.0988,
          -0.09600000000000009,
          -0.09320000000000006,
          -0.09040000000000004,
          -0.08760000000000001,
          -0.0848000000000001,
          -0.08199999999999996,
          -0.07920000000000005,
          -0.07639999999999991,
          -0.0736,
          -0.07080000000000009,
          -0.06799999999999995,
          -0.06520000000000004,
          -0.06240000000000012,
          -0.059599999999999986,
          -0.05680000000000007,
          -0.05399999999999994,
          -0.05120000000000002,
          -0.04840000000000011,
          -0.045599999999999974,
          -0.04280000000000006,
          -0.039999999999999925,
          -0.03720000000000001,
          -0.0344000000000001,
          -0.03159999999999996,
          -0.028800000000000048,
          -0.026000000000000023,
          -0.0232,
          -0.020400000000000085,
          -0.01759999999999995,
          -0.014800000000000035,
          -0.01200000000000001,
          -0.009199999999999986,
          -0.006400000000000072,
          -0.0036000000000000476,
          -0.0008000000000000229,
          0.0020000000000000018,
          0.0048000000000000265,
          0.00759999999999994,
          0.010399999999999965,
          0.01319999999999999,
          0.016000000000000014,
          0.018799999999999928,
          0.021599999999999953,
          0.024399999999999977,
          0.027200000000000002,
          0.030000000000000027,
          0.03279999999999994,
          0.035599999999999965,
          0.03839999999999999,
          0.0411999999999999,
          0.04400000000000004,
          0.04679999999999995,
          0.04959999999999998,
          0.0524,
          0.055199999999999916,
          0.05800000000000005,
          0.060799999999999965,
          0.06359999999999988,
          0.06640000000000001,
          0.06919999999999993,
          0.07200000000000006,
          0.07479999999999998,
          0.07759999999999989,
          0.08040000000000003,
          0.08319999999999994,
          0.08600000000000008,
          0.08879999999999999,
          0.0915999999999999,
          0.09440000000000004,
          0.09719999999999995,
          0.09999999999999998,
          0.1028,
          0.10559999999999992,
          0.10840000000000005,
          0.11119999999999997,
          0.11399999999999999,
          0.11680000000000001,
          0.11959999999999993,
          0.12239999999999995,
          0.12519999999999998,
          0.128,
          0.13080000000000003,
          0.13359999999999994,
          0.13639999999999997,
          0.1392,
          0.14200000000000002,
          0.14479999999999993,
          0.14759999999999995,
          0.15039999999999998,
          0.1532,
          0.15600000000000003,
          0.15879999999999994,
          0.16159999999999997,
          0.1644,
          0.1671999999999999,
          0.17000000000000004,
          0.17279999999999995,
          0.17559999999999998,
          0.1784,
          0.18119999999999992,
          0.18400000000000005,
          0.18679999999999997,
          0.18959999999999988,
          0.19240000000000002,
          0.19519999999999993,
          0.19800000000000006,
          0.20079999999999998,
          0.2035999999999999,
          0.20640000000000003,
          0.20919999999999994,
          0.21200000000000008,
          0.2148,
          0.2175999999999999,
          0.22040000000000004,
          0.22319999999999995,
          0.22599999999999998,
          0.2288,
          0.23159999999999992,
          0.23440000000000005,
          0.23719999999999997,
          0.24,
          0.24280000000000002,
          0.24559999999999993,
          0.24839999999999995,
          0.2512,
          0.254,
          0.25680000000000003,
          0.25959999999999994,
          0.26239999999999997,
          0.2652,
          0.268,
          0.27079999999999993,
          0.27359999999999995,
          0.2764,
          0.2792,
          0.28200000000000003,
          0.28479999999999994,
          0.28759999999999997,
          0.2904,
          0.2931999999999999,
          0.29600000000000004,
          0.29879999999999995,
          0.3016,
          0.3044,
          0.3071999999999999,
          0.30999999999999994,
          0.31279999999999997,
          0.3155999999999999,
          0.3184,
          0.32119999999999993,
          0.32399999999999995,
          0.3268,
          0.3295999999999999,
          0.33240000000000003,
          0.33519999999999994,
          0.33799999999999986,
          0.3408,
          0.3435999999999999,
          0.34640000000000004,
          0.34919999999999995,
          0.35199999999999987,
          0.3548,
          0.3575999999999999,
          0.36040000000000005,
          0.36319999999999997,
          0.3659999999999999,
          0.3688,
          0.37159999999999993,
          0.37439999999999996,
          0.3772,
          0.3799999999999999,
          0.38280000000000003,
          0.38559999999999994,
          0.38839999999999997,
          0.3912,
          0.3939999999999999,
          0.39679999999999993,
          0.39959999999999996,
          0.4024,
          0.4051999999999999,
          0.4079999999999998,
          0.41079999999999994,
          0.41359999999999986,
          0.4164,
          0.4191999999999999,
          0.4219999999999998,
          0.42479999999999996,
          0.42759999999999987,
          0.4303999999999998,
          0.43320000000000014,
          0.43600000000000005,
          0.43879999999999997,
          0.4415999999999999,
          0.4443999999999998,
          0.44720000000000015,
          0.45000000000000007,
          0.4528,
          0.4555999999999999,
          0.4583999999999998,
          0.46120000000000017,
          0.4640000000000001,
          0.4668,
          0.4695999999999999,
          0.4723999999999998,
          0.47519999999999973,
          0.4780000000000001,
          0.4808,
          0.4835999999999999,
          0.48639999999999983,
          0.48919999999999975,
          0.4920000000000001,
          0.4948,
          0.49759999999999993,
          0.5003999999999998,
          0.5031999999999998,
          0.5060000000000001,
          0.5088,
          0.5115999999999999,
          0.5143999999999999,
          0.5171999999999998,
          0.5200000000000001,
          0.5228,
          0.5256,
          0.5283999999999999,
          0.5311999999999998,
          0.5339999999999999,
          0.5368,
          0.5396,
          0.5423999999999999,
          0.5451999999999998,
          0.5479999999999999,
          0.5508000000000001,
          0.5536,
          0.5563999999999999,
          0.5591999999999998,
          0.5619999999999999,
          0.5648000000000001,
          0.5676,
          0.5703999999999999,
          0.5731999999999998,
          0.576,
          0.5787999999999999,
          0.5816,
          0.5843999999999999,
          0.5871999999999998,
          0.59,
          0.5927999999999999,
          0.5956,
          0.5983999999999999,
          0.6011999999999998,
          0.604,
          0.6067999999999999,
          0.6096,
          0.6123999999999999,
          0.6151999999999999,
          0.618,
          0.6207999999999999,
          0.6235999999999998,
          0.6264,
          0.6291999999999999,
          0.632,
          0.6347999999999999,
          0.6375999999999998,
          0.6404,
          0.6431999999999999,
          0.646,
          0.6487999999999999,
          0.6515999999999998,
          0.6544,
          0.6571999999999999,
          0.66,
          0.6628,
          0.6655999999999999,
          0.6684,
          0.6711999999999999,
          0.674,
          0.6768,
          0.6795999999999999,
          0.6823999999999998,
          0.6851999999999999,
          0.6880000000000001,
          0.6908,
          0.6935999999999999,
          0.6963999999999998,
          0.6991999999999999,
          0.7020000000000001,
          0.7048,
          0.7075999999999999,
          0.7103999999999998,
          0.7132,
          0.7160000000000001,
          0.7188,
          0.7215999999999999,
          0.7243999999999998,
          0.7271999999999997,
          0.7300000000000001,
          0.7328,
          0.7355999999999999,
          0.7383999999999998,
          0.7411999999999997,
          0.7440000000000001,
          0.7468,
          0.7495999999999999,
          0.7523999999999998,
          0.7551999999999998,
          0.7580000000000001,
          0.7608,
          0.7636,
          0.7663999999999999,
          0.7691999999999998,
          0.7720000000000001,
          0.7748,
          0.7776,
          0.7803999999999999,
          0.7831999999999998,
          0.7859999999999999,
          0.7888000000000001,
          0.7916,
          0.7943999999999999,
          0.7971999999999998
         ],
         "xaxis": "x",
         "y": [
          0.057931945210806426,
          0.06071559660995667,
          0.06359480972116327,
          0.06657173921868373,
          0.06964826847159603,
          0.07282594139312094,
          0.07610589417732248,
          0.07948878853721346,
          0.0829747481359936,
          0.08656329993969301,
          0.09025332221107618,
          0.094043000808523,
          0.0979297953483506,
          0.10191041663456973,
          0.10598081655786018,
          0.11013619141856172,
          0.11437099934119643,
          0.1186789921264911,
          0.12305326153837658,
          0.1274862996566175,
          0.13197007255017393,
          0.1364961061524663,
          0.14105558285832093,
          0.14563944702447812,
          0.15023851725207468,
          0.1548436030707773,
          0.15944562343971966,
          0.16403572433838515,
          0.16860539264785,
          0.17314656352429297,
          0.17765171854543135,
          0.18211397206726823,
          0.18652714346174998,
          0.19088581321179782,
          0.19518536121248511,
          0.1994219860576085,
          0.20359270456915046,
          0.20769533134107873,
          0.21172843860501744,
          0.21569129726899927,
          0.2195838005164724,
          0.22340637186560916,
          0.22715986006352906,
          0.23084542361190016,
          0.2344644080762704,
          0.23801821960977537,
          0.2415081983129682,
          0.24493549514811874,
          0.24830095612374783,
          0.25160501736153057,
          0.25484761445391624,
          0.25802810922084674,
          0.26114523658441297,
          0.26419707381058766,
          0.2671810338289989,
          0.27009388374897114,
          0.2729317890581691,
          0.2756903833359839,
          0.27836486265475424,
          0.28095010319571107,
          0.2834407999907109,
          0.28583162413190555,
          0.28811739528496766,
          0.29029326591078913,
          0.29235491325735424,
          0.2942987349365532,
          0.29612204375654,
          0.2978232574420499,
          0.29940207894345666,
          0.30085966320770935,
          0.30219876655526073,
          0.30342387516878383,
          0.3045413096413442,
          0.305559303041587,
          0.30648805051701755,
          0.3073397290587181,
          0.308128486675589,
          0.30887040085730766,
          0.30958340682671226,
          0.31028719667882165,
          0.3110030910610525,
          0.31175388555475014,
          0.31256367436096555,
          0.31345765426476724,
          0.3144619121457386,
          0.31560319951356575,
          0.31690869767504665,
          0.318405777183105,
          0.3201217551823685,
          0.3220836541545351,
          0.3243179653868823,
          0.3268504202472803,
          0.3297057720583491,
          0.33290759103260126,
          0.3364780743701803,
          0.3404378732425958,
          0.34480593800020626,
          0.3495993825588604,
          0.35483336855149106,
          0.36052100948218513,
          0.36667329480083943,
          0.37329903353165184,
          0.3804048168432532,
          0.3879949987448133,
          0.39607169393278924,
          0.4046347916969063,
          0.4136819847200637,
          0.4232088115727745,
          0.43320871170441944,
          0.4436730917669392,
          0.45459140216579924,
          0.4659512228130945,
          0.4777383571519152,
          0.4899369336240567,
          0.5025295138588503,
          0.515497206963755,
          0.5288197893924242,
          0.5424758299492041,
          0.5564428195564337,
          0.5706973054600627,
          0.585215029578308,
          0.5999710707060532,
          0.6149399902750465,
          0.6300959813372784,
          0.6454130203883224,
          0.6608650215813389,
          0.6764259928045571,
          0.692070193008654,
          0.7077722900806526,
          0.7235075184715339,
          0.7392518357011003,
          0.7549820767899663,
          0.7706761056094926,
          0.7863129621000495,
          0.8018730042895681,
          0.8173380440508958,
          0.8326914755694904,
          0.8479183955539533,
          0.8630057143100498,
          0.8779422569132997,
          0.8927188538533255,
          0.907328420681119,
          0.9217660263636039,
          0.936028950232496,
          0.9501167275994328,
          0.9640311842895535,
          0.9777764605129722,
          0.9913590246393877,
          1.0047876775574667,
          1.0180735483796743,
          1.0312300822870915,
          1.0442730212920472,
          1.0572203786236223,
          1.0700924073088773,
          1.0829115633306472,
          1.0957024634909112,
          1.1084918378013773,
          1.1213084758656475,
          1.1341831663193405,
          1.147148627966701,
          1.1602394308091701,
          1.1734919047189911,
          1.1869440330873817,
          1.2006353283924496,
          1.214606686307226,
          1.2289002147245993,
          1.2435590339344587,
          1.2586270441686136,
          1.2741486568502454,
          1.2901684861603895,
          1.3067309979785457,
          1.3238801138729483,
          1.3416587686137171,
          1.3601084206539966,
          1.3792685161626126,
          1.3991759084810025,
          1.4198642362953842,
          1.4413632653343849,
          1.4636981999881717,
          1.4868889728576147,
          1.5109495218369406,
          1.5358870658620627,
          1.5617013918684333,
          1.5883841667450753,
          1.6159182890939645,
          1.6442772963560948,
          1.6734248433032544,
          1.7033142679759559,
          1.7338882608427013,
          1.7650786522382034,
          1.7968063319961587,
          1.8289813136229942,
          1.8615029533731546,
          1.8942603322068863,
          1.927132805873216,
          1.9599907253132864,
          1.9926963262805772,
          2.0251047835976252,
          2.0570654218899835,
          2.0884230710470137,
          2.1190195511442327,
          2.148695268217665,
          2.177290899200389,
          2.204649141602202,
          2.230616501221272,
          2.255045089392759,
          2.277794400068798,
          2.2987330364344105,
          2.317740356828229,
          2.334708010473022,
          2.3495413349249135,
          2.362160589205054,
          2.372501999242537,
          2.3805185954801713,
          2.386180826202289,
          2.389476934253736,
          2.3904130892321946,
          2.3890132718514794,
          2.385318911875048,
          2.3793882856992705,
          2.371295684207712,
          2.3611303658151175,
          2.348995313571675,
          2.335005818710975,
          2.3192879160239133,
          2.3019766988584727,
          2.2832145433363618,
          2.263149272510799,
          2.24193229165297,
          2.2197167256536483,
          2.1966555886830914,
          2.172900014805569,
          2.148597576247362,
          2.123890713533962,
          2.0989152988189153,
          2.07379935050601,
          2.0486619138054607,
          2.0236121182541233,
          1.9987484195576186,
          1.9741580294654344,
          1.9499165338501727,
          1.9260876958011866,
          1.902723437428093,
          1.8798639912542126,
          1.857538209608283,
          1.8357640183275026,
          1.814548999386882,
          1.7938910857780486,
          1.773779351075117,
          1.7541948756344365,
          1.7351116712594057,
          1.7164976463953963,
          1.6983155944686352,
          1.680524188810542,
          1.663078968675016,
          1.6459333021167661,
          1.6290393129137501,
          1.6123487602419215,
          1.595813861407107,
          1.5793880495693895,
          1.5630266600242608,
          1.5466875402041682,
          1.5303315801045296,
          1.5139231613004338,
          1.4974305240840102,
          1.4808260535055167,
          1.4640864862323668,
          1.4471930411436247,
          1.4301314774496747,
          1.412892084866179,
          1.3954696109808762,
          1.3778631314341288,
          1.360075868894063,
          1.342114967052107,
          1.3239912260004607,
          1.3057188053883015,
          1.2873149016965524,
          1.2687994058289698,
          1.250194547001288,
          1.2315245286262178,
          1.2128151615509597,
          1.1940934996136237,
          1.175387482053909,
          1.1567255868512267,
          1.1381364985777058,
          1.1196487938533495,
          1.101290646984264,
          1.0830895578601745,
          1.0650721036921846,
          1.0472637156940214,
          1.0296884813551919,
          1.0123689725310254,
          0.9953260991853665,
          0.9785789882742376,
          0.9621448869543123,
          0.9460390890429762,
          0.9302748834480012,
          0.9148635231249524,
          0.8998142130086083,
          0.8851341152995978,
          0.8708283704655616,
          0.8569001323340787,
          0.8433506157073348,
          0.830179155011072,
          0.8173832725958339,
          0.8049587554319483,
          0.7928997390733683,
          0.7811987979037759,
          0.7698470408150535,
          0.7588342115976631,
          0.7481487934396277,
          0.737778117031915,
          0.7277084718595335,
          0.7179252203175115,
          0.7084129143284739,
          0.6991554141527985,
          0.6901360090754798,
          0.6813375396269982,
          0.6727425209517108,
          0.664333266880353,
          0.6560920141966952,
          0.6480010465171393,
          0.6400428171300304,
          0.6322000700734924,
          0.6244559586709431,
          0.6167941606951858,
          0.6091989892991857,
          0.6016554988358395,
          0.5941495846924313,
          0.586668076288479,
          0.5791988224281012,
          0.5717307682591843,
          0.564254023169038,
          0.5567599190382733,
          0.5492410583773104,
          0.5416913519805018,
          0.5341060458471503,
          0.5264817372333597,
          0.5188163798096133,
          0.5111092780035594,
          0.5033610707022179,
          0.49557370457122724,
          0.48775039731855346,
          0.4798955912864547,
          0.472014897797889,
          0.4641150327130419,
          0.4562037436703948,
          0.44828972949613255,
          0.44038255226971784,
          0.43249254253425085,
          0.42463069814210125,
          0.41680857723228404,
          0.4090381858492989,
          0.40133186073691207,
          0.39370214787665303,
          0.38616167739117063,
          0.37872303549806136,
          0.37139863427969927,
          0.36420058012815193,
          0.35714054182876825,
          0.3502296193587081,
          0.34347821459294225,
          0.33689590522562546,
          0.3304913233235059,
          0.32427204002435994,
          0.318244457971376,
          0.3124137131279389,
          0.306783587640869,
          0.3013564354086777,
          0.29613312196098546,
          0.291112980162373,
          0.28629378311713555,
          0.2816717354699913,
          0.27724148407282023,
          0.27299614872160644,
          0.26892737336494704,
          0.2650253978512965,
          0.26127914992359275,
          0.2576763567948275,
          0.2542036752557818,
          0.2508468388860299,
          0.24759082057154086,
          0.24442000818696738,
          0.24131839098780852,
          0.23826975398646938,
          0.23525787736515527,
          0.23226673781483312,
          0.2292807085889325,
          0.22628475502726633,
          0.2232646223420998,
          0.22020701256496605,
          0.21709974772811177,
          0.21393191659504335,
          0.2106940025552495,
          0.2073779906518577,
          0.20397745210934504,
          0.2004876051617862,
          0.19690535143981966,
          0.19322928764535482,
          0.18945969271535879,
          0.18559849113839222,
          0.18164919352870104,
          0.17761681597212434,
          0.17350778002648234,
          0.16932979557807695,
          0.165091729018901,
          0.16080345941090254,
          0.15647572544089258,
          0.15211996604090183,
          0.14774815755428142,
          0.14337265026963986,
          0.13900600702657076,
          0.13466084642423584,
          0.13034969294273896,
          0.12608483602545886,
          0.12187819987646953,
          0.11774122540981982,
          0.11368476545594013,
          0.10971899399399665,
          0.10585332984646334,
          0.1020963749519283,
          0.09845586703178219,
          0.09493864619256923,
          0.09155063476406039,
          0.08829682946777845,
          0.08518130484492101,
          0.08220722674809983,
          0.0793768746185092,
          0.07669167122828995,
          0.07415221856497485,
          0.07175833856805769,
          0.06950911749298193,
          0.06740295277061165,
          0.06543760134536761,
          0.06361022860712111,
          0.061917457174986625,
          0.06035541493962002,
          0.05891978191904483,
          0.057605835626265395,
          0.056408494780335314,
          0.05532236131216077,
          0.054341760718824586,
          0.053460780903148826,
          0.05267330969691402,
          0.051973071305828795,
          0.05135366193201983,
          0.05080858482633854,
          0.050331284999711116,
          0.04991518378231623,
          0.04955371336433009,
          0.04924035138551339,
          0.04896865556654945,
          0.04873229829644296,
          0.04852510101117605,
          0.04834106812282801,
          0.04817442018891796,
          0.04801962595192163,
          0.04787143283142594,
          0.0477248954183946,
          0.047575401504126216,
          0.04741869517670252,
          0.04725089653540744,
          0.04706851760849086,
          0.046868474110872485,
          0.04664809274448905,
          0.046405113823016444,
          0.04613768909224396,
          0.04584437471468988,
          0.045524119489103766,
          0.04517624847913647,
          0.044800442327456724,
          0.044396712628790164,
          0.0439653738247528,
          0.04350701216220125,
          0.04302245232271649,
          0.04251272238178343,
          0.041979017790700006,
          0.04142266509123313,
          0.040845086072061415,
          0.04024776305717043,
          0.03963220598020252,
          0.03899992184641614,
          0.038352387116951867,
          0.03769102347052527,
          0.03701717730778053,
          0.03633210326594108,
          0.03563695190885289,
          0.034932761652881804,
          0.034220454885284024,
          0.03350083813138496,
          0.03277460603281748,
          0.032042348813562424,
          0.031304562835696596,
          0.030561663784319622,
          0.029814001972429144,
          0.029061879222469222,
          0.028305566762352526,
          0.027545323569991054,
          0.026781414611374836,
          0.02601412844221341
         ],
         "yaxis": "y"
        },
        {
         "marker": {
          "color": "#e66f4b"
         },
         "name": "PCL",
         "text": [
          0.148,
          0.467,
          0.385
         ],
         "textfont": {
          "color": "white",
          "size": 20
         },
         "textposition": "inside",
         "type": "bar",
         "x": [
          "neutral",
          "positivo",
          "negativo"
         ],
         "xaxis": "x2",
         "y": [
          147,
          464,
          382
         ],
         "yaxis": "y2"
        }
       ],
       "layout": {
        "barmode": "overlay",
        "hovermode": "closest",
        "legend": {
         "traceorder": "reversed"
        },
        "showlegend": false,
        "template": {
         "data": {
          "bar": [
           {
            "error_x": {
             "color": "#2a3f5f"
            },
            "error_y": {
             "color": "#2a3f5f"
            },
            "marker": {
             "line": {
              "color": "white",
              "width": 0.5
             }
            },
            "type": "bar"
           }
          ],
          "barpolar": [
           {
            "marker": {
             "line": {
              "color": "white",
              "width": 0.5
             }
            },
            "type": "barpolar"
           }
          ],
          "carpet": [
           {
            "aaxis": {
             "endlinecolor": "#2a3f5f",
             "gridcolor": "#C8D4E3",
             "linecolor": "#C8D4E3",
             "minorgridcolor": "#C8D4E3",
             "startlinecolor": "#2a3f5f"
            },
            "baxis": {
             "endlinecolor": "#2a3f5f",
             "gridcolor": "#C8D4E3",
             "linecolor": "#C8D4E3",
             "minorgridcolor": "#C8D4E3",
             "startlinecolor": "#2a3f5f"
            },
            "type": "carpet"
           }
          ],
          "choropleth": [
           {
            "colorbar": {
             "outlinewidth": 0,
             "ticks": ""
            },
            "type": "choropleth"
           }
          ],
          "contour": [
           {
            "colorbar": {
             "outlinewidth": 0,
             "ticks": ""
            },
            "colorscale": [
             [
              0,
              "#0d0887"
             ],
             [
              0.1111111111111111,
              "#46039f"
             ],
             [
              0.2222222222222222,
              "#7201a8"
             ],
             [
              0.3333333333333333,
              "#9c179e"
             ],
             [
              0.4444444444444444,
              "#bd3786"
             ],
             [
              0.5555555555555556,
              "#d8576b"
             ],
             [
              0.6666666666666666,
              "#ed7953"
             ],
             [
              0.7777777777777778,
              "#fb9f3a"
             ],
             [
              0.8888888888888888,
              "#fdca26"
             ],
             [
              1,
              "#f0f921"
             ]
            ],
            "type": "contour"
           }
          ],
          "contourcarpet": [
           {
            "colorbar": {
             "outlinewidth": 0,
             "ticks": ""
            },
            "type": "contourcarpet"
           }
          ],
          "heatmap": [
           {
            "colorbar": {
             "outlinewidth": 0,
             "ticks": ""
            },
            "colorscale": [
             [
              0,
              "#0d0887"
             ],
             [
              0.1111111111111111,
              "#46039f"
             ],
             [
              0.2222222222222222,
              "#7201a8"
             ],
             [
              0.3333333333333333,
              "#9c179e"
             ],
             [
              0.4444444444444444,
              "#bd3786"
             ],
             [
              0.5555555555555556,
              "#d8576b"
             ],
             [
              0.6666666666666666,
              "#ed7953"
             ],
             [
              0.7777777777777778,
              "#fb9f3a"
             ],
             [
              0.8888888888888888,
              "#fdca26"
             ],
             [
              1,
              "#f0f921"
             ]
            ],
            "type": "heatmap"
           }
          ],
          "heatmapgl": [
           {
            "colorbar": {
             "outlinewidth": 0,
             "ticks": ""
            },
            "colorscale": [
             [
              0,
              "#0d0887"
             ],
             [
              0.1111111111111111,
              "#46039f"
             ],
             [
              0.2222222222222222,
              "#7201a8"
             ],
             [
              0.3333333333333333,
              "#9c179e"
             ],
             [
              0.4444444444444444,
              "#bd3786"
             ],
             [
              0.5555555555555556,
              "#d8576b"
             ],
             [
              0.6666666666666666,
              "#ed7953"
             ],
             [
              0.7777777777777778,
              "#fb9f3a"
             ],
             [
              0.8888888888888888,
              "#fdca26"
             ],
             [
              1,
              "#f0f921"
             ]
            ],
            "type": "heatmapgl"
           }
          ],
          "histogram": [
           {
            "marker": {
             "colorbar": {
              "outlinewidth": 0,
              "ticks": ""
             }
            },
            "type": "histogram"
           }
          ],
          "histogram2d": [
           {
            "colorbar": {
             "outlinewidth": 0,
             "ticks": ""
            },
            "colorscale": [
             [
              0,
              "#0d0887"
             ],
             [
              0.1111111111111111,
              "#46039f"
             ],
             [
              0.2222222222222222,
              "#7201a8"
             ],
             [
              0.3333333333333333,
              "#9c179e"
             ],
             [
              0.4444444444444444,
              "#bd3786"
             ],
             [
              0.5555555555555556,
              "#d8576b"
             ],
             [
              0.6666666666666666,
              "#ed7953"
             ],
             [
              0.7777777777777778,
              "#fb9f3a"
             ],
             [
              0.8888888888888888,
              "#fdca26"
             ],
             [
              1,
              "#f0f921"
             ]
            ],
            "type": "histogram2d"
           }
          ],
          "histogram2dcontour": [
           {
            "colorbar": {
             "outlinewidth": 0,
             "ticks": ""
            },
            "colorscale": [
             [
              0,
              "#0d0887"
             ],
             [
              0.1111111111111111,
              "#46039f"
             ],
             [
              0.2222222222222222,
              "#7201a8"
             ],
             [
              0.3333333333333333,
              "#9c179e"
             ],
             [
              0.4444444444444444,
              "#bd3786"
             ],
             [
              0.5555555555555556,
              "#d8576b"
             ],
             [
              0.6666666666666666,
              "#ed7953"
             ],
             [
              0.7777777777777778,
              "#fb9f3a"
             ],
             [
              0.8888888888888888,
              "#fdca26"
             ],
             [
              1,
              "#f0f921"
             ]
            ],
            "type": "histogram2dcontour"
           }
          ],
          "mesh3d": [
           {
            "colorbar": {
             "outlinewidth": 0,
             "ticks": ""
            },
            "type": "mesh3d"
           }
          ],
          "parcoords": [
           {
            "line": {
             "colorbar": {
              "outlinewidth": 0,
              "ticks": ""
             }
            },
            "type": "parcoords"
           }
          ],
          "pie": [
           {
            "automargin": true,
            "type": "pie"
           }
          ],
          "scatter": [
           {
            "marker": {
             "colorbar": {
              "outlinewidth": 0,
              "ticks": ""
             }
            },
            "type": "scatter"
           }
          ],
          "scatter3d": [
           {
            "line": {
             "colorbar": {
              "outlinewidth": 0,
              "ticks": ""
             }
            },
            "marker": {
             "colorbar": {
              "outlinewidth": 0,
              "ticks": ""
             }
            },
            "type": "scatter3d"
           }
          ],
          "scattercarpet": [
           {
            "marker": {
             "colorbar": {
              "outlinewidth": 0,
              "ticks": ""
             }
            },
            "type": "scattercarpet"
           }
          ],
          "scattergeo": [
           {
            "marker": {
             "colorbar": {
              "outlinewidth": 0,
              "ticks": ""
             }
            },
            "type": "scattergeo"
           }
          ],
          "scattergl": [
           {
            "marker": {
             "colorbar": {
              "outlinewidth": 0,
              "ticks": ""
             }
            },
            "type": "scattergl"
           }
          ],
          "scattermapbox": [
           {
            "marker": {
             "colorbar": {
              "outlinewidth": 0,
              "ticks": ""
             }
            },
            "type": "scattermapbox"
           }
          ],
          "scatterpolar": [
           {
            "marker": {
             "colorbar": {
              "outlinewidth": 0,
              "ticks": ""
             }
            },
            "type": "scatterpolar"
           }
          ],
          "scatterpolargl": [
           {
            "marker": {
             "colorbar": {
              "outlinewidth": 0,
              "ticks": ""
             }
            },
            "type": "scatterpolargl"
           }
          ],
          "scatterternary": [
           {
            "marker": {
             "colorbar": {
              "outlinewidth": 0,
              "ticks": ""
             }
            },
            "type": "scatterternary"
           }
          ],
          "surface": [
           {
            "colorbar": {
             "outlinewidth": 0,
             "ticks": ""
            },
            "colorscale": [
             [
              0,
              "#0d0887"
             ],
             [
              0.1111111111111111,
              "#46039f"
             ],
             [
              0.2222222222222222,
              "#7201a8"
             ],
             [
              0.3333333333333333,
              "#9c179e"
             ],
             [
              0.4444444444444444,
              "#bd3786"
             ],
             [
              0.5555555555555556,
              "#d8576b"
             ],
             [
              0.6666666666666666,
              "#ed7953"
             ],
             [
              0.7777777777777778,
              "#fb9f3a"
             ],
             [
              0.8888888888888888,
              "#fdca26"
             ],
             [
              1,
              "#f0f921"
             ]
            ],
            "type": "surface"
           }
          ],
          "table": [
           {
            "cells": {
             "fill": {
              "color": "#EBF0F8"
             },
             "line": {
              "color": "white"
             }
            },
            "header": {
             "fill": {
              "color": "#C8D4E3"
             },
             "line": {
              "color": "white"
             }
            },
            "type": "table"
           }
          ]
         },
         "layout": {
          "annotationdefaults": {
           "arrowcolor": "#2a3f5f",
           "arrowhead": 0,
           "arrowwidth": 1
          },
          "autotypenumbers": "strict",
          "coloraxis": {
           "colorbar": {
            "outlinewidth": 0,
            "ticks": ""
           }
          },
          "colorscale": {
           "diverging": [
            [
             0,
             "#8e0152"
            ],
            [
             0.1,
             "#c51b7d"
            ],
            [
             0.2,
             "#de77ae"
            ],
            [
             0.3,
             "#f1b6da"
            ],
            [
             0.4,
             "#fde0ef"
            ],
            [
             0.5,
             "#f7f7f7"
            ],
            [
             0.6,
             "#e6f5d0"
            ],
            [
             0.7,
             "#b8e186"
            ],
            [
             0.8,
             "#7fbc41"
            ],
            [
             0.9,
             "#4d9221"
            ],
            [
             1,
             "#276419"
            ]
           ],
           "sequential": [
            [
             0,
             "#0d0887"
            ],
            [
             0.1111111111111111,
             "#46039f"
            ],
            [
             0.2222222222222222,
             "#7201a8"
            ],
            [
             0.3333333333333333,
             "#9c179e"
            ],
            [
             0.4444444444444444,
             "#bd3786"
            ],
            [
             0.5555555555555556,
             "#d8576b"
            ],
            [
             0.6666666666666666,
             "#ed7953"
            ],
            [
             0.7777777777777778,
             "#fb9f3a"
            ],
            [
             0.8888888888888888,
             "#fdca26"
            ],
            [
             1,
             "#f0f921"
            ]
           ],
           "sequentialminus": [
            [
             0,
             "#0d0887"
            ],
            [
             0.1111111111111111,
             "#46039f"
            ],
            [
             0.2222222222222222,
             "#7201a8"
            ],
            [
             0.3333333333333333,
             "#9c179e"
            ],
            [
             0.4444444444444444,
             "#bd3786"
            ],
            [
             0.5555555555555556,
             "#d8576b"
            ],
            [
             0.6666666666666666,
             "#ed7953"
            ],
            [
             0.7777777777777778,
             "#fb9f3a"
            ],
            [
             0.8888888888888888,
             "#fdca26"
            ],
            [
             1,
             "#f0f921"
            ]
           ]
          },
          "colorway": [
           "#636efa",
           "#EF553B",
           "#00cc96",
           "#ab63fa",
           "#FFA15A",
           "#19d3f3",
           "#FF6692",
           "#B6E880",
           "#FF97FF",
           "#FECB52"
          ],
          "font": {
           "color": "#2a3f5f"
          },
          "geo": {
           "bgcolor": "white",
           "lakecolor": "white",
           "landcolor": "white",
           "showlakes": true,
           "showland": true,
           "subunitcolor": "#C8D4E3"
          },
          "hoverlabel": {
           "align": "left"
          },
          "hovermode": "closest",
          "mapbox": {
           "style": "light"
          },
          "paper_bgcolor": "white",
          "plot_bgcolor": "white",
          "polar": {
           "angularaxis": {
            "gridcolor": "#EBF0F8",
            "linecolor": "#EBF0F8",
            "ticks": ""
           },
           "bgcolor": "white",
           "radialaxis": {
            "gridcolor": "#EBF0F8",
            "linecolor": "#EBF0F8",
            "ticks": ""
           }
          },
          "scene": {
           "xaxis": {
            "backgroundcolor": "white",
            "gridcolor": "#DFE8F3",
            "gridwidth": 2,
            "linecolor": "#EBF0F8",
            "showbackground": true,
            "ticks": "",
            "zerolinecolor": "#EBF0F8"
           },
           "yaxis": {
            "backgroundcolor": "white",
            "gridcolor": "#DFE8F3",
            "gridwidth": 2,
            "linecolor": "#EBF0F8",
            "showbackground": true,
            "ticks": "",
            "zerolinecolor": "#EBF0F8"
           },
           "zaxis": {
            "backgroundcolor": "white",
            "gridcolor": "#DFE8F3",
            "gridwidth": 2,
            "linecolor": "#EBF0F8",
            "showbackground": true,
            "ticks": "",
            "zerolinecolor": "#EBF0F8"
           }
          },
          "shapedefaults": {
           "line": {
            "color": "#2a3f5f"
           }
          },
          "ternary": {
           "aaxis": {
            "gridcolor": "#DFE8F3",
            "linecolor": "#A2B1C6",
            "ticks": ""
           },
           "baxis": {
            "gridcolor": "#DFE8F3",
            "linecolor": "#A2B1C6",
            "ticks": ""
           },
           "bgcolor": "white",
           "caxis": {
            "gridcolor": "#DFE8F3",
            "linecolor": "#A2B1C6",
            "ticks": ""
           }
          },
          "title": {
           "x": 0.05
          },
          "xaxis": {
           "automargin": true,
           "gridcolor": "#EBF0F8",
           "linecolor": "#EBF0F8",
           "ticks": "",
           "title": {
            "standoff": 15
           },
           "zerolinecolor": "#EBF0F8",
           "zerolinewidth": 2
          },
          "yaxis": {
           "automargin": true,
           "gridcolor": "#EBF0F8",
           "linecolor": "#EBF0F8",
           "ticks": "",
           "title": {
            "standoff": 15
           },
           "zerolinecolor": "#EBF0F8",
           "zerolinewidth": 2
          }
         }
        },
        "title": {
         "font": {
          "size": 27
         },
         "text": "Distribución en porcentaje de párrafos con PCL"
        },
        "xaxis": {
         "anchor": "y2",
         "domain": [
          0,
          0.5
         ],
         "zeroline": false
        },
        "xaxis2": {
         "domain": [
          0.6,
          1
         ]
        },
        "yaxis": {
         "anchor": "free",
         "domain": [
          0,
          1
         ],
         "position": 0
        },
        "yaxis2": {
         "anchor": "x2"
        }
       }
      }
     },
     "metadata": {},
     "output_type": "display_data"
    }
   ],
   "source": [
    "fig = ff.create_distplot(\n",
    "    [text_df[text_df[\"label\"] == 0][\"sentiment\"], text_df[text_df[\"label\"] == 1][\"sentiment\"]],\n",
    "    group_labels=[\"No PCL\", \"PCL\"], bin_size=0.2, show_rug=False,\n",
    "    show_hist=False, colors=[LIGHT_BLUE_COLOR, LIGHT_RED_COLOR]\n",
    ")\n",
    "\n",
    "\n",
    "trace2 = go.Bar(\n",
    "    x = list(sentiment_pcl_dict.keys()), \n",
    "    y = list(sentiment_pcl_dict.values()),\n",
    "    marker_color=LIGHT_RED_COLOR, name=\"PCL\",\n",
    "    text = np.round(np.array(list(sentiment_pcl_dict.values())) / np.sum(np.array(list(sentiment_pcl_dict.values()))), 3),\n",
    "    textfont_color=\"white\", textposition='inside',\n",
    "    textfont_size=20,\n",
    "    xaxis='x2', yaxis='y2'\n",
    ")\n",
    "\n",
    "fig.add_traces([trace2])\n",
    "\n",
    "fig['layout']['xaxis2'] = {}\n",
    "fig['layout']['yaxis2'] = {}\n",
    "\n",
    "fig.layout.xaxis.update({'domain': [0, .5]})\n",
    "fig.layout.xaxis2.update({'domain': [0.6, 1.]})\n",
    "fig.layout.yaxis2.update({'anchor': 'x2'})\n",
    "\n",
    "#fig.layout.margin.update({'t':50, 'b':100})\n",
    "fig.update_layout(\n",
    "    template=TEMPLATE, title=dict(text=\"Distribución en porcentaje de párrafos con PCL\", font_size=27),\n",
    "    showlegend=False\n",
    ")\n",
    "fig.show()"
   ]
  },
  {
   "cell_type": "code",
   "execution_count": null,
   "id": "1b408354",
   "metadata": {},
   "outputs": [],
   "source": []
  }
 ],
 "metadata": {
  "kernelspec": {
   "display_name": "Python 3",
   "language": "python",
   "name": "python3"
  },
  "language_info": {
   "codemirror_mode": {
    "name": "ipython",
    "version": 3
   },
   "file_extension": ".py",
   "mimetype": "text/x-python",
   "name": "python",
   "nbconvert_exporter": "python",
   "pygments_lexer": "ipython3",
   "version": "3.9.7"
  }
 },
 "nbformat": 4,
 "nbformat_minor": 5
}

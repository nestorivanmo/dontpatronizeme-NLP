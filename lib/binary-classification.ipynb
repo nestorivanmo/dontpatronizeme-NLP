{
 "cells": [
  {
   "cell_type": "markdown",
   "metadata": {},
   "source": [
    "\n",
    "<h3><center>Identificación de textos con lenguaje condescendiente</center></h3>\n",
    "\n",
    "<h5><center>Martínez Ostoa Néstor I.<br> <i>Procesamiento de Lenguaje Natural</i> <br> \n",
    "    Facultad de Ingeniería <br>\n",
    "    U.N.A.M.\n",
    "</center></h5>\n",
    "\n",
    "---\n",
    "\n",
    "**Objetivo**: dado un párrafo, el sistema de PLN debe poder predecir si el párrafo contiene, o no, **lenguaje condescendiente**\n",
    "\n",
    "**Corpus elegido:** Don't Patronize Me! corpus ([link](https://github.com/Perez-AlmendrosC/dontpatronizeme))\n",
    "\n",
    "- Este corpus contiene $10,468$ párrafos extraídos de artículos de noticias con el objetivo principal de realizar un análisis para detectar lenguaje condescendiente (*patronizing and condescending language PCL*) en grupos socialmente vulnerables (refugiados, familias pobres, personas sin casa, etc)\n",
    "- Cada uno de estos párrafos están anotados con etiquetas que indican el tipo de lenguaje PCL que se encuentra en él (si es que está presente). Los párrafos se extrajeron del corpus [News on Web (NOW)](https://www.english-corpora.org/now/)\n",
    "- [Link al paper principal](https://aclanthology.org/2020.coling-main.518/)\n",
    "\n",
    "\n",
    "**Estructura del corpus (original - antes del proceso de limpieza)**\n",
    "\n",
    "- De manera general, el corpus contiene párrafos anotados con una etiqueta con valores entre $0$ y $4$ que indican el nivel de lenguaje PCL presente\n",
    "- Cada instancia del corpus está conformada de la siguiente manera:\n",
    "    - ```<doc-id>```: id del documento dentro del corpus NOW\n",
    "    - ```<keyword>```: término de búsqueda utilizado para extraer textos relacionados con una comunidad en específico\n",
    "    - ```<country-code>```: código de dos letras ISO Alpha-2\n",
    "    - ```<paragraph>```: párrafo perteneciente al ```<keyword>```\n",
    "    - ```<label>```: entero que indica el nivel de PCL presente\n",
    "    \n",
    "**Estructura del corpus actual (después del proceso de limpieza)**\n",
    "\n",
    "- ```paragraph```: párrafo limpio sin stop words, signos de puntuación"
   ]
  },
  {
   "cell_type": "markdown",
   "metadata": {},
   "source": [
    "### Bibliotecas requeridas"
   ]
  },
  {
   "cell_type": "code",
   "execution_count": 133,
   "metadata": {},
   "outputs": [],
   "source": [
    "import numpy as np\n",
    "import pandas as pd\n",
    "\n",
    "import plotly.graph_objects as go\n",
    "from plotly.subplots import make_subplots\n",
    "import matplotlib.pyplot as plt\n",
    "import graphviz\n",
    "\n",
    "from textblob import TextBlob\n",
    "from imblearn.over_sampling import SMOTE\n",
    "import xgboost as xgb\n",
    "\n",
    "from utils import plot_pcl_vs_no_pcl\n",
    "import itertools\n",
    "\n",
    "from sklearn.model_selection import train_test_split\n",
    "from sklearn.metrics import confusion_matrix, ConfusionMatrixDisplay, classification_report, precision_score, recall_score, f1_score, precision_recall_fscore_support"
   ]
  },
  {
   "cell_type": "markdown",
   "metadata": {},
   "source": [
    "### Datos\n",
    "\n",
    "1. ```paragraph_df```: ```DataFrame``` de pandas con el párrafo y etiqueta (0,1) que indica si contiene o no lenguaje condescendiente\n",
    "2. ```embeddings_dict```: diccionario de Python que contiene el _word embedding_ para cada palabra del corpus. Estos embeddings fueron previamente entrenados en el notebook **Lab-2-Word2Vec.ipynb**"
   ]
  },
  {
   "cell_type": "code",
   "execution_count": 60,
   "metadata": {},
   "outputs": [],
   "source": [
    "CLEAN_DATA_PATH = \"../data/dontpatronizeme_pcl_clean.tsv\"\n",
    "DATA_PATH = '../data/dontpatronizeme_v1.4/dontpatronizeme_pcl.tsv'\n",
    "EMBEDDINGS_PATH = \"../word-embeddings/embeddings.csv\""
   ]
  },
  {
   "cell_type": "code",
   "execution_count": 61,
   "metadata": {},
   "outputs": [
    {
     "name": "stdout",
     "output_type": "stream",
     "text": [
      "Number of paragraphs without PCL: 9475\n",
      "Number of paragraphs with PCL   : 993\n"
     ]
    }
   ],
   "source": [
    "binary_df = pd.read_csv(\n",
    "    DATA_PATH,\n",
    "    skiprows=4,\n",
    "    sep='\\t',\n",
    "    names=[\"par_id\", \"art_id\", \"keyword\", \"country_code\",\"text\",\"label\"],\n",
    ")\n",
    "binary_df = binary_df.dropna()\n",
    "del binary_df['art_id']\n",
    "binary_df[\"label\"] = binary_df[\"label\"].transform(lambda x: 0 if x <= 1 else 1)\n",
    "pcl_labels = binary_df['label'].value_counts()\n",
    "print(f\"Number of paragraphs without PCL: {pcl_labels[0]}\")\n",
    "print(f\"Number of paragraphs with PCL   : {pcl_labels[1]}\")"
   ]
  },
  {
   "cell_type": "code",
   "execution_count": 62,
   "metadata": {},
   "outputs": [
    {
     "name": "stdout",
     "output_type": "stream",
     "text": [
      "Number of paragraphs: 10468\n"
     ]
    },
    {
     "data": {
      "text/html": [
       "<div>\n",
       "<style scoped>\n",
       "    .dataframe tbody tr th:only-of-type {\n",
       "        vertical-align: middle;\n",
       "    }\n",
       "\n",
       "    .dataframe tbody tr th {\n",
       "        vertical-align: top;\n",
       "    }\n",
       "\n",
       "    .dataframe thead th {\n",
       "        text-align: right;\n",
       "    }\n",
       "</style>\n",
       "<table border=\"1\" class=\"dataframe\">\n",
       "  <thead>\n",
       "    <tr style=\"text-align: right;\">\n",
       "      <th></th>\n",
       "      <th>paragraph</th>\n",
       "      <th>label</th>\n",
       "    </tr>\n",
       "  </thead>\n",
       "  <tbody>\n",
       "    <tr>\n",
       "      <th>0</th>\n",
       "      <td>living times absolute insanity pretty sure peo...</td>\n",
       "      <td>0.0</td>\n",
       "    </tr>\n",
       "    <tr>\n",
       "      <th>1</th>\n",
       "      <td>libya today countless number ghanaian nigerian...</td>\n",
       "      <td>0.0</td>\n",
       "    </tr>\n",
       "    <tr>\n",
       "      <th>2</th>\n",
       "      <td>white house press secretary sean spicer said f...</td>\n",
       "      <td>0.0</td>\n",
       "    </tr>\n",
       "    <tr>\n",
       "      <th>3</th>\n",
       "      <td>council customers signs would displayed two sp...</td>\n",
       "      <td>0.0</td>\n",
       "    </tr>\n",
       "    <tr>\n",
       "      <th>4</th>\n",
       "      <td>like received migrants fleeing el salvador gua...</td>\n",
       "      <td>0.0</td>\n",
       "    </tr>\n",
       "  </tbody>\n",
       "</table>\n",
       "</div>"
      ],
      "text/plain": [
       "                                           paragraph  label\n",
       "0  living times absolute insanity pretty sure peo...    0.0\n",
       "1  libya today countless number ghanaian nigerian...    0.0\n",
       "2  white house press secretary sean spicer said f...    0.0\n",
       "3  council customers signs would displayed two sp...    0.0\n",
       "4  like received migrants fleeing el salvador gua...    0.0"
      ]
     },
     "execution_count": 62,
     "metadata": {},
     "output_type": "execute_result"
    }
   ],
   "source": [
    "paragraph_df = pd.read_csv(CLEAN_DATA_PATH)\n",
    "paragraph_df['label'] = binary_df['label']\n",
    "print(f\"Number of paragraphs: {paragraph_df.shape[0]}\")\n",
    "paragraph_df.head()"
   ]
  },
  {
   "cell_type": "code",
   "execution_count": 63,
   "metadata": {},
   "outputs": [
    {
     "name": "stdout",
     "output_type": "stream",
     "text": [
      "(12858, 2)\n"
     ]
    },
    {
     "data": {
      "text/html": [
       "<div>\n",
       "<style scoped>\n",
       "    .dataframe tbody tr th:only-of-type {\n",
       "        vertical-align: middle;\n",
       "    }\n",
       "\n",
       "    .dataframe tbody tr th {\n",
       "        vertical-align: top;\n",
       "    }\n",
       "\n",
       "    .dataframe thead th {\n",
       "        text-align: right;\n",
       "    }\n",
       "</style>\n",
       "<table border=\"1\" class=\"dataframe\">\n",
       "  <thead>\n",
       "    <tr style=\"text-align: right;\">\n",
       "      <th></th>\n",
       "      <th>word</th>\n",
       "      <th>embedding</th>\n",
       "    </tr>\n",
       "  </thead>\n",
       "  <tbody>\n",
       "    <tr>\n",
       "      <th>0</th>\n",
       "      <td>aap</td>\n",
       "      <td>[0.72442698 0.8359355  0.70019351 0.55096675 0...</td>\n",
       "    </tr>\n",
       "    <tr>\n",
       "      <th>1</th>\n",
       "      <td>ababa</td>\n",
       "      <td>[0.77453578 0.76504    0.76891639 0.84648702 0...</td>\n",
       "    </tr>\n",
       "    <tr>\n",
       "      <th>2</th>\n",
       "      <td>abadies</td>\n",
       "      <td>[0.78254105 0.31335667 0.52573309 0.37820537 0...</td>\n",
       "    </tr>\n",
       "    <tr>\n",
       "      <th>3</th>\n",
       "      <td>abandon</td>\n",
       "      <td>[0.487395   0.49372098 0.51481443 0.94445999 0...</td>\n",
       "    </tr>\n",
       "    <tr>\n",
       "      <th>4</th>\n",
       "      <td>abandoned</td>\n",
       "      <td>[0.46609545 0.47762344 0.67915718 0.46457933 0...</td>\n",
       "    </tr>\n",
       "  </tbody>\n",
       "</table>\n",
       "</div>"
      ],
      "text/plain": [
       "        word                                          embedding\n",
       "0        aap  [0.72442698 0.8359355  0.70019351 0.55096675 0...\n",
       "1      ababa  [0.77453578 0.76504    0.76891639 0.84648702 0...\n",
       "2    abadies  [0.78254105 0.31335667 0.52573309 0.37820537 0...\n",
       "3    abandon  [0.487395   0.49372098 0.51481443 0.94445999 0...\n",
       "4  abandoned  [0.46609545 0.47762344 0.67915718 0.46457933 0..."
      ]
     },
     "execution_count": 63,
     "metadata": {},
     "output_type": "execute_result"
    }
   ],
   "source": [
    "embeddings_df = pd.read_csv(EMBEDDINGS_PATH)\n",
    "print(f\"{embeddings_df.shape}\")\n",
    "embeddings_df.head()"
   ]
  },
  {
   "cell_type": "code",
   "execution_count": 64,
   "metadata": {},
   "outputs": [],
   "source": [
    "def build_embeddings_dict(embeddings_df):\n",
    "    \"\"\"\n",
    "    Parameters:\n",
    "    -----------\n",
    "    embeddings_df: Pandas' DataFrame\n",
    "        - contains two columns: word and word embedding\n",
    "\n",
    "    Returns:\n",
    "    --------\n",
    "    embeddings_dict: <dict>\n",
    "        - key: word, value: Numpy's array with the word embedding values\n",
    "    \"\"\"\n",
    "    embeddings_dict = dict()\n",
    "    for _, row in embeddings_df.iterrows():\n",
    "        word = row['word']\n",
    "        word_embedding = []\n",
    "        embedding = row['embedding'].replace('[', '').replace(']', '').replace('\\n', ' ')\n",
    "        for val in embedding.split(' '):\n",
    "            if val != '':\n",
    "                word_embedding.append(float(val))\n",
    "        if word not in embeddings_dict:\n",
    "            embeddings_dict[word] = np.array(word_embedding)\n",
    "    return embeddings_dict\n",
    "    \n",
    "embeddings_dict = build_embeddings_dict(embeddings_df)    "
   ]
  },
  {
   "cell_type": "code",
   "execution_count": 65,
   "metadata": {},
   "outputs": [
    {
     "name": "stdout",
     "output_type": "stream",
     "text": [
      "[0.46609545 0.47762344 0.67915718 0.46457933 0.4675923  0.42500885\n",
      " 0.37786037 0.49812489 0.46607504 0.59231781]\n",
      "(128,)\n"
     ]
    }
   ],
   "source": [
    "w_embed = embeddings_dict['abandoned']\n",
    "print(w_embed[:10])\n",
    "print(w_embed.shape)"
   ]
  },
  {
   "cell_type": "markdown",
   "metadata": {},
   "source": [
    "### Corpus de entrenamiento\n",
    "\n",
    "- El corpus de entrenamiento tendrá las siguientes características:\n",
    "  - **Párrafo**\n",
    "  - **Word embedding para todo el párrafo**\n",
    "    - Para construir este _word embedding_ tomé el _word embedding_ de cada palabra del párrafo y obtuve el promedio de todas las palabras del párrafo\n",
    "  - **Polaridad**\n",
    "    - Número real entre $0$ y $1$ que indica qué tan positivo ($1$) o negativo ($0$) es el párrafo\n",
    "  - **Subjetividad**\n",
    "    - Número real entre $0$ y $1$ que indica el nivel de subjetividad en el párrafo"
   ]
  },
  {
   "cell_type": "code",
   "execution_count": 66,
   "metadata": {},
   "outputs": [],
   "source": [
    "def build_doc_vec(document, word_embeddings_dict, unknown_word_embedding):\n",
    "    \"\"\"\n",
    "    Parameters:\n",
    "    -----------\n",
    "    document: <str>\n",
    "        - document that may or may not contain PCL language\n",
    "    \n",
    "    word_embeddings_dict: <dict>\n",
    "        - key: word, value: Numpy's ndarray with the word embedding\n",
    "\n",
    "    unknown_word_embedding: <dict>\n",
    "        - key: word, value: Numpy's ndarray with word embedding for unknown word\n",
    "\n",
    "    Returns:\n",
    "    --------\n",
    "    doc_vec: <list>\n",
    "        - Represents the embedding average of all the words within the document\n",
    "    \"\"\"\n",
    "\n",
    "    # doc_vec construction\n",
    "    doc_vec = []\n",
    "    for word in document.split(' '):\n",
    "        if word in word_embeddings_dict:\n",
    "            doc_vec.append(word_embeddings_dict[word])\n",
    "        # else:\n",
    "        #     doc_vec.append(unknown_word_embedding)\n",
    "    doc_vec = np.array(doc_vec)\n",
    "    return np.mean(doc_vec, axis=0)\n",
    "\n",
    "\n",
    "# word embedding for unknown words\n",
    "unknown_word_embedding = []\n",
    "for key in embeddings_dict.keys():\n",
    "    unknown_word_embedding.append(embeddings_dict[key])\n",
    "unknown_word_embedding = np.array(unknown_word_embedding)\n",
    "unknown_word_embedding = np.mean(unknown_word_embedding, axis=0)"
   ]
  },
  {
   "cell_type": "code",
   "execution_count": 67,
   "metadata": {},
   "outputs": [
    {
     "data": {
      "text/html": [
       "<div>\n",
       "<style scoped>\n",
       "    .dataframe tbody tr th:only-of-type {\n",
       "        vertical-align: middle;\n",
       "    }\n",
       "\n",
       "    .dataframe tbody tr th {\n",
       "        vertical-align: top;\n",
       "    }\n",
       "\n",
       "    .dataframe thead th {\n",
       "        text-align: right;\n",
       "    }\n",
       "</style>\n",
       "<table border=\"1\" class=\"dataframe\">\n",
       "  <thead>\n",
       "    <tr style=\"text-align: right;\">\n",
       "      <th></th>\n",
       "      <th>paragraph</th>\n",
       "      <th>label</th>\n",
       "      <th>doc_embedding</th>\n",
       "    </tr>\n",
       "  </thead>\n",
       "  <tbody>\n",
       "    <tr>\n",
       "      <th>0</th>\n",
       "      <td>living times absolute insanity pretty sure peo...</td>\n",
       "      <td>0.0</td>\n",
       "      <td>[0.4869072185416668, 0.48911817708333327, 0.49...</td>\n",
       "    </tr>\n",
       "    <tr>\n",
       "      <th>1</th>\n",
       "      <td>libya today countless number ghanaian nigerian...</td>\n",
       "      <td>0.0</td>\n",
       "      <td>[0.4608231631578948, 0.4880456889473685, 0.483...</td>\n",
       "    </tr>\n",
       "    <tr>\n",
       "      <th>2</th>\n",
       "      <td>white house press secretary sean spicer said f...</td>\n",
       "      <td>0.0</td>\n",
       "      <td>[0.47060307874999996, 0.481402148125, 0.447648...</td>\n",
       "    </tr>\n",
       "    <tr>\n",
       "      <th>3</th>\n",
       "      <td>council customers signs would displayed two sp...</td>\n",
       "      <td>0.0</td>\n",
       "      <td>[0.5236469664705882, 0.452554425882353, 0.6377...</td>\n",
       "    </tr>\n",
       "    <tr>\n",
       "      <th>4</th>\n",
       "      <td>like received migrants fleeing el salvador gua...</td>\n",
       "      <td>0.0</td>\n",
       "      <td>[0.531526278695652, 0.48318480347826087, 0.468...</td>\n",
       "    </tr>\n",
       "  </tbody>\n",
       "</table>\n",
       "</div>"
      ],
      "text/plain": [
       "                                           paragraph  label  \\\n",
       "0  living times absolute insanity pretty sure peo...    0.0   \n",
       "1  libya today countless number ghanaian nigerian...    0.0   \n",
       "2  white house press secretary sean spicer said f...    0.0   \n",
       "3  council customers signs would displayed two sp...    0.0   \n",
       "4  like received migrants fleeing el salvador gua...    0.0   \n",
       "\n",
       "                                       doc_embedding  \n",
       "0  [0.4869072185416668, 0.48911817708333327, 0.49...  \n",
       "1  [0.4608231631578948, 0.4880456889473685, 0.483...  \n",
       "2  [0.47060307874999996, 0.481402148125, 0.447648...  \n",
       "3  [0.5236469664705882, 0.452554425882353, 0.6377...  \n",
       "4  [0.531526278695652, 0.48318480347826087, 0.468...  "
      ]
     },
     "execution_count": 67,
     "metadata": {},
     "output_type": "execute_result"
    }
   ],
   "source": [
    "# Doc embeddings\n",
    "paragraph_df['doc_embedding'] = paragraph_df['paragraph'].apply(\n",
    "    lambda x: build_doc_vec(x, embeddings_dict, unknown_word_embedding)\n",
    ")\n",
    "paragraph_df.head()"
   ]
  },
  {
   "cell_type": "code",
   "execution_count": 68,
   "metadata": {},
   "outputs": [
    {
     "data": {
      "text/html": [
       "<div>\n",
       "<style scoped>\n",
       "    .dataframe tbody tr th:only-of-type {\n",
       "        vertical-align: middle;\n",
       "    }\n",
       "\n",
       "    .dataframe tbody tr th {\n",
       "        vertical-align: top;\n",
       "    }\n",
       "\n",
       "    .dataframe thead th {\n",
       "        text-align: right;\n",
       "    }\n",
       "</style>\n",
       "<table border=\"1\" class=\"dataframe\">\n",
       "  <thead>\n",
       "    <tr style=\"text-align: right;\">\n",
       "      <th></th>\n",
       "      <th>paragraph</th>\n",
       "      <th>doc_embedding</th>\n",
       "      <th>sentiment</th>\n",
       "      <th>subjectivity</th>\n",
       "      <th>label</th>\n",
       "    </tr>\n",
       "  </thead>\n",
       "  <tbody>\n",
       "    <tr>\n",
       "      <th>0</th>\n",
       "      <td>living times absolute insanity pretty sure peo...</td>\n",
       "      <td>[0.4869072185416668, 0.48911817708333327, 0.49...</td>\n",
       "      <td>0.067361</td>\n",
       "      <td>0.467824</td>\n",
       "      <td>0.0</td>\n",
       "    </tr>\n",
       "    <tr>\n",
       "      <th>1</th>\n",
       "      <td>libya today countless number ghanaian nigerian...</td>\n",
       "      <td>[0.4608231631578948, 0.4880456889473685, 0.483...</td>\n",
       "      <td>0.000000</td>\n",
       "      <td>0.750000</td>\n",
       "      <td>0.0</td>\n",
       "    </tr>\n",
       "    <tr>\n",
       "      <th>2</th>\n",
       "      <td>white house press secretary sean spicer said f...</td>\n",
       "      <td>[0.47060307874999996, 0.481402148125, 0.447648...</td>\n",
       "      <td>-0.250000</td>\n",
       "      <td>0.250000</td>\n",
       "      <td>0.0</td>\n",
       "    </tr>\n",
       "    <tr>\n",
       "      <th>3</th>\n",
       "      <td>council customers signs would displayed two sp...</td>\n",
       "      <td>[0.5236469664705882, 0.452554425882353, 0.6377...</td>\n",
       "      <td>-0.200000</td>\n",
       "      <td>0.300000</td>\n",
       "      <td>0.0</td>\n",
       "    </tr>\n",
       "    <tr>\n",
       "      <th>4</th>\n",
       "      <td>like received migrants fleeing el salvador gua...</td>\n",
       "      <td>[0.531526278695652, 0.48318480347826087, 0.468...</td>\n",
       "      <td>0.200000</td>\n",
       "      <td>0.200000</td>\n",
       "      <td>0.0</td>\n",
       "    </tr>\n",
       "  </tbody>\n",
       "</table>\n",
       "</div>"
      ],
      "text/plain": [
       "                                           paragraph  \\\n",
       "0  living times absolute insanity pretty sure peo...   \n",
       "1  libya today countless number ghanaian nigerian...   \n",
       "2  white house press secretary sean spicer said f...   \n",
       "3  council customers signs would displayed two sp...   \n",
       "4  like received migrants fleeing el salvador gua...   \n",
       "\n",
       "                                       doc_embedding  sentiment  subjectivity  \\\n",
       "0  [0.4869072185416668, 0.48911817708333327, 0.49...   0.067361      0.467824   \n",
       "1  [0.4608231631578948, 0.4880456889473685, 0.483...   0.000000      0.750000   \n",
       "2  [0.47060307874999996, 0.481402148125, 0.447648...  -0.250000      0.250000   \n",
       "3  [0.5236469664705882, 0.452554425882353, 0.6377...  -0.200000      0.300000   \n",
       "4  [0.531526278695652, 0.48318480347826087, 0.468...   0.200000      0.200000   \n",
       "\n",
       "   label  \n",
       "0    0.0  \n",
       "1    0.0  \n",
       "2    0.0  \n",
       "3    0.0  \n",
       "4    0.0  "
      ]
     },
     "execution_count": 68,
     "metadata": {},
     "output_type": "execute_result"
    }
   ],
   "source": [
    "# Polaridad y subjetividad\n",
    "paragraph_df[\"sentiment\"] = paragraph_df[\"paragraph\"].apply(\n",
    "    lambda x: TextBlob(x).sentiment.polarity\n",
    ")\n",
    "paragraph_df[\"subjectivity\"] = paragraph_df[\"paragraph\"].apply(\n",
    "    lambda x: TextBlob(x).sentiment.subjectivity\n",
    ")\n",
    "paragraph_df = paragraph_df[['paragraph', 'doc_embedding', 'sentiment', 'subjectivity', 'label']]\n",
    "paragraph_df.head()"
   ]
  },
  {
   "cell_type": "code",
   "execution_count": 89,
   "metadata": {},
   "outputs": [
    {
     "data": {
      "text/html": [
       "<div>\n",
       "<style scoped>\n",
       "    .dataframe tbody tr th:only-of-type {\n",
       "        vertical-align: middle;\n",
       "    }\n",
       "\n",
       "    .dataframe tbody tr th {\n",
       "        vertical-align: top;\n",
       "    }\n",
       "\n",
       "    .dataframe thead th {\n",
       "        text-align: right;\n",
       "    }\n",
       "</style>\n",
       "<table border=\"1\" class=\"dataframe\">\n",
       "  <thead>\n",
       "    <tr style=\"text-align: right;\">\n",
       "      <th></th>\n",
       "      <th>sentiment</th>\n",
       "      <th>subjectivity</th>\n",
       "      <th>0</th>\n",
       "      <th>1</th>\n",
       "      <th>2</th>\n",
       "      <th>3</th>\n",
       "      <th>4</th>\n",
       "      <th>5</th>\n",
       "      <th>6</th>\n",
       "      <th>7</th>\n",
       "      <th>...</th>\n",
       "      <th>119</th>\n",
       "      <th>120</th>\n",
       "      <th>121</th>\n",
       "      <th>122</th>\n",
       "      <th>123</th>\n",
       "      <th>124</th>\n",
       "      <th>125</th>\n",
       "      <th>126</th>\n",
       "      <th>127</th>\n",
       "      <th>label</th>\n",
       "    </tr>\n",
       "  </thead>\n",
       "  <tbody>\n",
       "    <tr>\n",
       "      <th>0</th>\n",
       "      <td>0.067361</td>\n",
       "      <td>0.467824</td>\n",
       "      <td>0.486907</td>\n",
       "      <td>0.489118</td>\n",
       "      <td>0.492924</td>\n",
       "      <td>0.529046</td>\n",
       "      <td>0.520375</td>\n",
       "      <td>0.523863</td>\n",
       "      <td>0.496424</td>\n",
       "      <td>0.484376</td>\n",
       "      <td>...</td>\n",
       "      <td>0.511040</td>\n",
       "      <td>0.501291</td>\n",
       "      <td>0.523022</td>\n",
       "      <td>0.508850</td>\n",
       "      <td>0.458311</td>\n",
       "      <td>0.437911</td>\n",
       "      <td>0.514549</td>\n",
       "      <td>0.477601</td>\n",
       "      <td>0.517328</td>\n",
       "      <td>0.0</td>\n",
       "    </tr>\n",
       "    <tr>\n",
       "      <th>1</th>\n",
       "      <td>0.000000</td>\n",
       "      <td>0.750000</td>\n",
       "      <td>0.460823</td>\n",
       "      <td>0.488046</td>\n",
       "      <td>0.483620</td>\n",
       "      <td>0.468189</td>\n",
       "      <td>0.452302</td>\n",
       "      <td>0.414142</td>\n",
       "      <td>0.491451</td>\n",
       "      <td>0.447040</td>\n",
       "      <td>...</td>\n",
       "      <td>0.547778</td>\n",
       "      <td>0.429446</td>\n",
       "      <td>0.526748</td>\n",
       "      <td>0.475683</td>\n",
       "      <td>0.629307</td>\n",
       "      <td>0.413422</td>\n",
       "      <td>0.456266</td>\n",
       "      <td>0.526150</td>\n",
       "      <td>0.440417</td>\n",
       "      <td>0.0</td>\n",
       "    </tr>\n",
       "    <tr>\n",
       "      <th>2</th>\n",
       "      <td>-0.250000</td>\n",
       "      <td>0.250000</td>\n",
       "      <td>0.470603</td>\n",
       "      <td>0.481402</td>\n",
       "      <td>0.447649</td>\n",
       "      <td>0.519795</td>\n",
       "      <td>0.418868</td>\n",
       "      <td>0.560837</td>\n",
       "      <td>0.416720</td>\n",
       "      <td>0.581265</td>\n",
       "      <td>...</td>\n",
       "      <td>0.527147</td>\n",
       "      <td>0.606056</td>\n",
       "      <td>0.503175</td>\n",
       "      <td>0.500745</td>\n",
       "      <td>0.466062</td>\n",
       "      <td>0.431881</td>\n",
       "      <td>0.470293</td>\n",
       "      <td>0.467286</td>\n",
       "      <td>0.518301</td>\n",
       "      <td>0.0</td>\n",
       "    </tr>\n",
       "    <tr>\n",
       "      <th>3</th>\n",
       "      <td>-0.200000</td>\n",
       "      <td>0.300000</td>\n",
       "      <td>0.523647</td>\n",
       "      <td>0.452554</td>\n",
       "      <td>0.637726</td>\n",
       "      <td>0.519798</td>\n",
       "      <td>0.459194</td>\n",
       "      <td>0.398197</td>\n",
       "      <td>0.459562</td>\n",
       "      <td>0.484419</td>\n",
       "      <td>...</td>\n",
       "      <td>0.438916</td>\n",
       "      <td>0.586857</td>\n",
       "      <td>0.412273</td>\n",
       "      <td>0.607066</td>\n",
       "      <td>0.548012</td>\n",
       "      <td>0.497471</td>\n",
       "      <td>0.443657</td>\n",
       "      <td>0.528045</td>\n",
       "      <td>0.438848</td>\n",
       "      <td>0.0</td>\n",
       "    </tr>\n",
       "    <tr>\n",
       "      <th>4</th>\n",
       "      <td>0.200000</td>\n",
       "      <td>0.200000</td>\n",
       "      <td>0.531526</td>\n",
       "      <td>0.483185</td>\n",
       "      <td>0.468296</td>\n",
       "      <td>0.563911</td>\n",
       "      <td>0.513563</td>\n",
       "      <td>0.509672</td>\n",
       "      <td>0.517133</td>\n",
       "      <td>0.519486</td>\n",
       "      <td>...</td>\n",
       "      <td>0.489404</td>\n",
       "      <td>0.572674</td>\n",
       "      <td>0.491366</td>\n",
       "      <td>0.590320</td>\n",
       "      <td>0.536766</td>\n",
       "      <td>0.451897</td>\n",
       "      <td>0.493557</td>\n",
       "      <td>0.608871</td>\n",
       "      <td>0.501298</td>\n",
       "      <td>0.0</td>\n",
       "    </tr>\n",
       "  </tbody>\n",
       "</table>\n",
       "<p>5 rows × 131 columns</p>\n",
       "</div>"
      ],
      "text/plain": [
       "   sentiment  subjectivity         0         1         2         3         4  \\\n",
       "0   0.067361      0.467824  0.486907  0.489118  0.492924  0.529046  0.520375   \n",
       "1   0.000000      0.750000  0.460823  0.488046  0.483620  0.468189  0.452302   \n",
       "2  -0.250000      0.250000  0.470603  0.481402  0.447649  0.519795  0.418868   \n",
       "3  -0.200000      0.300000  0.523647  0.452554  0.637726  0.519798  0.459194   \n",
       "4   0.200000      0.200000  0.531526  0.483185  0.468296  0.563911  0.513563   \n",
       "\n",
       "          5         6         7  ...       119       120       121       122  \\\n",
       "0  0.523863  0.496424  0.484376  ...  0.511040  0.501291  0.523022  0.508850   \n",
       "1  0.414142  0.491451  0.447040  ...  0.547778  0.429446  0.526748  0.475683   \n",
       "2  0.560837  0.416720  0.581265  ...  0.527147  0.606056  0.503175  0.500745   \n",
       "3  0.398197  0.459562  0.484419  ...  0.438916  0.586857  0.412273  0.607066   \n",
       "4  0.509672  0.517133  0.519486  ...  0.489404  0.572674  0.491366  0.590320   \n",
       "\n",
       "        123       124       125       126       127  label  \n",
       "0  0.458311  0.437911  0.514549  0.477601  0.517328    0.0  \n",
       "1  0.629307  0.413422  0.456266  0.526150  0.440417    0.0  \n",
       "2  0.466062  0.431881  0.470293  0.467286  0.518301    0.0  \n",
       "3  0.548012  0.497471  0.443657  0.528045  0.438848    0.0  \n",
       "4  0.536766  0.451897  0.493557  0.608871  0.501298    0.0  \n",
       "\n",
       "[5 rows x 131 columns]"
      ]
     },
     "execution_count": 89,
     "metadata": {},
     "output_type": "execute_result"
    }
   ],
   "source": [
    "doc_embed = pd.DataFrame(paragraph_df['doc_embedding'].to_list())\n",
    "corpus_final_df = pd.concat([paragraph_df, doc_embed], axis=1)\n",
    "\n",
    "del corpus_final_df['doc_embedding']\n",
    "del corpus_final_df['paragraph']\n",
    "\n",
    "label = corpus_final_df.pop('label')\n",
    "corpus_final_df['label'] = label\n",
    "\n",
    "corpus_final_df['label'].fillna(0, inplace=True)\n",
    "\n",
    "corpus_final_df.head()"
   ]
  },
  {
   "cell_type": "markdown",
   "metadata": {},
   "source": [
    "### Entrenamiento del modelo\n",
    "\n",
    "- Derivado que el corpus no está balanceado, hay que aplicar pasos de preprocesamiento extra para solucionar este problema\n",
    "- El paso que seguí fue utilizar SMOTE (Synthetic Minority Oversampling Technique) el cual generará datos sintéticos de la clase minoritaria (párrafos con lenguaje condescendiente) para que el clasifcicador no tome un sesgo hacía la clase mayoritaria (párrafos sin lenguaje condescendiente)"
   ]
  },
  {
   "cell_type": "markdown",
   "metadata": {},
   "source": [
    "#### Construcción del corpus balanceado"
   ]
  },
  {
   "cell_type": "code",
   "execution_count": 91,
   "metadata": {},
   "outputs": [
    {
     "name": "stdout",
     "output_type": "stream",
     "text": [
      "X shape: (10468, 130)\n",
      "y shape: (10468,)\n"
     ]
    }
   ],
   "source": [
    "X, y = corpus_final_df.iloc[:, :-1], corpus_final_df.iloc[:, -1]\n",
    "print(f\"X shape: {X.shape}\")\n",
    "print(f\"y shape: {y.shape}\")"
   ]
  },
  {
   "cell_type": "code",
   "execution_count": 93,
   "metadata": {},
   "outputs": [
    {
     "name": "stdout",
     "output_type": "stream",
     "text": [
      "X shape: (18952, 130)\n",
      "y shape: (18952,)\n"
     ]
    }
   ],
   "source": [
    "sm = SMOTE(random_state=0)\n",
    "X, y = sm.fit_resample(X, y)\n",
    "print(f\"X shape: {X.shape}\")\n",
    "print(f\"y shape: {y.shape}\")"
   ]
  },
  {
   "cell_type": "code",
   "execution_count": 101,
   "metadata": {},
   "outputs": [
    {
     "data": {
      "application/vnd.plotly.v1+json": {
       "config": {
        "plotlyServerURL": "https://plotly.com"
       },
       "data": [
        {
         "domain": {
          "x": [
           0,
           0.45
          ],
          "y": [
           0,
           1
          ]
         },
         "hole": 0.4,
         "labels": [
          "Sin PCL",
          "PCL"
         ],
         "marker": {
          "colors": [
           "#9bbdcf",
           "#e66f4b"
          ]
         },
         "textfont": {
          "color": "white",
          "size": 20
         },
         "type": "pie",
         "values": [
          9476,
          9476
         ]
        },
        {
         "marker": {
          "color": [
           "#9bbdcf",
           "#e66f4b"
          ]
         },
         "text": [
          9476,
          9476
         ],
         "textfont": {
          "color": "white",
          "size": 15
         },
         "type": "bar",
         "x": [
          "Sin PCL",
          "PCL"
         ],
         "xaxis": "x",
         "y": [
          9476,
          9476
         ],
         "yaxis": "y"
        }
       ],
       "layout": {
        "showlegend": false,
        "template": {
         "data": {
          "bar": [
           {
            "error_x": {
             "color": "#2a3f5f"
            },
            "error_y": {
             "color": "#2a3f5f"
            },
            "marker": {
             "line": {
              "color": "white",
              "width": 0.5
             }
            },
            "type": "bar"
           }
          ],
          "barpolar": [
           {
            "marker": {
             "line": {
              "color": "white",
              "width": 0.5
             }
            },
            "type": "barpolar"
           }
          ],
          "carpet": [
           {
            "aaxis": {
             "endlinecolor": "#2a3f5f",
             "gridcolor": "#C8D4E3",
             "linecolor": "#C8D4E3",
             "minorgridcolor": "#C8D4E3",
             "startlinecolor": "#2a3f5f"
            },
            "baxis": {
             "endlinecolor": "#2a3f5f",
             "gridcolor": "#C8D4E3",
             "linecolor": "#C8D4E3",
             "minorgridcolor": "#C8D4E3",
             "startlinecolor": "#2a3f5f"
            },
            "type": "carpet"
           }
          ],
          "choropleth": [
           {
            "colorbar": {
             "outlinewidth": 0,
             "ticks": ""
            },
            "type": "choropleth"
           }
          ],
          "contour": [
           {
            "colorbar": {
             "outlinewidth": 0,
             "ticks": ""
            },
            "colorscale": [
             [
              0,
              "#0d0887"
             ],
             [
              0.1111111111111111,
              "#46039f"
             ],
             [
              0.2222222222222222,
              "#7201a8"
             ],
             [
              0.3333333333333333,
              "#9c179e"
             ],
             [
              0.4444444444444444,
              "#bd3786"
             ],
             [
              0.5555555555555556,
              "#d8576b"
             ],
             [
              0.6666666666666666,
              "#ed7953"
             ],
             [
              0.7777777777777778,
              "#fb9f3a"
             ],
             [
              0.8888888888888888,
              "#fdca26"
             ],
             [
              1,
              "#f0f921"
             ]
            ],
            "type": "contour"
           }
          ],
          "contourcarpet": [
           {
            "colorbar": {
             "outlinewidth": 0,
             "ticks": ""
            },
            "type": "contourcarpet"
           }
          ],
          "heatmap": [
           {
            "colorbar": {
             "outlinewidth": 0,
             "ticks": ""
            },
            "colorscale": [
             [
              0,
              "#0d0887"
             ],
             [
              0.1111111111111111,
              "#46039f"
             ],
             [
              0.2222222222222222,
              "#7201a8"
             ],
             [
              0.3333333333333333,
              "#9c179e"
             ],
             [
              0.4444444444444444,
              "#bd3786"
             ],
             [
              0.5555555555555556,
              "#d8576b"
             ],
             [
              0.6666666666666666,
              "#ed7953"
             ],
             [
              0.7777777777777778,
              "#fb9f3a"
             ],
             [
              0.8888888888888888,
              "#fdca26"
             ],
             [
              1,
              "#f0f921"
             ]
            ],
            "type": "heatmap"
           }
          ],
          "heatmapgl": [
           {
            "colorbar": {
             "outlinewidth": 0,
             "ticks": ""
            },
            "colorscale": [
             [
              0,
              "#0d0887"
             ],
             [
              0.1111111111111111,
              "#46039f"
             ],
             [
              0.2222222222222222,
              "#7201a8"
             ],
             [
              0.3333333333333333,
              "#9c179e"
             ],
             [
              0.4444444444444444,
              "#bd3786"
             ],
             [
              0.5555555555555556,
              "#d8576b"
             ],
             [
              0.6666666666666666,
              "#ed7953"
             ],
             [
              0.7777777777777778,
              "#fb9f3a"
             ],
             [
              0.8888888888888888,
              "#fdca26"
             ],
             [
              1,
              "#f0f921"
             ]
            ],
            "type": "heatmapgl"
           }
          ],
          "histogram": [
           {
            "marker": {
             "colorbar": {
              "outlinewidth": 0,
              "ticks": ""
             }
            },
            "type": "histogram"
           }
          ],
          "histogram2d": [
           {
            "colorbar": {
             "outlinewidth": 0,
             "ticks": ""
            },
            "colorscale": [
             [
              0,
              "#0d0887"
             ],
             [
              0.1111111111111111,
              "#46039f"
             ],
             [
              0.2222222222222222,
              "#7201a8"
             ],
             [
              0.3333333333333333,
              "#9c179e"
             ],
             [
              0.4444444444444444,
              "#bd3786"
             ],
             [
              0.5555555555555556,
              "#d8576b"
             ],
             [
              0.6666666666666666,
              "#ed7953"
             ],
             [
              0.7777777777777778,
              "#fb9f3a"
             ],
             [
              0.8888888888888888,
              "#fdca26"
             ],
             [
              1,
              "#f0f921"
             ]
            ],
            "type": "histogram2d"
           }
          ],
          "histogram2dcontour": [
           {
            "colorbar": {
             "outlinewidth": 0,
             "ticks": ""
            },
            "colorscale": [
             [
              0,
              "#0d0887"
             ],
             [
              0.1111111111111111,
              "#46039f"
             ],
             [
              0.2222222222222222,
              "#7201a8"
             ],
             [
              0.3333333333333333,
              "#9c179e"
             ],
             [
              0.4444444444444444,
              "#bd3786"
             ],
             [
              0.5555555555555556,
              "#d8576b"
             ],
             [
              0.6666666666666666,
              "#ed7953"
             ],
             [
              0.7777777777777778,
              "#fb9f3a"
             ],
             [
              0.8888888888888888,
              "#fdca26"
             ],
             [
              1,
              "#f0f921"
             ]
            ],
            "type": "histogram2dcontour"
           }
          ],
          "mesh3d": [
           {
            "colorbar": {
             "outlinewidth": 0,
             "ticks": ""
            },
            "type": "mesh3d"
           }
          ],
          "parcoords": [
           {
            "line": {
             "colorbar": {
              "outlinewidth": 0,
              "ticks": ""
             }
            },
            "type": "parcoords"
           }
          ],
          "pie": [
           {
            "automargin": true,
            "type": "pie"
           }
          ],
          "scatter": [
           {
            "marker": {
             "colorbar": {
              "outlinewidth": 0,
              "ticks": ""
             }
            },
            "type": "scatter"
           }
          ],
          "scatter3d": [
           {
            "line": {
             "colorbar": {
              "outlinewidth": 0,
              "ticks": ""
             }
            },
            "marker": {
             "colorbar": {
              "outlinewidth": 0,
              "ticks": ""
             }
            },
            "type": "scatter3d"
           }
          ],
          "scattercarpet": [
           {
            "marker": {
             "colorbar": {
              "outlinewidth": 0,
              "ticks": ""
             }
            },
            "type": "scattercarpet"
           }
          ],
          "scattergeo": [
           {
            "marker": {
             "colorbar": {
              "outlinewidth": 0,
              "ticks": ""
             }
            },
            "type": "scattergeo"
           }
          ],
          "scattergl": [
           {
            "marker": {
             "colorbar": {
              "outlinewidth": 0,
              "ticks": ""
             }
            },
            "type": "scattergl"
           }
          ],
          "scattermapbox": [
           {
            "marker": {
             "colorbar": {
              "outlinewidth": 0,
              "ticks": ""
             }
            },
            "type": "scattermapbox"
           }
          ],
          "scatterpolar": [
           {
            "marker": {
             "colorbar": {
              "outlinewidth": 0,
              "ticks": ""
             }
            },
            "type": "scatterpolar"
           }
          ],
          "scatterpolargl": [
           {
            "marker": {
             "colorbar": {
              "outlinewidth": 0,
              "ticks": ""
             }
            },
            "type": "scatterpolargl"
           }
          ],
          "scatterternary": [
           {
            "marker": {
             "colorbar": {
              "outlinewidth": 0,
              "ticks": ""
             }
            },
            "type": "scatterternary"
           }
          ],
          "surface": [
           {
            "colorbar": {
             "outlinewidth": 0,
             "ticks": ""
            },
            "colorscale": [
             [
              0,
              "#0d0887"
             ],
             [
              0.1111111111111111,
              "#46039f"
             ],
             [
              0.2222222222222222,
              "#7201a8"
             ],
             [
              0.3333333333333333,
              "#9c179e"
             ],
             [
              0.4444444444444444,
              "#bd3786"
             ],
             [
              0.5555555555555556,
              "#d8576b"
             ],
             [
              0.6666666666666666,
              "#ed7953"
             ],
             [
              0.7777777777777778,
              "#fb9f3a"
             ],
             [
              0.8888888888888888,
              "#fdca26"
             ],
             [
              1,
              "#f0f921"
             ]
            ],
            "type": "surface"
           }
          ],
          "table": [
           {
            "cells": {
             "fill": {
              "color": "#EBF0F8"
             },
             "line": {
              "color": "white"
             }
            },
            "header": {
             "fill": {
              "color": "#C8D4E3"
             },
             "line": {
              "color": "white"
             }
            },
            "type": "table"
           }
          ]
         },
         "layout": {
          "annotationdefaults": {
           "arrowcolor": "#2a3f5f",
           "arrowhead": 0,
           "arrowwidth": 1
          },
          "autotypenumbers": "strict",
          "coloraxis": {
           "colorbar": {
            "outlinewidth": 0,
            "ticks": ""
           }
          },
          "colorscale": {
           "diverging": [
            [
             0,
             "#8e0152"
            ],
            [
             0.1,
             "#c51b7d"
            ],
            [
             0.2,
             "#de77ae"
            ],
            [
             0.3,
             "#f1b6da"
            ],
            [
             0.4,
             "#fde0ef"
            ],
            [
             0.5,
             "#f7f7f7"
            ],
            [
             0.6,
             "#e6f5d0"
            ],
            [
             0.7,
             "#b8e186"
            ],
            [
             0.8,
             "#7fbc41"
            ],
            [
             0.9,
             "#4d9221"
            ],
            [
             1,
             "#276419"
            ]
           ],
           "sequential": [
            [
             0,
             "#0d0887"
            ],
            [
             0.1111111111111111,
             "#46039f"
            ],
            [
             0.2222222222222222,
             "#7201a8"
            ],
            [
             0.3333333333333333,
             "#9c179e"
            ],
            [
             0.4444444444444444,
             "#bd3786"
            ],
            [
             0.5555555555555556,
             "#d8576b"
            ],
            [
             0.6666666666666666,
             "#ed7953"
            ],
            [
             0.7777777777777778,
             "#fb9f3a"
            ],
            [
             0.8888888888888888,
             "#fdca26"
            ],
            [
             1,
             "#f0f921"
            ]
           ],
           "sequentialminus": [
            [
             0,
             "#0d0887"
            ],
            [
             0.1111111111111111,
             "#46039f"
            ],
            [
             0.2222222222222222,
             "#7201a8"
            ],
            [
             0.3333333333333333,
             "#9c179e"
            ],
            [
             0.4444444444444444,
             "#bd3786"
            ],
            [
             0.5555555555555556,
             "#d8576b"
            ],
            [
             0.6666666666666666,
             "#ed7953"
            ],
            [
             0.7777777777777778,
             "#fb9f3a"
            ],
            [
             0.8888888888888888,
             "#fdca26"
            ],
            [
             1,
             "#f0f921"
            ]
           ]
          },
          "colorway": [
           "#636efa",
           "#EF553B",
           "#00cc96",
           "#ab63fa",
           "#FFA15A",
           "#19d3f3",
           "#FF6692",
           "#B6E880",
           "#FF97FF",
           "#FECB52"
          ],
          "font": {
           "color": "#2a3f5f"
          },
          "geo": {
           "bgcolor": "white",
           "lakecolor": "white",
           "landcolor": "white",
           "showlakes": true,
           "showland": true,
           "subunitcolor": "#C8D4E3"
          },
          "hoverlabel": {
           "align": "left"
          },
          "hovermode": "closest",
          "mapbox": {
           "style": "light"
          },
          "paper_bgcolor": "white",
          "plot_bgcolor": "white",
          "polar": {
           "angularaxis": {
            "gridcolor": "#EBF0F8",
            "linecolor": "#EBF0F8",
            "ticks": ""
           },
           "bgcolor": "white",
           "radialaxis": {
            "gridcolor": "#EBF0F8",
            "linecolor": "#EBF0F8",
            "ticks": ""
           }
          },
          "scene": {
           "xaxis": {
            "backgroundcolor": "white",
            "gridcolor": "#DFE8F3",
            "gridwidth": 2,
            "linecolor": "#EBF0F8",
            "showbackground": true,
            "ticks": "",
            "zerolinecolor": "#EBF0F8"
           },
           "yaxis": {
            "backgroundcolor": "white",
            "gridcolor": "#DFE8F3",
            "gridwidth": 2,
            "linecolor": "#EBF0F8",
            "showbackground": true,
            "ticks": "",
            "zerolinecolor": "#EBF0F8"
           },
           "zaxis": {
            "backgroundcolor": "white",
            "gridcolor": "#DFE8F3",
            "gridwidth": 2,
            "linecolor": "#EBF0F8",
            "showbackground": true,
            "ticks": "",
            "zerolinecolor": "#EBF0F8"
           }
          },
          "shapedefaults": {
           "line": {
            "color": "#2a3f5f"
           }
          },
          "ternary": {
           "aaxis": {
            "gridcolor": "#DFE8F3",
            "linecolor": "#A2B1C6",
            "ticks": ""
           },
           "baxis": {
            "gridcolor": "#DFE8F3",
            "linecolor": "#A2B1C6",
            "ticks": ""
           },
           "bgcolor": "white",
           "caxis": {
            "gridcolor": "#DFE8F3",
            "linecolor": "#A2B1C6",
            "ticks": ""
           }
          },
          "title": {
           "x": 0.05
          },
          "xaxis": {
           "automargin": true,
           "gridcolor": "#EBF0F8",
           "linecolor": "#EBF0F8",
           "ticks": "",
           "title": {
            "standoff": 15
           },
           "zerolinecolor": "#EBF0F8",
           "zerolinewidth": 2
          },
          "yaxis": {
           "automargin": true,
           "gridcolor": "#EBF0F8",
           "linecolor": "#EBF0F8",
           "ticks": "",
           "title": {
            "standoff": 15
           },
           "zerolinecolor": "#EBF0F8",
           "zerolinewidth": 2
          }
         }
        },
        "title": {
         "font": {
          "size": 25
         },
         "text": "PCL vs. Sin PCL"
        },
        "width": 1000,
        "xaxis": {
         "anchor": "y",
         "domain": [
          0.55,
          1
         ]
        },
        "yaxis": {
         "anchor": "x",
         "domain": [
          0,
          1
         ]
        }
       }
      }
     },
     "metadata": {},
     "output_type": "display_data"
    }
   ],
   "source": [
    "plot_pcl_vs_no_pcl(y)"
   ]
  },
  {
   "cell_type": "markdown",
   "metadata": {},
   "source": [
    "#### División en corpus de entrenamiento y prueba"
   ]
  },
  {
   "cell_type": "code",
   "execution_count": 105,
   "metadata": {},
   "outputs": [
    {
     "name": "stdout",
     "output_type": "stream",
     "text": [
      "X_train shape: (14214, 130)\n",
      "y_train shape: (14214,)\n",
      "X_test shape: (4738, 130)\n",
      "y_test shape: (4738,)\n"
     ]
    }
   ],
   "source": [
    "X_train, X_test, y_train, y_test = train_test_split(X, y, random_state=0)\n",
    "print(f\"X_train shape: {X_train.shape}\")\n",
    "print(f\"y_train shape: {y_train.shape}\")\n",
    "print(f\"X_test shape: {X_test.shape}\")\n",
    "print(f\"y_test shape: {y_test.shape}\")"
   ]
  },
  {
   "cell_type": "markdown",
   "metadata": {},
   "source": [
    "#### Entrenamiento del modelo"
   ]
  },
  {
   "cell_type": "code",
   "execution_count": 109,
   "metadata": {},
   "outputs": [],
   "source": [
    "dtrain = xgb.DMatrix(X_train, label=y_train)\n",
    "param = {\n",
    "    'eta': 0.1, 'objective': 'binary:logistic',\n",
    "    'eval_metric': 'logloss'\n",
    "}\n",
    "num_round = 10\n",
    "bst = xgb.train(param, dtrain, num_round)"
   ]
  },
  {
   "cell_type": "markdown",
   "metadata": {},
   "source": [
    "#### Prueba del modelo"
   ]
  },
  {
   "cell_type": "code",
   "execution_count": 111,
   "metadata": {},
   "outputs": [],
   "source": [
    "dtest = xgb.DMatrix(X_test)\n",
    "y_pred = bst.predict(dtest)"
   ]
  },
  {
   "cell_type": "code",
   "execution_count": 113,
   "metadata": {},
   "outputs": [
    {
     "data": {
      "text/plain": [
       "<AxesSubplot:title={'center':'Feature importance'}, xlabel='F score', ylabel='Features'>"
      ]
     },
     "execution_count": 113,
     "metadata": {},
     "output_type": "execute_result"
    },
    {
     "data": {
      "image/png": "[encoded data removed]",
      "text/plain": [
       "<Figure size 432x288 with 1 Axes>"
      ]
     },
     "metadata": {
      "needs_background": "light"
     },
     "output_type": "display_data"
    }
   ],
   "source": [
    "xgb.plot_importance(bst)"
   ]
  },
  {
   "cell_type": "markdown",
   "metadata": {},
   "source": [
    "#### Evaluación del modelo"
   ]
  },
  {
   "cell_type": "code",
   "execution_count": 138,
   "metadata": {},
   "outputs": [
    {
     "data": {
      "image/png": "[encoded data removed]",
      "text/plain": [
       "<Figure size 432x432 with 2 Axes>"
      ]
     },
     "metadata": {},
     "output_type": "display_data"
    }
   ],
   "source": [
    "y_pred = [0 if val < 0.5 else 1 for val in y_pred]\n",
    "cm = confusion_matrix(y_test, y_pred, labels=[0, 1])\n",
    "with plt.style.context(('ggplot', 'seaborn')):\n",
    "    fig = plt.figure(figsize=(6,6), num=1)\n",
    "    plt.imshow(cm, interpolation='nearest',cmap= plt.cm.Blues)\n",
    "    plt.xticks([0,1],[0,1])\n",
    "    plt.yticks([0,1],[0,1])\n",
    "    plt.xlabel('Predicted Label')\n",
    "    plt.ylabel('Actual Label')\n",
    "    for i, j in itertools.product(range(cm.shape[0]), range(cm.shape[1])):\n",
    "        if (i==0 and j == 1) or (i == 1 and j == 0): color = 'black'\n",
    "        else: color = 'white'\n",
    "        plt.text(j, i,cm[i, j], horizontalalignment=\"center\", color=color)\n",
    "\n",
    "    plt.grid(None)\n",
    "    plt.title('Matriz de confusión')\n",
    "    plt.colorbar()"
   ]
  },
  {
   "cell_type": "code",
   "execution_count": 139,
   "metadata": {},
   "outputs": [
    {
     "name": "stdout",
     "output_type": "stream",
     "text": [
      "              precision    recall  f1-score   support\n",
      "\n",
      "         0.0       0.81      0.76      0.78      2324\n",
      "         1.0       0.78      0.83      0.80      2414\n",
      "\n",
      "    accuracy                           0.79      4738\n",
      "   macro avg       0.80      0.79      0.79      4738\n",
      "weighted avg       0.80      0.79      0.79      4738\n",
      "\n"
     ]
    }
   ],
   "source": [
    "print(classification_report(y_test, y_pred))"
   ]
  },
  {
   "cell_type": "markdown",
   "metadata": {},
   "source": [
    "#### Ejemplo concreto"
   ]
  },
  {
   "cell_type": "code",
   "execution_count": 250,
   "metadata": {},
   "outputs": [
    {
     "name": "stdout",
     "output_type": "stream",
     "text": [
      "=== Paragraph example ===\n",
      "Pga america stripped grand slam golf trump national los angeles trump comments mexican immigrants event later discontinued\n",
      "\n",
      "=== Real Label (0: No PCL, 1: PCL) ===\n",
      "\t0.0\n"
     ]
    }
   ],
   "source": [
    "random_index = X_test.sample(n=1).index.values[0]\n",
    "while random_index not in paragraph_df.index:\n",
    "    random_index = X_test.sample(n=1).index.values[0]\n",
    "tdf = paragraph_df.loc[[random_index]][['paragraph', 'label']]\n",
    "test_paragraph, real_label = tdf['paragraph'].values[0], tdf['label'].values[0]\n",
    "print(f\"=== Paragraph example ===\\n{test_paragraph.capitalize()}\")\n",
    "print(f\"\\n=== Real Label (0: No PCL, 1: PCL) ===\\n\\t{real_label}\")"
   ]
  },
  {
   "cell_type": "code",
   "execution_count": 251,
   "metadata": {},
   "outputs": [
    {
     "name": "stdout",
     "output_type": "stream",
     "text": [
      "=== Model prediction ===\n",
      "\tNO PCL\n",
      "\t0.30601516366004944\n"
     ]
    }
   ],
   "source": [
    "y_pred_ = bst.predict(\n",
    "    xgb.DMatrix(X_test.loc[[random_index]])\n",
    ")[0]\n",
    "if y_pred_ < 0.5:\n",
    "    print(f\"=== Model prediction ===\\n\\tNO PCL\\n\\t{y_pred_}\")\n",
    "else:\n",
    "    print(f\"=== Model prediction ===\\n\\tPCL\\n\\t{y_pred_}\")"
   ]
  },
  {
   "cell_type": "code",
   "execution_count": null,
   "metadata": {},
   "outputs": [],
   "source": []
  }
 ],
 "metadata": {
  "interpreter": {
   "hash": "aee8b7b246df8f9039afb4144a1f6fd8d2ca17a180786b69acc140d282b71a49"
  },
  "kernelspec": {
   "display_name": "Python 3.9.7 64-bit",
   "language": "python",
   "name": "python3"
  },
  "language_info": {
   "codemirror_mode": {
    "name": "ipython",
    "version": 3
   },
   "file_extension": ".py",
   "mimetype": "text/x-python",
   "name": "python",
   "nbconvert_exporter": "python",
   "pygments_lexer": "ipython3",
   "version": "3.9.7"
  },
  "orig_nbformat": 4
 },
 "nbformat": 4,
 "nbformat_minor": 2
}
